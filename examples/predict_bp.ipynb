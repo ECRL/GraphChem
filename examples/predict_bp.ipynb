{
 "cells": [
  {
   "cell_type": "markdown",
   "id": "trained-creature",
   "metadata": {},
   "source": [
    "First, let's import everything we need, and load some boiling point data:"
   ]
  },
  {
   "cell_type": "code",
   "execution_count": 1,
   "id": "alternative-bearing",
   "metadata": {},
   "outputs": [],
   "source": [
    "# Import the Graph Operator - handles data preparation, model creation/recall, hand-off of data to model\n",
    "from graphchem import GraphOperator"
   ]
  },
  {
   "cell_type": "code",
   "execution_count": 2,
   "id": "helpful-biology",
   "metadata": {},
   "outputs": [],
   "source": [
    "# Other dependencies are for data segmentation, set metric calculations, plotting\n",
    "from sklearn.model_selection import train_test_split\n",
    "from sklearn.metrics import median_absolute_error, r2_score\n",
    "from matplotlib import pyplot as plt"
   ]
  },
  {
   "cell_type": "code",
   "execution_count": 3,
   "id": "union-drilling",
   "metadata": {},
   "outputs": [
    {
     "name": "stdout",
     "output_type": "stream",
     "text": [
      "['COC1=C(C(=CC=C1)OC)O', 'CC(CO)O', 'C1=C(OC(=C1)C=O)CO'] \n",
      " [[261.0], [188.2], [115.0]]\n"
     ]
    }
   ],
   "source": [
    "# Load some boiling point data\n",
    "from graphchem.datasets import load_bp\n",
    "smiles, bp = load_bp()\n",
    "print(smiles[:3], '\\n', bp[:3])"
   ]
  },
  {
   "cell_type": "code",
   "execution_count": 4,
   "id": "revolutionary-admission",
   "metadata": {},
   "outputs": [
    {
     "name": "stdout",
     "output_type": "stream",
     "text": [
      "164 164 41 41\n"
     ]
    }
   ],
   "source": [
    "# Create training, testing subsets\n",
    "X_train, X_test, y_train, y_test = train_test_split(\n",
    "    smiles, bp, test_size=0.20, random_state=42\n",
    ")\n",
    "print(len(X_train), len(y_train), len(X_test), len(y_test))"
   ]
  },
  {
   "cell_type": "markdown",
   "id": "european-diversity",
   "metadata": {},
   "source": [
    "We need to set up some variables for our training process (i.e. hyper-parameters). In the future, these will be tunable to reduce model error."
   ]
  },
  {
   "cell_type": "code",
   "execution_count": 5,
   "id": "mobile-prevention",
   "metadata": {},
   "outputs": [],
   "source": [
    "training_config = {\n",
    "    'task': 'graph',\n",
    "    'valid_size': 0.2,\n",
    "    'valid_epoch_iter': 1,\n",
    "    'valid_patience': 48,\n",
    "    'batch_size': 32,\n",
    "    'learning_rate': 0.001,\n",
    "    'lr_decay': 0.0000001,\n",
    "    'epochs': 500,\n",
    "    'verbose': 1\n",
    "}"
   ]
  },
  {
   "cell_type": "markdown",
   "id": "lyric-frank",
   "metadata": {},
   "source": [
    "We also need to define our model's architecture:"
   ]
  },
  {
   "cell_type": "code",
   "execution_count": 6,
   "id": "precise-queens",
   "metadata": {},
   "outputs": [],
   "source": [
    "model_config = {\n",
    "    'n_messages': 2,\n",
    "    'n_hidden': 3,\n",
    "    'hidden_msg_dim': 128,\n",
    "    'hidden_dim': 256,\n",
    "    'dropout': 0.01\n",
    "}"
   ]
  },
  {
   "cell_type": "markdown",
   "id": "linear-spider",
   "metadata": {},
   "source": [
    "Now let's initialize the Graph Operator, and train our model:"
   ]
  },
  {
   "cell_type": "code",
   "execution_count": 7,
   "id": "matched-incentive",
   "metadata": {},
   "outputs": [
    {
     "name": "stderr",
     "output_type": "stream",
     "text": [
      "/Users/tjkessler/anaconda3/envs/torch_geometric/lib/python3.8/site-packages/graphchem-1.0.0-py3.8.egg/graphchem/operator.py:43: UserWarning: device config value not found: default value set, cpu\n",
      "  warnings.warn(\n"
     ]
    },
    {
     "name": "stdout",
     "output_type": "stream",
     "text": [
      "Epoch: 0 | Train Loss: 18931.709174469226 | Valid Loss: 2552.481689453125\n",
      "Epoch: 1 | Train Loss: 7229.232816972805 | Valid Loss: 2552.481689453125\n",
      "Epoch: 2 | Train Loss: 2890.3863944716127 | Valid Loss: 2552.481689453125\n",
      "Epoch: 3 | Train Loss: 3961.2754306938814 | Valid Loss: 2552.481689453125\n",
      "Epoch: 4 | Train Loss: 4047.176399056238 | Valid Loss: 1710.22119140625\n",
      "Epoch: 5 | Train Loss: 2707.2440875104367 | Valid Loss: 1710.22119140625\n",
      "Epoch: 6 | Train Loss: 2362.7919330160125 | Valid Loss: 1710.22119140625\n",
      "Epoch: 7 | Train Loss: 2307.459964781317 | Valid Loss: 1708.009765625\n",
      "Epoch: 8 | Train Loss: 2197.4168207299617 | Valid Loss: 1668.715576171875\n",
      "Epoch: 9 | Train Loss: 1940.8684305671518 | Valid Loss: 1668.715576171875\n",
      "Epoch: 10 | Train Loss: 1925.1983167342557 | Valid Loss: 1530.70068359375\n",
      "Epoch: 11 | Train Loss: 2086.1711859084267 | Valid Loss: 1530.70068359375\n",
      "Epoch: 12 | Train Loss: 2397.741449487118 | Valid Loss: 1530.70068359375\n",
      "Epoch: 13 | Train Loss: 2157.597443791746 | Valid Loss: 1530.70068359375\n",
      "Epoch: 14 | Train Loss: 1927.3683448383827 | Valid Loss: 1530.70068359375\n",
      "Epoch: 15 | Train Loss: 1899.1620935338144 | Valid Loss: 1530.70068359375\n",
      "Epoch: 16 | Train Loss: 2344.146007275763 | Valid Loss: 1530.70068359375\n",
      "Epoch: 17 | Train Loss: 2619.063230558206 | Valid Loss: 1530.70068359375\n",
      "Epoch: 18 | Train Loss: 2372.12696989802 | Valid Loss: 1530.70068359375\n",
      "Epoch: 19 | Train Loss: 2037.7569309846135 | Valid Loss: 1530.70068359375\n",
      "Epoch: 20 | Train Loss: 2051.0235810025047 | Valid Loss: 1530.70068359375\n",
      "Epoch: 21 | Train Loss: 1782.900789450143 | Valid Loss: 1520.9556884765625\n",
      "Epoch: 22 | Train Loss: 2105.2027735819343 | Valid Loss: 1520.9556884765625\n",
      "Epoch: 23 | Train Loss: 1950.7962378581972 | Valid Loss: 1481.1109619140625\n",
      "Epoch: 24 | Train Loss: 1835.139469059369 | Valid Loss: 1481.1109619140625\n",
      "Epoch: 25 | Train Loss: 1786.872402045563 | Valid Loss: 1481.1109619140625\n",
      "Epoch: 26 | Train Loss: 1834.789187365816 | Valid Loss: 1480.3956298828125\n",
      "Epoch: 27 | Train Loss: 1722.8666395813455 | Valid Loss: 1421.3548583984375\n",
      "Epoch: 28 | Train Loss: 1680.7267451395514 | Valid Loss: 1318.864990234375\n",
      "Epoch: 29 | Train Loss: 1683.8607904565242 | Valid Loss: 1318.864990234375\n",
      "Epoch: 30 | Train Loss: 1857.4157342109972 | Valid Loss: 1318.864990234375\n",
      "Epoch: 31 | Train Loss: 2498.242567688454 | Valid Loss: 1318.864990234375\n",
      "Epoch: 32 | Train Loss: 2573.5107878473877 | Valid Loss: 1318.864990234375\n",
      "Epoch: 33 | Train Loss: 2312.5024409403327 | Valid Loss: 1272.2701416015625\n",
      "Epoch: 34 | Train Loss: 1719.150752875641 | Valid Loss: 1272.2701416015625\n",
      "Epoch: 35 | Train Loss: 1562.8781190828513 | Valid Loss: 1272.2701416015625\n",
      "Epoch: 36 | Train Loss: 1625.8857063118737 | Valid Loss: 1272.2701416015625\n",
      "Epoch: 37 | Train Loss: 1620.2546863701507 | Valid Loss: 1272.2701416015625\n",
      "Epoch: 38 | Train Loss: 1451.3815801489445 | Valid Loss: 1193.45263671875\n",
      "Epoch: 39 | Train Loss: 1559.613959625477 | Valid Loss: 1184.5216064453125\n",
      "Epoch: 40 | Train Loss: 1556.2578945014313 | Valid Loss: 1184.5216064453125\n",
      "Epoch: 41 | Train Loss: 1807.7114183265744 | Valid Loss: 1184.5216064453125\n",
      "Epoch: 42 | Train Loss: 2048.126047381918 | Valid Loss: 1184.5216064453125\n",
      "Epoch: 43 | Train Loss: 1410.6022730237655 | Valid Loss: 1123.89404296875\n",
      "Epoch: 44 | Train Loss: 1292.6217497614505 | Valid Loss: 986.052490234375\n",
      "Epoch: 45 | Train Loss: 1474.0101886778386 | Valid Loss: 951.2969970703125\n",
      "Epoch: 46 | Train Loss: 1198.9592810769118 | Valid Loss: 951.2969970703125\n",
      "Epoch: 47 | Train Loss: 1082.6177265662272 | Valid Loss: 951.2969970703125\n",
      "Epoch: 48 | Train Loss: 1364.3103113538436 | Valid Loss: 951.2969970703125\n",
      "Epoch: 49 | Train Loss: 1042.150692306402 | Valid Loss: 749.2001342773438\n",
      "Epoch: 50 | Train Loss: 1018.6391778611045 | Valid Loss: 699.80126953125\n",
      "Epoch: 51 | Train Loss: 1253.3428647572757 | Valid Loss: 699.80126953125\n",
      "Epoch: 52 | Train Loss: 1193.0557303101052 | Valid Loss: 699.80126953125\n",
      "Epoch: 53 | Train Loss: 1342.56620823518 | Valid Loss: 699.80126953125\n",
      "Epoch: 54 | Train Loss: 895.9718225493685 | Valid Loss: 699.80126953125\n",
      "Epoch: 55 | Train Loss: 881.1665383841246 | Valid Loss: 699.80126953125\n",
      "Epoch: 56 | Train Loss: 1019.5094278350131 | Valid Loss: 699.80126953125\n",
      "Epoch: 57 | Train Loss: 1109.4638040557163 | Valid Loss: 699.80126953125\n",
      "Epoch: 58 | Train Loss: 825.054305273158 | Valid Loss: 698.4114990234375\n",
      "Epoch: 59 | Train Loss: 783.8300492381321 | Valid Loss: 698.4114990234375\n",
      "Epoch: 60 | Train Loss: 848.2137264804986 | Valid Loss: 698.4114990234375\n",
      "Epoch: 61 | Train Loss: 732.1322412854843 | Valid Loss: 681.1275024414062\n",
      "Epoch: 62 | Train Loss: 788.0704655538078 | Valid Loss: 681.1275024414062\n",
      "Epoch: 63 | Train Loss: 779.6094657956189 | Valid Loss: 650.4855346679688\n",
      "Epoch: 64 | Train Loss: 734.1198712414457 | Valid Loss: 650.4855346679688\n",
      "Epoch: 65 | Train Loss: 739.5168729592825 | Valid Loss: 590.2500610351562\n",
      "Epoch: 66 | Train Loss: 814.1052507007395 | Valid Loss: 590.2500610351562\n",
      "Epoch: 67 | Train Loss: 2078.9333570640506 | Valid Loss: 590.2500610351562\n",
      "Epoch: 68 | Train Loss: 2243.297058571386 | Valid Loss: 590.2500610351562\n",
      "Epoch: 69 | Train Loss: 1138.1981303673665 | Valid Loss: 590.2500610351562\n",
      "Epoch: 70 | Train Loss: 945.0855701242695 | Valid Loss: 590.2500610351562\n",
      "Epoch: 71 | Train Loss: 1137.0408654831747 | Valid Loss: 590.2500610351562\n",
      "Epoch: 72 | Train Loss: 939.4389159224415 | Valid Loss: 549.5554809570312\n",
      "Epoch: 73 | Train Loss: 754.0125858510723 | Valid Loss: 529.5031127929688\n",
      "Epoch: 74 | Train Loss: 742.9928584208016 | Valid Loss: 529.5031127929688\n",
      "Epoch: 75 | Train Loss: 1079.4182636756022 | Valid Loss: 529.5031127929688\n",
      "Epoch: 76 | Train Loss: 1273.5030890603102 | Valid Loss: 529.5031127929688\n",
      "Epoch: 77 | Train Loss: 1183.5577393742917 | Valid Loss: 529.5031127929688\n",
      "Epoch: 78 | Train Loss: 1245.274495132097 | Valid Loss: 529.5031127929688\n",
      "Epoch: 79 | Train Loss: 1157.7030047933563 | Valid Loss: 529.5031127929688\n",
      "Epoch: 80 | Train Loss: 879.1940841092409 | Valid Loss: 529.5031127929688\n",
      "Epoch: 81 | Train Loss: 911.9256979672963 | Valid Loss: 529.5031127929688\n",
      "Epoch: 82 | Train Loss: 1087.3830038172598 | Valid Loss: 529.5031127929688\n",
      "Epoch: 83 | Train Loss: 880.1236264760257 | Valid Loss: 529.5031127929688\n",
      "Epoch: 84 | Train Loss: 982.2207515803913 | Valid Loss: 496.5706787109375\n",
      "Epoch: 85 | Train Loss: 800.9261600407025 | Valid Loss: 496.5706787109375\n",
      "Epoch: 86 | Train Loss: 993.5756780027433 | Valid Loss: 496.5706787109375\n",
      "Epoch: 87 | Train Loss: 863.2304594316555 | Valid Loss: 496.5706787109375\n",
      "Epoch: 88 | Train Loss: 793.6440560144323 | Valid Loss: 496.5706787109375\n",
      "Epoch: 89 | Train Loss: 1157.4780574245308 | Valid Loss: 496.5706787109375\n",
      "Epoch: 90 | Train Loss: 1329.3164917458105 | Valid Loss: 496.5706787109375\n",
      "Epoch: 91 | Train Loss: 1575.9226027627028 | Valid Loss: 496.5706787109375\n",
      "Epoch: 92 | Train Loss: 844.0083762598401 | Valid Loss: 496.5706787109375\n",
      "Epoch: 93 | Train Loss: 853.1551877087309 | Valid Loss: 496.5706787109375\n",
      "Epoch: 94 | Train Loss: 761.8968170398974 | Valid Loss: 496.5706787109375\n",
      "Epoch: 95 | Train Loss: 712.1949271864563 | Valid Loss: 496.5706787109375\n",
      "Epoch: 96 | Train Loss: 784.6175694356438 | Valid Loss: 488.07281494140625\n",
      "Epoch: 97 | Train Loss: 718.3867689525808 | Valid Loss: 488.07281494140625\n",
      "Epoch: 98 | Train Loss: 732.5273586593512 | Valid Loss: 488.07281494140625\n",
      "Epoch: 99 | Train Loss: 865.3726270835818 | Valid Loss: 488.07281494140625\n",
      "Epoch: 100 | Train Loss: 903.6889041580316 | Valid Loss: 488.07281494140625\n",
      "Epoch: 101 | Train Loss: 592.2426286653708 | Valid Loss: 488.07281494140625\n",
      "Epoch: 102 | Train Loss: 704.3825197292648 | Valid Loss: 488.07281494140625\n",
      "Epoch: 103 | Train Loss: 797.3300757954139 | Valid Loss: 488.07281494140625\n",
      "Epoch: 104 | Train Loss: 836.5280447224625 | Valid Loss: 488.07281494140625\n",
      "Epoch: 105 | Train Loss: 724.4936646905564 | Valid Loss: 488.07281494140625\n",
      "Epoch: 106 | Train Loss: 924.3163183081241 | Valid Loss: 488.07281494140625\n",
      "Epoch: 107 | Train Loss: 923.1425755333354 | Valid Loss: 488.07281494140625\n",
      "Epoch: 108 | Train Loss: 862.6904967795801 | Valid Loss: 488.07281494140625\n",
      "Epoch: 109 | Train Loss: 806.1505844465648 | Valid Loss: 488.07281494140625\n",
      "Epoch: 110 | Train Loss: 6423.358602509244 | Valid Loss: 488.07281494140625\n"
     ]
    },
    {
     "name": "stdout",
     "output_type": "stream",
     "text": [
      "Epoch: 111 | Train Loss: 3064.735844502922 | Valid Loss: 488.07281494140625\n",
      "Epoch: 112 | Train Loss: 1507.7532544318046 | Valid Loss: 488.07281494140625\n",
      "Epoch: 113 | Train Loss: 1277.259955719227 | Valid Loss: 488.07281494140625\n",
      "Epoch: 114 | Train Loss: 1036.8736972954437 | Valid Loss: 488.07281494140625\n",
      "Epoch: 115 | Train Loss: 1111.1091557859465 | Valid Loss: 488.07281494140625\n",
      "Epoch: 116 | Train Loss: 934.1309902103802 | Valid Loss: 488.07281494140625\n",
      "Epoch: 117 | Train Loss: 817.7492247137404 | Valid Loss: 488.07281494140625\n",
      "Epoch: 118 | Train Loss: 2250.076365696565 | Valid Loss: 488.07281494140625\n",
      "Epoch: 119 | Train Loss: 1331.5517331188871 | Valid Loss: 461.0298156738281\n",
      "Epoch: 120 | Train Loss: 1102.8731628883886 | Valid Loss: 461.0298156738281\n",
      "Epoch: 121 | Train Loss: 979.6987565601145 | Valid Loss: 461.0298156738281\n",
      "Epoch: 122 | Train Loss: 788.497579909463 | Valid Loss: 461.0298156738281\n",
      "Epoch: 123 | Train Loss: 825.2813469107824 | Valid Loss: 461.0298156738281\n",
      "Epoch: 124 | Train Loss: 744.6440835035485 | Valid Loss: 461.0298156738281\n",
      "Epoch: 125 | Train Loss: 856.8548183295563 | Valid Loss: 461.0298156738281\n",
      "Epoch: 126 | Train Loss: 874.0058856993231 | Valid Loss: 461.0298156738281\n",
      "Epoch: 127 | Train Loss: 667.7894306910857 | Valid Loss: 461.0298156738281\n",
      "Epoch: 128 | Train Loss: 702.2829114608182 | Valid Loss: 461.0298156738281\n",
      "Epoch: 129 | Train Loss: 709.4942897185115 | Valid Loss: 415.4627685546875\n",
      "Epoch: 130 | Train Loss: 631.5403620596151 | Valid Loss: 415.4627685546875\n",
      "Epoch: 131 | Train Loss: 684.8694965857586 | Valid Loss: 415.4627685546875\n",
      "Epoch: 132 | Train Loss: 887.0671945819417 | Valid Loss: 415.4627685546875\n",
      "Epoch: 133 | Train Loss: 1005.1616054272833 | Valid Loss: 415.4627685546875\n",
      "Epoch: 134 | Train Loss: 1047.7898556949528 | Valid Loss: 415.4627685546875\n",
      "Epoch: 135 | Train Loss: 761.7192019397066 | Valid Loss: 415.4627685546875\n",
      "Epoch: 136 | Train Loss: 630.1009985072012 | Valid Loss: 415.4627685546875\n",
      "Epoch: 137 | Train Loss: 619.8063887967409 | Valid Loss: 415.4627685546875\n",
      "Epoch: 138 | Train Loss: 673.3046404423604 | Valid Loss: 415.4627685546875\n",
      "Epoch: 139 | Train Loss: 624.5156715917224 | Valid Loss: 415.4627685546875\n",
      "Epoch: 140 | Train Loss: 651.6939110209923 | Valid Loss: 415.4627685546875\n",
      "Epoch: 141 | Train Loss: 3970.948279460878 | Valid Loss: 415.4627685546875\n",
      "Epoch: 142 | Train Loss: 2193.667820588323 | Valid Loss: 415.4627685546875\n",
      "Epoch: 143 | Train Loss: 1751.086995132097 | Valid Loss: 415.4627685546875\n",
      "Epoch: 144 | Train Loss: 1190.0284729003906 | Valid Loss: 415.4627685546875\n",
      "Epoch: 145 | Train Loss: 978.6894159681015 | Valid Loss: 415.4627685546875\n",
      "Epoch: 146 | Train Loss: 1102.5016102099237 | Valid Loss: 415.4627685546875\n",
      "Epoch: 147 | Train Loss: 1386.9121983724697 | Valid Loss: 415.4627685546875\n",
      "Epoch: 148 | Train Loss: 1102.1287868587115 | Valid Loss: 415.4627685546875\n",
      "Epoch: 149 | Train Loss: 971.5781429378131 | Valid Loss: 412.9530944824219\n",
      "Epoch: 150 | Train Loss: 863.7419750417462 | Valid Loss: 383.4814453125\n",
      "Epoch: 151 | Train Loss: 848.6023312634184 | Valid Loss: 383.4814453125\n",
      "Epoch: 152 | Train Loss: 638.4124613754622 | Valid Loss: 383.4814453125\n",
      "Epoch: 153 | Train Loss: 813.5153208725325 | Valid Loss: 383.4814453125\n",
      "Epoch: 154 | Train Loss: 701.4088637956227 | Valid Loss: 383.4814453125\n",
      "Epoch: 155 | Train Loss: 591.6617590052481 | Valid Loss: 383.4814453125\n",
      "Epoch: 156 | Train Loss: 617.2836504055343 | Valid Loss: 383.4814453125\n",
      "Epoch: 157 | Train Loss: 644.9389407325338 | Valid Loss: 383.4814453125\n",
      "Epoch: 158 | Train Loss: 645.1183843248673 | Valid Loss: 383.4814453125\n",
      "Epoch: 159 | Train Loss: 599.9166994167648 | Valid Loss: 383.4814453125\n",
      "Epoch: 160 | Train Loss: 646.3885607537422 | Valid Loss: 383.4814453125\n",
      "Epoch: 161 | Train Loss: 632.6924503704973 | Valid Loss: 383.4814453125\n",
      "Epoch: 162 | Train Loss: 635.9187547232359 | Valid Loss: 383.4814453125\n",
      "Epoch: 163 | Train Loss: 597.3965987576784 | Valid Loss: 383.4814453125\n",
      "Epoch: 164 | Train Loss: 686.3690976441361 | Valid Loss: 383.4814453125\n",
      "Epoch: 165 | Train Loss: 596.0961106278514 | Valid Loss: 383.4814453125\n",
      "Epoch: 166 | Train Loss: 597.966669679598 | Valid Loss: 383.4814453125\n",
      "Epoch: 167 | Train Loss: 617.8718858092795 | Valid Loss: 383.4814453125\n",
      "Epoch: 168 | Train Loss: 596.9689437342054 | Valid Loss: 383.4814453125\n",
      "Epoch: 169 | Train Loss: 782.8612096291462 | Valid Loss: 383.4814453125\n",
      "Epoch: 170 | Train Loss: 750.571901685409 | Valid Loss: 383.4814453125\n",
      "Epoch: 171 | Train Loss: 666.6727335835232 | Valid Loss: 383.4814453125\n",
      "Epoch: 172 | Train Loss: 647.2618670863959 | Valid Loss: 383.4814453125\n",
      "Epoch: 173 | Train Loss: 628.3407611410126 | Valid Loss: 383.4814453125\n",
      "Epoch: 174 | Train Loss: 725.7946893823056 | Valid Loss: 383.4814453125\n",
      "Epoch: 175 | Train Loss: 662.532953626327 | Valid Loss: 383.4814453125\n",
      "Epoch: 176 | Train Loss: 762.0264470923038 | Valid Loss: 383.4814453125\n",
      "Epoch: 177 | Train Loss: 550.0755287345129 | Valid Loss: 383.4814453125\n",
      "Epoch: 178 | Train Loss: 579.4301852160738 | Valid Loss: 383.4814453125\n",
      "Epoch: 179 | Train Loss: 672.3537122420682 | Valid Loss: 383.4814453125\n",
      "Epoch: 180 | Train Loss: 1212.7941952770902 | Valid Loss: 383.4814453125\n",
      "Epoch: 181 | Train Loss: 739.6883363214158 | Valid Loss: 383.4814453125\n",
      "Epoch: 182 | Train Loss: 783.4027313931298 | Valid Loss: 383.4814453125\n",
      "Epoch: 183 | Train Loss: 3767.241596716961 | Valid Loss: 383.4814453125\n",
      "Epoch: 184 | Train Loss: 1680.20028756411 | Valid Loss: 383.4814453125\n",
      "Epoch: 185 | Train Loss: 1108.593933571386 | Valid Loss: 383.4814453125\n",
      "Epoch: 186 | Train Loss: 1918.3642974737036 | Valid Loss: 383.4814453125\n",
      "Epoch: 187 | Train Loss: 1334.0357974685785 | Valid Loss: 383.4814453125\n",
      "Epoch: 188 | Train Loss: 1004.2185094702335 | Valid Loss: 383.4814453125\n",
      "Epoch: 189 | Train Loss: 687.4152454638299 | Valid Loss: 383.4814453125\n",
      "Epoch: 190 | Train Loss: 649.8549404581084 | Valid Loss: 383.4814453125\n",
      "Epoch: 191 | Train Loss: 773.4395374560174 | Valid Loss: 383.4814453125\n",
      "Epoch: 192 | Train Loss: 635.1245205711772 | Valid Loss: 383.4814453125\n",
      "Epoch: 193 | Train Loss: 678.0354297434101 | Valid Loss: 383.4814453125\n",
      "Epoch: 194 | Train Loss: 681.5088666377177 | Valid Loss: 383.4814453125\n",
      "Epoch: 195 | Train Loss: 673.4283222169366 | Valid Loss: 383.4814453125\n",
      "Epoch: 196 | Train Loss: 699.4510083671745 | Valid Loss: 383.4814453125\n",
      "Epoch: 197 | Train Loss: 607.3606129420623 | Valid Loss: 383.4814453125\n",
      "Epoch: 198 | Train Loss: 662.641288466126 | Valid Loss: 383.4814453125\n"
     ]
    }
   ],
   "source": [
    "go = GraphOperator(config=training_config)\n",
    "go.train(X_train, y_train, model_config=model_config)"
   ]
  },
  {
   "cell_type": "markdown",
   "id": "medical-malawi",
   "metadata": {},
   "source": [
    "Let's get predictions, then calculate prediction errors for the training and testing subsets:"
   ]
  },
  {
   "cell_type": "code",
   "execution_count": 8,
   "id": "extended-charlotte",
   "metadata": {},
   "outputs": [
    {
     "name": "stdout",
     "output_type": "stream",
     "text": [
      "Test Set: R2 = 0.8344013398176608, MAE = 13.503341674804688\n",
      "Train Set: R2 = 0.8855013602748739, MAE = 11.009143066406253\n"
     ]
    }
   ],
   "source": [
    "y_train_pred = go.use(X_train)\n",
    "y_test_pred = go.use(X_test)\n",
    "\n",
    "mae_test = median_absolute_error(y_test, y_test_pred)\n",
    "r2_test = r2_score(y_test, y_test_pred)\n",
    "\n",
    "mae_train = median_absolute_error(y_train, y_train_pred)\n",
    "r2_train = r2_score(y_train, y_train_pred)\n",
    "\n",
    "print('Test Set: R2 = {}, MAE = {}'.format(r2_test, mae_test))\n",
    "print('Train Set: R2 = {}, MAE = {}'.format(r2_train, mae_train))"
   ]
  },
  {
   "cell_type": "markdown",
   "id": "secret-stomach",
   "metadata": {},
   "source": [
    "And let's plot our results:"
   ]
  },
  {
   "cell_type": "code",
   "execution_count": 9,
   "id": "second-rocket",
   "metadata": {},
   "outputs": [
    {
     "data": {
      "image/png": "[encoded data removed]",
      "text/plain": [
       "<Figure size 432x288 with 1 Axes>"
      ]
     },
     "metadata": {
      "needs_background": "light"
     },
     "output_type": "display_data"
    }
   ],
   "source": [
    "plt.title('Predicted Boiling Point vs. Experimental Boiling Point')\n",
    "plt.xlabel('Experimental Value')\n",
    "plt.ylabel('Predicted Value')\n",
    "plt.scatter(y_train, y_train_pred, color='blue', label='Train')\n",
    "plt.scatter(y_test, y_test_pred, color='red', label='Test')\n",
    "plt.legend(loc='upper left')\n",
    "plt.show()"
   ]
  },
  {
   "cell_type": "code",
   "execution_count": null,
   "id": "official-array",
   "metadata": {},
   "outputs": [],
   "source": []
  }
 ],
 "metadata": {
  "kernelspec": {
   "display_name": "Python 3",
   "language": "python",
   "name": "python3"
  },
  "language_info": {
   "codemirror_mode": {
    "name": "ipython",
    "version": 3
   },
   "file_extension": ".py",
   "mimetype": "text/x-python",
   "name": "python",
   "nbconvert_exporter": "python",
   "pygments_lexer": "ipython3",
   "version": "3.8.8"
  }
 },
 "nbformat": 4,
 "nbformat_minor": 5
}
