{
 "cells": [
  {
   "cell_type": "markdown",
   "id": "trained-creature",
   "metadata": {},
   "source": [
    "First, let's import everything we need, and load some cetane number data:"
   ]
  },
  {
   "cell_type": "code",
   "execution_count": 1,
   "id": "alternative-bearing",
   "metadata": {},
   "outputs": [],
   "source": [
    "# Import the Graph Operator - handles data preparation, model creation/recall, hand-off of data to model\n",
    "from graphchem import GraphOperator"
   ]
  },
  {
   "cell_type": "code",
   "execution_count": 2,
   "id": "helpful-biology",
   "metadata": {},
   "outputs": [],
   "source": [
    "# Other dependencies are for data segmentation, set metric calculations, plotting\n",
    "from sklearn.model_selection import train_test_split\n",
    "from sklearn.metrics import median_absolute_error, r2_score\n",
    "from matplotlib import pyplot as plt"
   ]
  },
  {
   "cell_type": "code",
   "execution_count": 3,
   "id": "union-drilling",
   "metadata": {},
   "outputs": [
    {
     "name": "stdout",
     "output_type": "stream",
     "text": [
      "['CC1=CC=C(O1)C(C2=CC=CO2)C3=CC=C(O3)C', 'CCCCC1=CC=CO1', 'C1CCOCC1'] \n",
      " [[25.5], [13.1], [38.2]]\n"
     ]
    }
   ],
   "source": [
    "# Load some cetane number data\n",
    "from graphchem.datasets import load_cn\n",
    "smiles, cn = load_cn()\n",
    "print(smiles[:3], '\\n', cn[:3])"
   ]
  },
  {
   "cell_type": "code",
   "execution_count": 4,
   "id": "revolutionary-admission",
   "metadata": {},
   "outputs": [
    {
     "name": "stdout",
     "output_type": "stream",
     "text": [
      "368 368 92 92\n"
     ]
    }
   ],
   "source": [
    "# Create training, testing subsets\n",
    "X_train, X_test, y_train, y_test = train_test_split(\n",
    "    smiles, cn, test_size=0.20, random_state=42\n",
    ")\n",
    "print(len(X_train), len(y_train), len(X_test), len(y_test))"
   ]
  },
  {
   "cell_type": "markdown",
   "id": "european-diversity",
   "metadata": {},
   "source": [
    "We need to set up some variables for our training process (i.e. hyper-parameters). In the future, these will be tunable to reduce model error."
   ]
  },
  {
   "cell_type": "code",
   "execution_count": 5,
   "id": "mobile-prevention",
   "metadata": {},
   "outputs": [],
   "source": [
    "training_config = {\n",
    "    'task': 'graph',\n",
    "    'valid_size': 0.2,\n",
    "    'valid_epoch_iter': 1,\n",
    "    'valid_patience': 48,\n",
    "    'batch_size': 32,\n",
    "    'learning_rate': 0.002,\n",
    "    'lr_decay': 0.0000001,\n",
    "    'epochs': 500,\n",
    "    'verbose': 1\n",
    "}"
   ]
  },
  {
   "cell_type": "markdown",
   "id": "lyric-frank",
   "metadata": {},
   "source": [
    "We also need to define our model's architecture:"
   ]
  },
  {
   "cell_type": "code",
   "execution_count": 6,
   "id": "precise-queens",
   "metadata": {},
   "outputs": [],
   "source": [
    "model_config = {\n",
    "    'n_messages': 2,\n",
    "    'n_hidden': 3,\n",
    "    'hidden_msg_dim': 128,\n",
    "    'hidden_dim': 256,\n",
    "    'dropout': 0.01\n",
    "}"
   ]
  },
  {
   "cell_type": "markdown",
   "id": "linear-spider",
   "metadata": {},
   "source": [
    "Now let's initialize the Graph Operator, and train our model:"
   ]
  },
  {
   "cell_type": "code",
   "execution_count": 7,
   "id": "matched-incentive",
   "metadata": {},
   "outputs": [
    {
     "name": "stderr",
     "output_type": "stream",
     "text": [
      "/Users/tjkessler/anaconda3/envs/torch_geometric/lib/python3.8/site-packages/graphchem-1.0.0-py3.8.egg/graphchem/operator.py:43: UserWarning: device config value not found: default value set, cpu\n",
      "  warnings.warn(\n"
     ]
    },
    {
     "name": "stdout",
     "output_type": "stream",
     "text": [
      "Epoch: 0 | Train Loss: 3773.1604695222813 | Valid Loss: 883.2693481445312\n",
      "Epoch: 1 | Train Loss: 604.8151932281702 | Valid Loss: 466.1271057128906\n",
      "Epoch: 2 | Train Loss: 358.2356429846108 | Valid Loss: 425.5957336425781\n",
      "Epoch: 3 | Train Loss: 360.35298748405614 | Valid Loss: 363.82763671875\n",
      "Epoch: 4 | Train Loss: 399.4377628248565 | Valid Loss: 363.82763671875\n",
      "Epoch: 5 | Train Loss: 330.20345737171823 | Valid Loss: 363.82763671875\n",
      "Epoch: 6 | Train Loss: 274.7915805115992 | Valid Loss: 347.2899169921875\n",
      "Epoch: 7 | Train Loss: 275.06204265153326 | Valid Loss: 347.2899169921875\n",
      "Epoch: 8 | Train Loss: 354.8677006935587 | Valid Loss: 311.00421142578125\n",
      "Epoch: 9 | Train Loss: 378.0789961003933 | Valid Loss: 311.00421142578125\n",
      "Epoch: 10 | Train Loss: 307.9520719359521 | Valid Loss: 311.00421142578125\n",
      "Epoch: 11 | Train Loss: 284.021933834569 | Valid Loss: 311.00421142578125\n",
      "Epoch: 12 | Train Loss: 261.06994670426764 | Valid Loss: 309.27276611328125\n",
      "Epoch: 13 | Train Loss: 274.65874870455997 | Valid Loss: 309.27276611328125\n",
      "Epoch: 14 | Train Loss: 242.3872379899836 | Valid Loss: 309.27276611328125\n",
      "Epoch: 15 | Train Loss: 249.5186125048164 | Valid Loss: 309.27276611328125\n",
      "Epoch: 16 | Train Loss: 255.55805419091465 | Valid Loss: 309.27276611328125\n",
      "Epoch: 17 | Train Loss: 334.6307145722058 | Valid Loss: 307.6470947265625\n",
      "Epoch: 18 | Train Loss: 277.5495419664448 | Valid Loss: 307.6470947265625\n",
      "Epoch: 19 | Train Loss: 275.35966076494077 | Valid Loss: 307.6470947265625\n",
      "Epoch: 20 | Train Loss: 255.03415000033218 | Valid Loss: 307.6470947265625\n",
      "Epoch: 21 | Train Loss: 226.67243023307955 | Valid Loss: 303.2436828613281\n",
      "Epoch: 22 | Train Loss: 234.4793024906496 | Valid Loss: 303.2436828613281\n",
      "Epoch: 23 | Train Loss: 311.04029358325363 | Valid Loss: 303.2436828613281\n",
      "Epoch: 24 | Train Loss: 330.62799487470767 | Valid Loss: 303.2436828613281\n",
      "Epoch: 25 | Train Loss: 448.0657651732568 | Valid Loss: 303.2436828613281\n",
      "Epoch: 26 | Train Loss: 391.10956412594334 | Valid Loss: 303.2436828613281\n",
      "Epoch: 27 | Train Loss: 277.4448750294796 | Valid Loss: 303.2436828613281\n",
      "Epoch: 28 | Train Loss: 227.77957630806227 | Valid Loss: 303.2436828613281\n",
      "Epoch: 29 | Train Loss: 233.54053492124388 | Valid Loss: 283.47784423828125\n",
      "Epoch: 30 | Train Loss: 226.4639702102765 | Valid Loss: 283.47784423828125\n",
      "Epoch: 31 | Train Loss: 204.74390027312194 | Valid Loss: 283.47784423828125\n",
      "Epoch: 32 | Train Loss: 200.8824394381776 | Valid Loss: 283.4012451171875\n",
      "Epoch: 33 | Train Loss: 217.30684885038 | Valid Loss: 269.8028259277344\n",
      "Epoch: 34 | Train Loss: 198.1035388764881 | Valid Loss: 269.8028259277344\n",
      "Epoch: 35 | Train Loss: 196.25307428269159 | Valid Loss: 266.9226989746094\n",
      "Epoch: 36 | Train Loss: 175.8059194136639 | Valid Loss: 266.9226989746094\n",
      "Epoch: 37 | Train Loss: 186.92246126966413 | Valid Loss: 266.9226989746094\n",
      "Epoch: 38 | Train Loss: 216.86864819169855 | Valid Loss: 266.9226989746094\n",
      "Epoch: 39 | Train Loss: 195.70066546745042 | Valid Loss: 266.9226989746094\n",
      "Epoch: 40 | Train Loss: 217.91208326897655 | Valid Loss: 260.8974914550781\n",
      "Epoch: 41 | Train Loss: 173.78701823747076 | Valid Loss: 260.8974914550781\n",
      "Epoch: 42 | Train Loss: 207.88935499126407 | Valid Loss: 260.8974914550781\n",
      "Epoch: 43 | Train Loss: 283.496367992998 | Valid Loss: 260.8974914550781\n",
      "Epoch: 44 | Train Loss: 235.57478207957988 | Valid Loss: 257.5631408691406\n",
      "Epoch: 45 | Train Loss: 185.46193606837267 | Valid Loss: 257.5631408691406\n",
      "Epoch: 46 | Train Loss: 166.44108363560267 | Valid Loss: 249.5227813720703\n",
      "Epoch: 47 | Train Loss: 199.39481120206872 | Valid Loss: 249.5227813720703\n",
      "Epoch: 48 | Train Loss: 264.0589445983471 | Valid Loss: 249.5227813720703\n",
      "Epoch: 49 | Train Loss: 255.59664699009485 | Valid Loss: 249.5227813720703\n",
      "Epoch: 50 | Train Loss: 208.43417021044257 | Valid Loss: 249.5227813720703\n",
      "Epoch: 51 | Train Loss: 183.40573182397958 | Valid Loss: 249.5227813720703\n",
      "Epoch: 52 | Train Loss: 163.93862437553148 | Valid Loss: 249.5227813720703\n",
      "Epoch: 53 | Train Loss: 196.12276640392486 | Valid Loss: 249.5227813720703\n",
      "Epoch: 54 | Train Loss: 236.55903833090852 | Valid Loss: 249.5227813720703\n",
      "Epoch: 55 | Train Loss: 175.94212356878788 | Valid Loss: 249.5227813720703\n",
      "Epoch: 56 | Train Loss: 186.85462131629995 | Valid Loss: 239.2299346923828\n",
      "Epoch: 57 | Train Loss: 184.49608980555112 | Valid Loss: 239.2299346923828\n",
      "Epoch: 58 | Train Loss: 250.26883754600473 | Valid Loss: 239.2299346923828\n",
      "Epoch: 59 | Train Loss: 192.88560766103316 | Valid Loss: 239.2299346923828\n",
      "Epoch: 60 | Train Loss: 162.9671305442343 | Valid Loss: 239.2299346923828\n",
      "Epoch: 61 | Train Loss: 153.10206702615127 | Valid Loss: 239.2299346923828\n",
      "Epoch: 62 | Train Loss: 147.58358930730495 | Valid Loss: 239.2299346923828\n",
      "Epoch: 63 | Train Loss: 143.5005790295244 | Valid Loss: 222.2113037109375\n",
      "Epoch: 64 | Train Loss: 138.76662273796236 | Valid Loss: 222.2113037109375\n",
      "Epoch: 65 | Train Loss: 151.96719022997382 | Valid Loss: 222.2113037109375\n",
      "Epoch: 66 | Train Loss: 157.2834457086057 | Valid Loss: 222.2113037109375\n",
      "Epoch: 67 | Train Loss: 184.33598971204694 | Valid Loss: 222.2113037109375\n",
      "Epoch: 68 | Train Loss: 158.62452656233393 | Valid Loss: 222.2113037109375\n",
      "Epoch: 69 | Train Loss: 162.91855636908085 | Valid Loss: 222.2113037109375\n",
      "Epoch: 70 | Train Loss: 182.33796769745496 | Valid Loss: 222.2113037109375\n",
      "Epoch: 71 | Train Loss: 164.69481965149342 | Valid Loss: 222.2113037109375\n",
      "Epoch: 72 | Train Loss: 154.20012254779843 | Valid Loss: 222.2113037109375\n",
      "Epoch: 73 | Train Loss: 143.4159999510058 | Valid Loss: 222.2113037109375\n",
      "Epoch: 74 | Train Loss: 179.87197894141786 | Valid Loss: 222.2113037109375\n",
      "Epoch: 75 | Train Loss: 179.34075263406143 | Valid Loss: 222.2113037109375\n",
      "Epoch: 76 | Train Loss: 253.80196022500797 | Valid Loss: 222.2113037109375\n",
      "Epoch: 77 | Train Loss: 171.96708497546967 | Valid Loss: 222.2113037109375\n",
      "Epoch: 78 | Train Loss: 155.7742599175901 | Valid Loss: 222.2113037109375\n",
      "Epoch: 79 | Train Loss: 159.68122458944515 | Valid Loss: 222.2113037109375\n",
      "Epoch: 80 | Train Loss: 170.20356283382495 | Valid Loss: 222.2113037109375\n",
      "Epoch: 81 | Train Loss: 148.07838014356133 | Valid Loss: 222.2113037109375\n",
      "Epoch: 82 | Train Loss: 198.52618641756018 | Valid Loss: 222.2113037109375\n",
      "Epoch: 83 | Train Loss: 168.32260085125358 | Valid Loss: 222.2113037109375\n",
      "Epoch: 84 | Train Loss: 139.30127747204838 | Valid Loss: 222.2113037109375\n",
      "Epoch: 85 | Train Loss: 131.77569626788704 | Valid Loss: 222.2113037109375\n",
      "Epoch: 86 | Train Loss: 139.70498091509552 | Valid Loss: 222.2113037109375\n",
      "Epoch: 87 | Train Loss: 139.29892367408388 | Valid Loss: 222.2113037109375\n",
      "Epoch: 88 | Train Loss: 136.27908179873512 | Valid Loss: 222.2113037109375\n",
      "Epoch: 89 | Train Loss: 160.74011874036725 | Valid Loss: 222.2113037109375\n",
      "Epoch: 90 | Train Loss: 134.25709834715136 | Valid Loss: 222.2113037109375\n",
      "Epoch: 91 | Train Loss: 122.34303823458094 | Valid Loss: 222.2113037109375\n",
      "Epoch: 92 | Train Loss: 140.41677737073834 | Valid Loss: 222.2113037109375\n",
      "Epoch: 93 | Train Loss: 119.70667796232263 | Valid Loss: 222.2113037109375\n",
      "Epoch: 94 | Train Loss: 125.98681920888473 | Valid Loss: 222.2113037109375\n",
      "Epoch: 95 | Train Loss: 120.65982841958805 | Valid Loss: 222.2113037109375\n",
      "Epoch: 96 | Train Loss: 114.97428676060268 | Valid Loss: 222.2113037109375\n",
      "Epoch: 97 | Train Loss: 137.30000299985716 | Valid Loss: 222.2113037109375\n",
      "Epoch: 98 | Train Loss: 133.028474301708 | Valid Loss: 222.2113037109375\n",
      "Epoch: 99 | Train Loss: 117.11050139965654 | Valid Loss: 222.2113037109375\n",
      "Epoch: 100 | Train Loss: 121.96941754607116 | Valid Loss: 222.2113037109375\n",
      "Epoch: 101 | Train Loss: 129.4183544755793 | Valid Loss: 222.2113037109375\n",
      "Epoch: 102 | Train Loss: 147.82670229957216 | Valid Loss: 222.2113037109375\n",
      "Epoch: 103 | Train Loss: 118.4335725485873 | Valid Loss: 222.2113037109375\n",
      "Epoch: 104 | Train Loss: 139.12769213825666 | Valid Loss: 222.2113037109375\n",
      "Epoch: 105 | Train Loss: 163.27198210216704 | Valid Loss: 222.2113037109375\n",
      "Epoch: 106 | Train Loss: 260.6560838400912 | Valid Loss: 222.2113037109375\n",
      "Epoch: 107 | Train Loss: 203.4436525228072 | Valid Loss: 222.2113037109375\n",
      "Epoch: 108 | Train Loss: 208.55712353453345 | Valid Loss: 222.2113037109375\n",
      "Epoch: 109 | Train Loss: 180.6951148623512 | Valid Loss: 222.2113037109375\n"
     ]
    },
    {
     "name": "stdout",
     "output_type": "stream",
     "text": [
      "Epoch: 110 | Train Loss: 155.19402531215124 | Valid Loss: 222.2113037109375\n",
      "Epoch: 111 | Train Loss: 132.323028149248 | Valid Loss: 222.2113037109375\n"
     ]
    }
   ],
   "source": [
    "go = GraphOperator(config=training_config)\n",
    "go.train(X_train, y_train, model_config=model_config)"
   ]
  },
  {
   "cell_type": "markdown",
   "id": "medical-malawi",
   "metadata": {},
   "source": [
    "Let's get predictions, then calculate prediction errors for the training and testing subsets:"
   ]
  },
  {
   "cell_type": "code",
   "execution_count": 8,
   "id": "extended-charlotte",
   "metadata": {},
   "outputs": [
    {
     "name": "stdout",
     "output_type": "stream",
     "text": [
      "Test Set: R2 = 0.6703377971204935, MAE = 9.869721412658691\n",
      "Train Set: R2 = 0.7205368925296933, MAE = 8.29267692565918\n"
     ]
    }
   ],
   "source": [
    "y_train_pred = go.use(X_train)\n",
    "y_test_pred = go.use(X_test)\n",
    "\n",
    "mae_test = median_absolute_error(y_test, y_test_pred)\n",
    "r2_test = r2_score(y_test, y_test_pred)\n",
    "\n",
    "mae_train = median_absolute_error(y_train, y_train_pred)\n",
    "r2_train = r2_score(y_train, y_train_pred)\n",
    "\n",
    "print('Test Set: R2 = {}, MAE = {}'.format(r2_test, mae_test))\n",
    "print('Train Set: R2 = {}, MAE = {}'.format(r2_train, mae_train))"
   ]
  },
  {
   "cell_type": "markdown",
   "id": "secret-stomach",
   "metadata": {},
   "source": [
    "And let's plot our results:"
   ]
  },
  {
   "cell_type": "code",
   "execution_count": 9,
   "id": "second-rocket",
   "metadata": {},
   "outputs": [
    {
     "data": {
      "image/png": "[encoded data removed]",
      "text/plain": [
       "<Figure size 432x288 with 1 Axes>"
      ]
     },
     "metadata": {
      "needs_background": "light"
     },
     "output_type": "display_data"
    }
   ],
   "source": [
    "plt.title('Predicted Cetane Number vs. Experimental Cetane Number')\n",
    "plt.xlabel('Experimental Value')\n",
    "plt.ylabel('Predicted Value')\n",
    "plt.scatter(y_train, y_train_pred, color='blue', label='Train')\n",
    "plt.scatter(y_test, y_test_pred, color='red', label='Test')\n",
    "plt.legend(loc='upper left')\n",
    "plt.show()"
   ]
  },
  {
   "cell_type": "code",
   "execution_count": null,
   "id": "official-array",
   "metadata": {},
   "outputs": [],
   "source": []
  }
 ],
 "metadata": {
  "kernelspec": {
   "display_name": "Python 3",
   "language": "python",
   "name": "python3"
  },
  "language_info": {
   "codemirror_mode": {
    "name": "ipython",
    "version": 3
   },
   "file_extension": ".py",
   "mimetype": "text/x-python",
   "name": "python",
   "nbconvert_exporter": "python",
   "pygments_lexer": "ipython3",
   "version": "3.8.8"
  }
 },
 "nbformat": 4,
 "nbformat_minor": 5
}
