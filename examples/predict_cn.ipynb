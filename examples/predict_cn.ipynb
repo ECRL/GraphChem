{
 "cells": [
  {
   "cell_type": "code",
   "execution_count": 1,
   "metadata": {},
   "outputs": [
    {
     "name": "stdout",
     "output_type": "stream",
     "text": [
      "368 92 <class 'list'>\n",
      "368 92 <class 'torch.Tensor'> torch.Size([460, 1]) \n",
      "\n",
      "CC1=CC=C(O1)C(C2=CC=CO2)C3=CC=C(O3)C\ttensor([25.5000])\n",
      "CCCCC1=CC=CO1\ttensor([13.1000])\n",
      "C1CCOCC1\ttensor([38.2000])\n",
      "CC1=CC=C(C)O1\ttensor([10.9000])\n",
      "C1C=CCO1\ttensor([15.6000])\n"
     ]
    }
   ],
   "source": [
    "from graphchem.datasets import load_cn\n",
    "from sklearn.model_selection import train_test_split\n",
    "\n",
    "# load cetane number data\n",
    "smiles, cn = load_cn()\n",
    "\n",
    "# create training/testing subsets\n",
    "smiles_train, smiles_test, cn_train, cn_test = train_test_split(smiles, cn, test_size=0.2, random_state=42)\n",
    "\n",
    "print(len(smiles_train), len(smiles_test), type(smiles))\n",
    "print(len(cn_train), len(cn_test), type(cn), cn.shape, '\\n')\n",
    "\n",
    "for i in range(5):\n",
    "\n",
    "    print(f'{smiles[i]}\\t{cn[i]}')"
   ]
  },
  {
   "cell_type": "code",
   "execution_count": 2,
   "metadata": {},
   "outputs": [
    {
     "name": "stdout",
     "output_type": "stream",
     "text": [
      "368 16 6\n",
      "92 16 6\n"
     ]
    }
   ],
   "source": [
    "from graphchem.data import MoleculeGraph, MoleculeDataset\n",
    "from graphchem.preprocessing import MoleculeEncoder\n",
    "from sklearn.model_selection import train_test_split\n",
    "\n",
    "# construct encoder using training data\n",
    "encoder = MoleculeEncoder(smiles_train)\n",
    "\n",
    "# encode training and test data; each element in form (atom attr, bond attr, connectivity)\n",
    "encoding_train = encoder.encode_many(smiles_train)\n",
    "encoding_test = encoder.encode_many(smiles_test)\n",
    "\n",
    "# construct graphs using encoded data\n",
    "graphs_train = [MoleculeGraph(e[0], e[1], e[2], cn_train[i]) for i, e in enumerate(encoding_train)]\n",
    "graphs_test = [MoleculeGraph(e[0], e[1], e[2], cn_test[i]) for i, e in enumerate(encoding_test)]\n",
    "\n",
    "# construct datasets for training and testing graphs\n",
    "ds_train = MoleculeDataset(graphs_train)\n",
    "ds_test = MoleculeDataset(graphs_test)\n",
    "\n",
    "print(len(ds_train), ds_train.num_node_features, ds_train.num_edge_features)\n",
    "print(len(ds_test), ds_test.num_node_features, ds_test.num_edge_features)"
   ]
  },
  {
   "cell_type": "code",
   "execution_count": 3,
   "metadata": {},
   "outputs": [
    {
     "name": "stdout",
     "output_type": "stream",
     "text": [
      "0: 230.50316636458686\n",
      "5: 102.63830085422681\n",
      "10: 182.69198417663574\n",
      "15: 90.16919368246327\n",
      "20: 59.34193240041318\n",
      "25: 111.04531677909519\n",
      "30: 82.74109002818231\n",
      "35: 86.01167297363281\n",
      "40: 77.70856761932373\n",
      "45: 63.2419202638709\n"
     ]
    },
    {
     "data": {
      "text/plain": [
       "MoleculeGCN(\n",
       "  (lin0_atom): Linear(in_features=16, out_features=16, bias=True)\n",
       "  (lin0_bond): Linear(in_features=6, out_features=6, bias=True)\n",
       "  (atom_conv): MFConv(16, 16)\n",
       "  (bond_conv): EdgeConv(nn=Sequential(\n",
       "    (0): Linear(in_features=12, out_features=6, bias=True)\n",
       "  ))\n",
       "  (atom_gru): GRU(16, 16)\n",
       "  (bond_gru): GRU(6, 6)\n",
       "  (readout): ModuleList(\n",
       "    (0): Sequential(\n",
       "      (0): Linear(in_features=22, out_features=16, bias=True)\n",
       "    )\n",
       "    (1): Sequential(\n",
       "      (0): Linear(in_features=16, out_features=16, bias=True)\n",
       "    )\n",
       "    (2): Sequential(\n",
       "      (0): Linear(in_features=16, out_features=1, bias=True)\n",
       "    )\n",
       "  )\n",
       ")"
      ]
     },
     "execution_count": 3,
     "metadata": {},
     "output_type": "execute_result"
    }
   ],
   "source": [
    "from graphchem.nn import MoleculeGCN\n",
    "import torch\n",
    "import torch.nn.functional as F\n",
    "from torch_geometric.loader import DataLoader\n",
    "\n",
    "# prepare training set for training\n",
    "train_loader = DataLoader(ds_train, batch_size=9, shuffle=True)\n",
    "\n",
    "# construct untrained model\n",
    "model = MoleculeGCN(\n",
    "    ds_train.num_node_features,     # number of node/atom features per sample\n",
    "    ds_train.num_edge_features,     # number of edge/bond features per sample\n",
    "    1,                              # number of target variables/labels per sample\n",
    "    n_messages=2,                   # number of message-passing ops to perform (>= 1)\n",
    "    n_readout=2,                    # number of post-graph-operation feed-forward layers (>= 1)\n",
    "    readout_dim=16,                 # number of neurons in each readout layer (>= 1)\n",
    "    dropout=0.0                     # neuron dropout rate [0.0, 1.0]\n",
    ")\n",
    "\n",
    "# construct torch optimizer\n",
    "optimizer = torch.optim.Adam(model.parameters(), lr=0.001)\n",
    "\n",
    "# training loop\n",
    "model.train()\n",
    "for epoch in range(50):\n",
    "\n",
    "    train_loss = 0.0\n",
    "    for batch in train_loader:\n",
    "\n",
    "        pred, _, _ = model(batch)\n",
    "        target = batch.y\n",
    "        loss = F.mse_loss(pred.reshape((-1,)), target)\n",
    "        loss.backward()\n",
    "        optimizer.step()\n",
    "        train_loss += loss.detach().item()\n",
    "\n",
    "    train_loss /= len(train_loader.dataset)\n",
    "\n",
    "    if epoch % 5 == 0:\n",
    "        print(f'{epoch}: {train_loss}')\n",
    "\n",
    "# done training\n",
    "model.eval()"
   ]
  },
  {
   "cell_type": "code",
   "execution_count": null,
   "metadata": {},
   "outputs": [],
   "source": []
  }
 ],
 "metadata": {
  "kernelspec": {
   "display_name": "Python 3.6.13 ('graphchem')",
   "language": "python",
   "name": "python3"
  },
  "language_info": {
   "codemirror_mode": {
    "name": "ipython",
    "version": 3
   },
   "file_extension": ".py",
   "mimetype": "text/x-python",
   "name": "python",
   "nbconvert_exporter": "python",
   "pygments_lexer": "ipython3",
   "version": "3.6.13"
  },
  "orig_nbformat": 4,
  "vscode": {
   "interpreter": {
    "hash": "7b712ff9cd32652e56b63efe35a56ffcbb9145d3b2abc83659e2bd8c0cb9ba4d"
   }
  }
 },
 "nbformat": 4,
 "nbformat_minor": 2
}
