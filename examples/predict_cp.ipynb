{
 "cells": [
  {
   "cell_type": "markdown",
   "id": "trained-creature",
   "metadata": {},
   "source": [
    "First, let's import everything we need, and load some cloud point data:"
   ]
  },
  {
   "cell_type": "code",
   "execution_count": 1,
   "id": "alternative-bearing",
   "metadata": {},
   "outputs": [],
   "source": [
    "# Import the Graph Operator - handles data preparation, model creation/recall, hand-off of data to model\n",
    "from graphchem import GraphOperator"
   ]
  },
  {
   "cell_type": "code",
   "execution_count": 2,
   "id": "helpful-biology",
   "metadata": {},
   "outputs": [],
   "source": [
    "# Other dependencies are for data segmentation, set metric calculations, plotting\n",
    "from sklearn.model_selection import train_test_split\n",
    "from sklearn.metrics import median_absolute_error, r2_score\n",
    "from matplotlib import pyplot as plt"
   ]
  },
  {
   "cell_type": "code",
   "execution_count": 3,
   "id": "union-drilling",
   "metadata": {},
   "outputs": [
    {
     "name": "stdout",
     "output_type": "stream",
     "text": [
      "['CCCCCCOCCOCCOCCO', 'CCCCCCOCCOCCOCCOCCO', 'CCCCCCOCCOCCOCCOCCOCCO'] \n",
      " [[40.5], [63.8], [75.0]]\n"
     ]
    }
   ],
   "source": [
    "# Load some cloud point data\n",
    "from graphchem.datasets import load_cp\n",
    "smiles, cp = load_cp()\n",
    "print(smiles[:3], '\\n', cp[:3])"
   ]
  },
  {
   "cell_type": "code",
   "execution_count": 4,
   "id": "revolutionary-admission",
   "metadata": {},
   "outputs": [
    {
     "name": "stdout",
     "output_type": "stream",
     "text": [
      "34 34 9 9\n"
     ]
    }
   ],
   "source": [
    "# Create training, testing subsets\n",
    "X_train, X_test, y_train, y_test = train_test_split(\n",
    "    smiles, cp, test_size=0.20, random_state=42\n",
    ")\n",
    "print(len(X_train), len(y_train), len(X_test), len(y_test))"
   ]
  },
  {
   "cell_type": "markdown",
   "id": "european-diversity",
   "metadata": {},
   "source": [
    "We need to set up some variables for our training process (i.e. hyper-parameters). In the future, these will be tunable to reduce model error."
   ]
  },
  {
   "cell_type": "code",
   "execution_count": 5,
   "id": "mobile-prevention",
   "metadata": {},
   "outputs": [],
   "source": [
    "training_config = {\n",
    "    'task': 'graph',\n",
    "    'valid_size': 0.2,\n",
    "    'valid_epoch_iter': 1,\n",
    "    'valid_patience': 64,\n",
    "    'batch_size': 8,\n",
    "    'learning_rate': 0.001,\n",
    "    'lr_decay': 0.0000001,\n",
    "    'epochs': 500,\n",
    "    'verbose': 1\n",
    "}"
   ]
  },
  {
   "cell_type": "markdown",
   "id": "lyric-frank",
   "metadata": {},
   "source": [
    "We also need to define our model's architecture:"
   ]
  },
  {
   "cell_type": "code",
   "execution_count": 6,
   "id": "precise-queens",
   "metadata": {},
   "outputs": [],
   "source": [
    "model_config = {\n",
    "    'n_messages': 2,\n",
    "    'n_hidden': 3,\n",
    "    'hidden_msg_dim': 128,\n",
    "    'hidden_dim': 256,\n",
    "    'dropout': 0.01\n",
    "}"
   ]
  },
  {
   "cell_type": "markdown",
   "id": "linear-spider",
   "metadata": {},
   "source": [
    "Now let's initialize the Graph Operator, and train our model:"
   ]
  },
  {
   "cell_type": "code",
   "execution_count": 7,
   "id": "matched-incentive",
   "metadata": {},
   "outputs": [
    {
     "name": "stderr",
     "output_type": "stream",
     "text": [
      "/Users/tjkessler/anaconda3/envs/torch_geometric/lib/python3.8/site-packages/graphchem-1.0.0-py3.8.egg/graphchem/operator.py:43: UserWarning: device config value not found: default value set, cpu\n",
      "  warnings.warn(\n"
     ]
    },
    {
     "name": "stdout",
     "output_type": "stream",
     "text": [
      "Epoch: 0 | Train Loss: 9823.79089807581 | Valid Loss: 2940.29296875\n",
      "Epoch: 1 | Train Loss: 3145.563774956597 | Valid Loss: 304.2599182128906\n",
      "Epoch: 2 | Train Loss: 765.0473587601273 | Valid Loss: 304.2599182128906\n",
      "Epoch: 3 | Train Loss: 554.9449869791666 | Valid Loss: 304.2599182128906\n",
      "Epoch: 4 | Train Loss: 769.2982381184896 | Valid Loss: 304.2599182128906\n",
      "Epoch: 5 | Train Loss: 841.2907127097801 | Valid Loss: 299.7872619628906\n",
      "Epoch: 6 | Train Loss: 568.6480712890625 | Valid Loss: 299.7872619628906\n",
      "Epoch: 7 | Train Loss: 651.2863226996528 | Valid Loss: 299.7872619628906\n",
      "Epoch: 8 | Train Loss: 464.5363340024595 | Valid Loss: 299.7872619628906\n",
      "Epoch: 9 | Train Loss: 485.8194122314453 | Valid Loss: 284.63104248046875\n",
      "Epoch: 10 | Train Loss: 514.3078703703703 | Valid Loss: 284.63104248046875\n",
      "Epoch: 11 | Train Loss: 506.75633635344326 | Valid Loss: 284.63104248046875\n",
      "Epoch: 12 | Train Loss: 475.68306025752315 | Valid Loss: 284.63104248046875\n",
      "Epoch: 13 | Train Loss: 433.72167629665796 | Valid Loss: 284.63104248046875\n",
      "Epoch: 14 | Train Loss: 463.236245614511 | Valid Loss: 284.63104248046875\n",
      "Epoch: 15 | Train Loss: 464.4170667860243 | Valid Loss: 284.63104248046875\n",
      "Epoch: 16 | Train Loss: 428.1498379177517 | Valid Loss: 266.1605529785156\n",
      "Epoch: 17 | Train Loss: 467.91851128472223 | Valid Loss: 266.1605529785156\n",
      "Epoch: 18 | Train Loss: 423.4028511047363 | Valid Loss: 266.1605529785156\n",
      "Epoch: 19 | Train Loss: 439.31829833984375 | Valid Loss: 266.1605529785156\n",
      "Epoch: 20 | Train Loss: 447.07456348560476 | Valid Loss: 266.1605529785156\n",
      "Epoch: 21 | Train Loss: 458.10986328125 | Valid Loss: 266.1605529785156\n",
      "Epoch: 22 | Train Loss: 445.05472366898147 | Valid Loss: 266.1605529785156\n",
      "Epoch: 23 | Train Loss: 509.6242901837384 | Valid Loss: 266.1605529785156\n",
      "Epoch: 24 | Train Loss: 448.9885609944661 | Valid Loss: 266.1605529785156\n",
      "Epoch: 25 | Train Loss: 448.8517908166956 | Valid Loss: 266.1605529785156\n",
      "Epoch: 26 | Train Loss: 407.81458960639105 | Valid Loss: 266.1605529785156\n",
      "Epoch: 27 | Train Loss: 523.2500813802084 | Valid Loss: 266.1605529785156\n",
      "Epoch: 28 | Train Loss: 553.286779333044 | Valid Loss: 266.1605529785156\n",
      "Epoch: 29 | Train Loss: 444.6541168778031 | Valid Loss: 266.1605529785156\n",
      "Epoch: 30 | Train Loss: 474.365155255353 | Valid Loss: 266.1605529785156\n",
      "Epoch: 31 | Train Loss: 599.7032154224537 | Valid Loss: 266.1605529785156\n",
      "Epoch: 32 | Train Loss: 544.1685169361256 | Valid Loss: 266.1605529785156\n",
      "Epoch: 33 | Train Loss: 600.158677842882 | Valid Loss: 266.1605529785156\n",
      "Epoch: 34 | Train Loss: 722.5840928819445 | Valid Loss: 266.1605529785156\n",
      "Epoch: 35 | Train Loss: 503.21841317635995 | Valid Loss: 266.1605529785156\n",
      "Epoch: 36 | Train Loss: 597.2465888129341 | Valid Loss: 266.1605529785156\n",
      "Epoch: 37 | Train Loss: 709.0129711009838 | Valid Loss: 266.1605529785156\n",
      "Epoch: 38 | Train Loss: 433.0311550564236 | Valid Loss: 266.1605529785156\n",
      "Epoch: 39 | Train Loss: 580.3864836516203 | Valid Loss: 266.1605529785156\n",
      "Epoch: 40 | Train Loss: 517.7840576171875 | Valid Loss: 266.1605529785156\n",
      "Epoch: 41 | Train Loss: 510.006354437934 | Valid Loss: 266.1605529785156\n",
      "Epoch: 42 | Train Loss: 573.250986735026 | Valid Loss: 266.1605529785156\n",
      "Epoch: 43 | Train Loss: 440.7332989728009 | Valid Loss: 266.1605529785156\n",
      "Epoch: 44 | Train Loss: 502.7800044307002 | Valid Loss: 266.1605529785156\n",
      "Epoch: 45 | Train Loss: 425.74664193612557 | Valid Loss: 266.1605529785156\n",
      "Epoch: 46 | Train Loss: 431.60436785662614 | Valid Loss: 265.55047607421875\n",
      "Epoch: 47 | Train Loss: 460.8819331416377 | Valid Loss: 265.55047607421875\n",
      "Epoch: 48 | Train Loss: 512.045809145327 | Valid Loss: 265.55047607421875\n",
      "Epoch: 49 | Train Loss: 493.49858940972223 | Valid Loss: 265.55047607421875\n",
      "Epoch: 50 | Train Loss: 446.61145471643516 | Valid Loss: 265.55047607421875\n",
      "Epoch: 51 | Train Loss: 474.6294479370117 | Valid Loss: 265.55047607421875\n",
      "Epoch: 52 | Train Loss: 429.1329583062066 | Valid Loss: 265.55047607421875\n",
      "Epoch: 53 | Train Loss: 422.13989822952834 | Valid Loss: 265.55047607421875\n",
      "Epoch: 54 | Train Loss: 431.7438580548322 | Valid Loss: 265.55047607421875\n",
      "Epoch: 55 | Train Loss: 404.05720774332684 | Valid Loss: 265.55047607421875\n",
      "Epoch: 56 | Train Loss: 452.98780059814453 | Valid Loss: 265.55047607421875\n",
      "Epoch: 57 | Train Loss: 438.4537424158167 | Valid Loss: 265.55047607421875\n",
      "Epoch: 58 | Train Loss: 428.2865255850333 | Valid Loss: 265.55047607421875\n",
      "Epoch: 59 | Train Loss: 422.19515652126734 | Valid Loss: 265.55047607421875\n",
      "Epoch: 60 | Train Loss: 414.4437204996745 | Valid Loss: 265.55047607421875\n",
      "Epoch: 61 | Train Loss: 461.25027804904516 | Valid Loss: 265.55047607421875\n",
      "Epoch: 62 | Train Loss: 468.22157118055554 | Valid Loss: 265.55047607421875\n",
      "Epoch: 63 | Train Loss: 465.6873055917245 | Valid Loss: 265.55047607421875\n",
      "Epoch: 64 | Train Loss: 409.0748946578414 | Valid Loss: 265.55047607421875\n",
      "Epoch: 65 | Train Loss: 523.7583821614584 | Valid Loss: 265.55047607421875\n",
      "Epoch: 66 | Train Loss: 412.7931145562066 | Valid Loss: 265.55047607421875\n",
      "Epoch: 67 | Train Loss: 419.68493878399886 | Valid Loss: 265.55047607421875\n",
      "Epoch: 68 | Train Loss: 468.1462877061632 | Valid Loss: 248.3928985595703\n",
      "Epoch: 69 | Train Loss: 408.9124405472367 | Valid Loss: 248.3928985595703\n",
      "Epoch: 70 | Train Loss: 493.8920412416811 | Valid Loss: 248.3928985595703\n",
      "Epoch: 71 | Train Loss: 408.73032633463544 | Valid Loss: 248.3928985595703\n",
      "Epoch: 72 | Train Loss: 492.5235912181713 | Valid Loss: 248.3928985595703\n",
      "Epoch: 73 | Train Loss: 384.54342877423323 | Valid Loss: 248.3928985595703\n",
      "Epoch: 74 | Train Loss: 433.2144317626953 | Valid Loss: 248.3928985595703\n",
      "Epoch: 75 | Train Loss: 402.72680353235313 | Valid Loss: 248.3928985595703\n",
      "Epoch: 76 | Train Loss: 383.7302743417245 | Valid Loss: 248.3928985595703\n",
      "Epoch: 77 | Train Loss: 403.30390082465277 | Valid Loss: 248.3928985595703\n",
      "Epoch: 78 | Train Loss: 386.5241478814019 | Valid Loss: 248.3928985595703\n",
      "Epoch: 79 | Train Loss: 378.7821768301505 | Valid Loss: 248.3928985595703\n",
      "Epoch: 80 | Train Loss: 396.19692088939524 | Valid Loss: 248.3928985595703\n",
      "Epoch: 81 | Train Loss: 363.25878680193864 | Valid Loss: 248.3928985595703\n",
      "Epoch: 82 | Train Loss: 356.0035988136574 | Valid Loss: 248.3928985595703\n",
      "Epoch: 83 | Train Loss: 544.179298683449 | Valid Loss: 248.3928985595703\n",
      "Epoch: 84 | Train Loss: 534.6232378924334 | Valid Loss: 248.3928985595703\n",
      "Epoch: 85 | Train Loss: 410.8998435691551 | Valid Loss: 240.2172088623047\n",
      "Epoch: 86 | Train Loss: 470.7208398889612 | Valid Loss: 240.2172088623047\n",
      "Epoch: 87 | Train Loss: 396.6965339095504 | Valid Loss: 240.2172088623047\n",
      "Epoch: 88 | Train Loss: 386.37131641529226 | Valid Loss: 240.2172088623047\n",
      "Epoch: 89 | Train Loss: 393.70855034722223 | Valid Loss: 220.66470336914062\n",
      "Epoch: 90 | Train Loss: 372.8546142578125 | Valid Loss: 220.66470336914062\n",
      "Epoch: 91 | Train Loss: 446.24729410807294 | Valid Loss: 220.02700805664062\n",
      "Epoch: 92 | Train Loss: 364.04103370949076 | Valid Loss: 220.02700805664062\n",
      "Epoch: 93 | Train Loss: 390.16774269386576 | Valid Loss: 220.02700805664062\n",
      "Epoch: 94 | Train Loss: 354.7275102403429 | Valid Loss: 220.02700805664062\n",
      "Epoch: 95 | Train Loss: 359.9461443865741 | Valid Loss: 220.02700805664062\n",
      "Epoch: 96 | Train Loss: 349.6444261338976 | Valid Loss: 220.02700805664062\n",
      "Epoch: 97 | Train Loss: 327.56299167209204 | Valid Loss: 220.02700805664062\n",
      "Epoch: 98 | Train Loss: 383.9347867612486 | Valid Loss: 220.02700805664062\n",
      "Epoch: 99 | Train Loss: 361.00059226707174 | Valid Loss: 199.81289672851562\n",
      "Epoch: 100 | Train Loss: 417.7333147967303 | Valid Loss: 199.81289672851562\n",
      "Epoch: 101 | Train Loss: 379.0570656105324 | Valid Loss: 199.81289672851562\n",
      "Epoch: 102 | Train Loss: 428.2601047092014 | Valid Loss: 199.36605834960938\n",
      "Epoch: 103 | Train Loss: 535.2924657751013 | Valid Loss: 199.36605834960938\n",
      "Epoch: 104 | Train Loss: 445.27120406539353 | Valid Loss: 199.36605834960938\n",
      "Epoch: 105 | Train Loss: 497.7372696487992 | Valid Loss: 199.36605834960938\n",
      "Epoch: 106 | Train Loss: 307.2017604686596 | Valid Loss: 199.36605834960938\n",
      "Epoch: 107 | Train Loss: 411.0520923755787 | Valid Loss: 199.36605834960938\n",
      "Epoch: 108 | Train Loss: 440.42716019241897 | Valid Loss: 199.36605834960938\n",
      "Epoch: 109 | Train Loss: 484.5341163917824 | Valid Loss: 199.36605834960938\n",
      "Epoch: 110 | Train Loss: 368.73367648654516 | Valid Loss: 199.36605834960938\n",
      "Epoch: 111 | Train Loss: 335.84280734592016 | Valid Loss: 199.36605834960938\n"
     ]
    },
    {
     "name": "stdout",
     "output_type": "stream",
     "text": [
      "Epoch: 112 | Train Loss: 549.5567073115596 | Valid Loss: 199.36605834960938\n",
      "Epoch: 113 | Train Loss: 392.5541178385417 | Valid Loss: 199.36605834960938\n",
      "Epoch: 114 | Train Loss: 374.69854736328125 | Valid Loss: 199.36605834960938\n",
      "Epoch: 115 | Train Loss: 379.01911304615163 | Valid Loss: 199.36605834960938\n",
      "Epoch: 116 | Train Loss: 381.858376538312 | Valid Loss: 199.36605834960938\n",
      "Epoch: 117 | Train Loss: 322.9126038727937 | Valid Loss: 199.36605834960938\n",
      "Epoch: 118 | Train Loss: 415.83428842050057 | Valid Loss: 199.36605834960938\n",
      "Epoch: 119 | Train Loss: 543.028322007921 | Valid Loss: 199.36605834960938\n",
      "Epoch: 120 | Train Loss: 357.8740980360243 | Valid Loss: 199.36605834960938\n",
      "Epoch: 121 | Train Loss: 424.6994890283655 | Valid Loss: 199.36605834960938\n",
      "Epoch: 122 | Train Loss: 380.96386492693864 | Valid Loss: 199.36605834960938\n",
      "Epoch: 123 | Train Loss: 483.7409860116464 | Valid Loss: 199.36605834960938\n",
      "Epoch: 124 | Train Loss: 473.20372970015916 | Valid Loss: 199.36605834960938\n",
      "Epoch: 125 | Train Loss: 405.7276679144965 | Valid Loss: 199.36605834960938\n",
      "Epoch: 126 | Train Loss: 342.4643574467412 | Valid Loss: 199.36605834960938\n",
      "Epoch: 127 | Train Loss: 470.7041628802264 | Valid Loss: 199.36605834960938\n",
      "Epoch: 128 | Train Loss: 365.930258291739 | Valid Loss: 199.36605834960938\n",
      "Epoch: 129 | Train Loss: 367.5552164713542 | Valid Loss: 199.36605834960938\n",
      "Epoch: 130 | Train Loss: 357.4373779296875 | Valid Loss: 199.36605834960938\n",
      "Epoch: 131 | Train Loss: 364.2962578667535 | Valid Loss: 199.36605834960938\n",
      "Epoch: 132 | Train Loss: 461.3386038321036 | Valid Loss: 199.36605834960938\n",
      "Epoch: 133 | Train Loss: 370.21280246310766 | Valid Loss: 199.36605834960938\n",
      "Epoch: 134 | Train Loss: 381.69522829409 | Valid Loss: 199.36605834960938\n",
      "Epoch: 135 | Train Loss: 328.9449400725188 | Valid Loss: 199.36605834960938\n",
      "Epoch: 136 | Train Loss: 387.6978652388961 | Valid Loss: 199.36605834960938\n",
      "Epoch: 137 | Train Loss: 473.682534677011 | Valid Loss: 199.02842712402344\n",
      "Epoch: 138 | Train Loss: 324.7083016854745 | Valid Loss: 183.35484313964844\n",
      "Epoch: 139 | Train Loss: 345.4878924334491 | Valid Loss: 183.35484313964844\n",
      "Epoch: 140 | Train Loss: 406.0600732873987 | Valid Loss: 183.35484313964844\n",
      "Epoch: 141 | Train Loss: 554.893465395327 | Valid Loss: 183.35484313964844\n",
      "Epoch: 142 | Train Loss: 408.36786566840277 | Valid Loss: 183.35484313964844\n",
      "Epoch: 143 | Train Loss: 416.9626894350405 | Valid Loss: 183.35484313964844\n",
      "Epoch: 144 | Train Loss: 486.54845965350114 | Valid Loss: 183.35484313964844\n",
      "Epoch: 145 | Train Loss: 440.69481376365377 | Valid Loss: 183.35484313964844\n",
      "Epoch: 146 | Train Loss: 340.73968929714624 | Valid Loss: 183.35484313964844\n",
      "Epoch: 147 | Train Loss: 328.9597653989439 | Valid Loss: 183.35484313964844\n",
      "Epoch: 148 | Train Loss: 344.49594737865306 | Valid Loss: 183.35484313964844\n",
      "Epoch: 149 | Train Loss: 395.65333839699076 | Valid Loss: 183.35484313964844\n",
      "Epoch: 150 | Train Loss: 304.3281074806496 | Valid Loss: 183.35484313964844\n",
      "Epoch: 151 | Train Loss: 279.9186457881221 | Valid Loss: 179.11727905273438\n",
      "Epoch: 152 | Train Loss: 261.179520783601 | Valid Loss: 179.11727905273438\n",
      "Epoch: 153 | Train Loss: 274.7496137265806 | Valid Loss: 179.11727905273438\n",
      "Epoch: 154 | Train Loss: 549.9090677897135 | Valid Loss: 179.11727905273438\n",
      "Epoch: 155 | Train Loss: 406.6118621826172 | Valid Loss: 179.11727905273438\n",
      "Epoch: 156 | Train Loss: 423.51428674768516 | Valid Loss: 179.11727905273438\n",
      "Epoch: 157 | Train Loss: 372.4818623860677 | Valid Loss: 179.11727905273438\n",
      "Epoch: 158 | Train Loss: 382.6706130416305 | Valid Loss: 179.11727905273438\n",
      "Epoch: 159 | Train Loss: 405.53526023582174 | Valid Loss: 179.11727905273438\n",
      "Epoch: 160 | Train Loss: 394.9466552734375 | Valid Loss: 179.11727905273438\n",
      "Epoch: 161 | Train Loss: 301.410816333912 | Valid Loss: 171.21875\n",
      "Epoch: 162 | Train Loss: 305.17861825448495 | Valid Loss: 171.21875\n",
      "Epoch: 163 | Train Loss: 269.01166449652777 | Valid Loss: 171.21875\n",
      "Epoch: 164 | Train Loss: 250.31401288067852 | Valid Loss: 171.21875\n",
      "Epoch: 165 | Train Loss: 256.9681345621745 | Valid Loss: 171.21875\n",
      "Epoch: 166 | Train Loss: 313.7042711046007 | Valid Loss: 123.80500030517578\n",
      "Epoch: 167 | Train Loss: 352.2673848470052 | Valid Loss: 123.80500030517578\n",
      "Epoch: 168 | Train Loss: 210.77367259837962 | Valid Loss: 123.80500030517578\n",
      "Epoch: 169 | Train Loss: 201.06546246563946 | Valid Loss: 123.80500030517578\n",
      "Epoch: 170 | Train Loss: 242.3415244773582 | Valid Loss: 105.22503662109375\n",
      "Epoch: 171 | Train Loss: 120.36037473325376 | Valid Loss: 105.22503662109375\n",
      "Epoch: 172 | Train Loss: 588.5315483940972 | Valid Loss: 105.22503662109375\n",
      "Epoch: 173 | Train Loss: 604.0812807436342 | Valid Loss: 105.22503662109375\n",
      "Epoch: 174 | Train Loss: 243.68757431595415 | Valid Loss: 105.22503662109375\n",
      "Epoch: 175 | Train Loss: 420.1898035120081 | Valid Loss: 105.22503662109375\n",
      "Epoch: 176 | Train Loss: 246.22500779893664 | Valid Loss: 105.22503662109375\n",
      "Epoch: 177 | Train Loss: 292.5312115704572 | Valid Loss: 105.22503662109375\n",
      "Epoch: 178 | Train Loss: 207.79758043642397 | Valid Loss: 105.22503662109375\n",
      "Epoch: 179 | Train Loss: 309.3359126338252 | Valid Loss: 105.22503662109375\n",
      "Epoch: 180 | Train Loss: 296.2441168891059 | Valid Loss: 105.22503662109375\n",
      "Epoch: 181 | Train Loss: 267.4557370786314 | Valid Loss: 105.22503662109375\n",
      "Epoch: 182 | Train Loss: 232.54579784252024 | Valid Loss: 105.22503662109375\n",
      "Epoch: 183 | Train Loss: 255.63084920247397 | Valid Loss: 102.84278869628906\n",
      "Epoch: 184 | Train Loss: 169.20891994900174 | Valid Loss: 95.91178131103516\n",
      "Epoch: 185 | Train Loss: 137.6755133734809 | Valid Loss: 95.91178131103516\n",
      "Epoch: 186 | Train Loss: 194.16507127549914 | Valid Loss: 82.33537292480469\n",
      "Epoch: 187 | Train Loss: 136.98787434895834 | Valid Loss: 82.33537292480469\n",
      "Epoch: 188 | Train Loss: 109.40109125773112 | Valid Loss: 69.15015411376953\n",
      "Epoch: 189 | Train Loss: 99.65500443070023 | Valid Loss: 69.15015411376953\n",
      "Epoch: 190 | Train Loss: 176.68759211787471 | Valid Loss: 69.15015411376953\n",
      "Epoch: 191 | Train Loss: 231.61855118362993 | Valid Loss: 69.15015411376953\n",
      "Epoch: 192 | Train Loss: 220.24272311175312 | Valid Loss: 69.15015411376953\n",
      "Epoch: 193 | Train Loss: 115.02060671205874 | Valid Loss: 69.15015411376953\n",
      "Epoch: 194 | Train Loss: 128.73335506297923 | Valid Loss: 69.15015411376953\n",
      "Epoch: 195 | Train Loss: 110.00175334789135 | Valid Loss: 69.15015411376953\n",
      "Epoch: 196 | Train Loss: 166.8248986138238 | Valid Loss: 61.15696334838867\n",
      "Epoch: 197 | Train Loss: 200.49493577745227 | Valid Loss: 61.15696334838867\n",
      "Epoch: 198 | Train Loss: 213.13202469437212 | Valid Loss: 61.15696334838867\n",
      "Epoch: 199 | Train Loss: 124.21674262152777 | Valid Loss: 61.15696334838867\n",
      "Epoch: 200 | Train Loss: 207.66775399667245 | Valid Loss: 61.15696334838867\n",
      "Epoch: 201 | Train Loss: 120.12319409405744 | Valid Loss: 61.15696334838867\n",
      "Epoch: 202 | Train Loss: 129.79452306252938 | Valid Loss: 61.15696334838867\n",
      "Epoch: 203 | Train Loss: 287.7671056676794 | Valid Loss: 61.15696334838867\n",
      "Epoch: 204 | Train Loss: 188.53312626591435 | Valid Loss: 61.15696334838867\n",
      "Epoch: 205 | Train Loss: 169.26123894585504 | Valid Loss: 61.15696334838867\n",
      "Epoch: 206 | Train Loss: 203.99737803141275 | Valid Loss: 61.15696334838867\n",
      "Epoch: 207 | Train Loss: 186.40992397732205 | Valid Loss: 61.15696334838867\n",
      "Epoch: 208 | Train Loss: 101.27433268229167 | Valid Loss: 61.15696334838867\n",
      "Epoch: 209 | Train Loss: 241.78076341417102 | Valid Loss: 61.15696334838867\n",
      "Epoch: 210 | Train Loss: 247.9637247721354 | Valid Loss: 61.15696334838867\n",
      "Epoch: 211 | Train Loss: 193.32546728628654 | Valid Loss: 61.15696334838867\n",
      "Epoch: 212 | Train Loss: 231.49142229998554 | Valid Loss: 61.15696334838867\n",
      "Epoch: 213 | Train Loss: 208.93956445764613 | Valid Loss: 61.15696334838867\n",
      "Epoch: 214 | Train Loss: 105.91439141167535 | Valid Loss: 61.15696334838867\n",
      "Epoch: 215 | Train Loss: 204.01043701171875 | Valid Loss: 61.15696334838867\n",
      "Epoch: 216 | Train Loss: 116.16382175021701 | Valid Loss: 61.15696334838867\n",
      "Epoch: 217 | Train Loss: 106.45258726897063 | Valid Loss: 61.15696334838867\n",
      "Epoch: 218 | Train Loss: 142.032595316569 | Valid Loss: 61.15696334838867\n",
      "Epoch: 219 | Train Loss: 89.58399680808738 | Valid Loss: 61.15696334838867\n",
      "Epoch: 220 | Train Loss: 94.39271630181207 | Valid Loss: 48.052494049072266\n",
      "Epoch: 221 | Train Loss: 67.41686121622722 | Valid Loss: 46.60895538330078\n",
      "Epoch: 222 | Train Loss: 85.02785181116175 | Valid Loss: 46.60895538330078\n",
      "Epoch: 223 | Train Loss: 84.4586883827492 | Valid Loss: 46.60895538330078\n"
     ]
    },
    {
     "name": "stdout",
     "output_type": "stream",
     "text": [
      "Epoch: 224 | Train Loss: 333.3748474121094 | Valid Loss: 46.60895538330078\n",
      "Epoch: 225 | Train Loss: 110.16744373462818 | Valid Loss: 46.60895538330078\n",
      "Epoch: 226 | Train Loss: 131.4993142022027 | Valid Loss: 46.60895538330078\n",
      "Epoch: 227 | Train Loss: 101.00182653356481 | Valid Loss: 46.60895538330078\n",
      "Epoch: 228 | Train Loss: 107.7585523393419 | Valid Loss: 46.60895538330078\n",
      "Epoch: 229 | Train Loss: 84.7030903145119 | Valid Loss: 46.60895538330078\n",
      "Epoch: 230 | Train Loss: 71.71619556568287 | Valid Loss: 46.60895538330078\n",
      "Epoch: 231 | Train Loss: 224.63322279188367 | Valid Loss: 46.60895538330078\n",
      "Epoch: 232 | Train Loss: 147.04429287380643 | Valid Loss: 46.60895538330078\n",
      "Epoch: 233 | Train Loss: 104.6241359004268 | Valid Loss: 46.60895538330078\n",
      "Epoch: 234 | Train Loss: 118.36395602756076 | Valid Loss: 46.60895538330078\n",
      "Epoch: 235 | Train Loss: 130.7840347290039 | Valid Loss: 46.60895538330078\n",
      "Epoch: 236 | Train Loss: 95.90229966905382 | Valid Loss: 46.60895538330078\n",
      "Epoch: 237 | Train Loss: 98.06137480559173 | Valid Loss: 46.60895538330078\n",
      "Epoch: 238 | Train Loss: 146.1827848928946 | Valid Loss: 46.60895538330078\n",
      "Epoch: 239 | Train Loss: 94.98045857747395 | Valid Loss: 46.60895538330078\n",
      "Epoch: 240 | Train Loss: 104.70321203161168 | Valid Loss: 46.60895538330078\n",
      "Epoch: 241 | Train Loss: 106.13128379539206 | Valid Loss: 39.51968765258789\n",
      "Epoch: 242 | Train Loss: 92.93630642361111 | Valid Loss: 39.51968765258789\n",
      "Epoch: 243 | Train Loss: 114.20146913881655 | Valid Loss: 39.51968765258789\n",
      "Epoch: 244 | Train Loss: 95.77229026511863 | Valid Loss: 39.51968765258789\n",
      "Epoch: 245 | Train Loss: 85.50608034487124 | Valid Loss: 39.51968765258789\n",
      "Epoch: 246 | Train Loss: 167.70996376320167 | Valid Loss: 39.51968765258789\n",
      "Epoch: 247 | Train Loss: 89.46305741204156 | Valid Loss: 39.51968765258789\n",
      "Epoch: 248 | Train Loss: 86.16729566786024 | Valid Loss: 39.51968765258789\n",
      "Epoch: 249 | Train Loss: 78.08342516863787 | Valid Loss: 39.51968765258789\n",
      "Epoch: 250 | Train Loss: 73.63170793321397 | Valid Loss: 39.51968765258789\n",
      "Epoch: 251 | Train Loss: 97.9901710792824 | Valid Loss: 39.51968765258789\n",
      "Epoch: 252 | Train Loss: 77.22649553087022 | Valid Loss: 30.263242721557617\n",
      "Epoch: 253 | Train Loss: 109.27983305189345 | Valid Loss: 30.263242721557617\n",
      "Epoch: 254 | Train Loss: 101.84478816279659 | Valid Loss: 30.263242721557617\n",
      "Epoch: 255 | Train Loss: 124.1406701405843 | Valid Loss: 30.263242721557617\n",
      "Epoch: 256 | Train Loss: 118.1124030219184 | Valid Loss: 30.263242721557617\n",
      "Epoch: 257 | Train Loss: 217.03403614185476 | Valid Loss: 30.263242721557617\n",
      "Epoch: 258 | Train Loss: 292.97530167191115 | Valid Loss: 30.263242721557617\n",
      "Epoch: 259 | Train Loss: 303.3721624303747 | Valid Loss: 30.263242721557617\n",
      "Epoch: 260 | Train Loss: 232.96503476743345 | Valid Loss: 30.263242721557617\n",
      "Epoch: 261 | Train Loss: 156.13727258752894 | Valid Loss: 30.263242721557617\n",
      "Epoch: 262 | Train Loss: 107.94547554298684 | Valid Loss: 30.263242721557617\n",
      "Epoch: 263 | Train Loss: 122.54988352457683 | Valid Loss: 30.263242721557617\n",
      "Epoch: 264 | Train Loss: 126.27513970269098 | Valid Loss: 30.263242721557617\n",
      "Epoch: 265 | Train Loss: 105.97878138224284 | Valid Loss: 30.263242721557617\n",
      "Epoch: 266 | Train Loss: 134.11807420518664 | Valid Loss: 30.263242721557617\n",
      "Epoch: 267 | Train Loss: 75.87781213831019 | Valid Loss: 30.263242721557617\n",
      "Epoch: 268 | Train Loss: 84.25894705454509 | Valid Loss: 30.263242721557617\n",
      "Epoch: 269 | Train Loss: 67.42228896529586 | Valid Loss: 30.263242721557617\n",
      "Epoch: 270 | Train Loss: 84.9520342791522 | Valid Loss: 30.263242721557617\n",
      "Epoch: 271 | Train Loss: 111.38839806450738 | Valid Loss: 30.263242721557617\n",
      "Epoch: 272 | Train Loss: 92.47140361644604 | Valid Loss: 30.263242721557617\n",
      "Epoch: 273 | Train Loss: 82.29225102177372 | Valid Loss: 30.263242721557617\n",
      "Epoch: 274 | Train Loss: 96.60991923014323 | Valid Loss: 30.263242721557617\n",
      "Epoch: 275 | Train Loss: 116.66006526240596 | Valid Loss: 30.263242721557617\n",
      "Epoch: 276 | Train Loss: 157.0823449028863 | Valid Loss: 30.263242721557617\n",
      "Epoch: 277 | Train Loss: 117.38710191514757 | Valid Loss: 30.263242721557617\n",
      "Epoch: 278 | Train Loss: 240.57477089210792 | Valid Loss: 30.263242721557617\n",
      "Epoch: 279 | Train Loss: 236.36639185304995 | Valid Loss: 30.263242721557617\n",
      "Epoch: 280 | Train Loss: 129.517904776114 | Valid Loss: 30.263242721557617\n",
      "Epoch: 281 | Train Loss: 114.38695978235316 | Valid Loss: 30.263242721557617\n",
      "Epoch: 282 | Train Loss: 107.829551131637 | Valid Loss: 30.263242721557617\n",
      "Epoch: 283 | Train Loss: 120.6324809745506 | Valid Loss: 30.263242721557617\n",
      "Epoch: 284 | Train Loss: 101.04004739831996 | Valid Loss: 30.263242721557617\n",
      "Epoch: 285 | Train Loss: 89.70533413357205 | Valid Loss: 30.263242721557617\n",
      "Epoch: 286 | Train Loss: 253.45797672978154 | Valid Loss: 30.263242721557617\n",
      "Epoch: 287 | Train Loss: 160.2270112214265 | Valid Loss: 30.263242721557617\n",
      "Epoch: 288 | Train Loss: 99.7821730154532 | Valid Loss: 30.263242721557617\n",
      "Epoch: 289 | Train Loss: 116.47599227340133 | Valid Loss: 30.263242721557617\n",
      "Epoch: 290 | Train Loss: 157.1256832546658 | Valid Loss: 30.263242721557617\n",
      "Epoch: 291 | Train Loss: 136.63997056749133 | Valid Loss: 30.263242721557617\n",
      "Epoch: 292 | Train Loss: 102.25903971989949 | Valid Loss: 30.263242721557617\n",
      "Epoch: 293 | Train Loss: 143.44992969654226 | Valid Loss: 30.263242721557617\n",
      "Epoch: 294 | Train Loss: 152.78382534450955 | Valid Loss: 30.263242721557617\n",
      "Epoch: 295 | Train Loss: 190.39131447120948 | Valid Loss: 30.263242721557617\n",
      "Epoch: 296 | Train Loss: 239.5125820018627 | Valid Loss: 30.263242721557617\n",
      "Epoch: 297 | Train Loss: 203.8404620135272 | Valid Loss: 30.263242721557617\n",
      "Epoch: 298 | Train Loss: 144.1422576904297 | Valid Loss: 30.263242721557617\n",
      "Epoch: 299 | Train Loss: 156.45290346498842 | Valid Loss: 30.263242721557617\n",
      "Epoch: 300 | Train Loss: 110.9977874049434 | Valid Loss: 30.263242721557617\n",
      "Epoch: 301 | Train Loss: 150.16162052860966 | Valid Loss: 30.263242721557617\n",
      "Epoch: 302 | Train Loss: 91.41466550473814 | Valid Loss: 30.263242721557617\n",
      "Epoch: 303 | Train Loss: 124.71323818630643 | Valid Loss: 30.263242721557617\n",
      "Epoch: 304 | Train Loss: 104.92546265213578 | Valid Loss: 30.263242721557617\n",
      "Epoch: 305 | Train Loss: 92.0054264775029 | Valid Loss: 30.263242721557617\n",
      "Epoch: 306 | Train Loss: 98.90000519929109 | Valid Loss: 30.263242721557617\n",
      "Epoch: 307 | Train Loss: 111.28587228280527 | Valid Loss: 30.263242721557617\n",
      "Epoch: 308 | Train Loss: 103.04448947200069 | Valid Loss: 30.263242721557617\n",
      "Epoch: 309 | Train Loss: 175.8240763346354 | Valid Loss: 30.263242721557617\n",
      "Epoch: 310 | Train Loss: 65.69147109985352 | Valid Loss: 30.263242721557617\n",
      "Epoch: 311 | Train Loss: 187.11321145516854 | Valid Loss: 30.263242721557617\n",
      "Epoch: 312 | Train Loss: 113.57795446890371 | Valid Loss: 30.263242721557617\n",
      "Epoch: 313 | Train Loss: 84.76716839825666 | Valid Loss: 30.263242721557617\n",
      "Epoch: 314 | Train Loss: 123.28709990889938 | Valid Loss: 30.263242721557617\n",
      "Epoch: 315 | Train Loss: 98.80348134923864 | Valid Loss: 30.263242721557617\n",
      "Epoch: 316 | Train Loss: 80.44053803549872 | Valid Loss: 30.263242721557617\n"
     ]
    }
   ],
   "source": [
    "go = GraphOperator(config=training_config)\n",
    "go.train(X_train, y_train, model_config=model_config)"
   ]
  },
  {
   "cell_type": "markdown",
   "id": "medical-malawi",
   "metadata": {},
   "source": [
    "Let's get predictions, then calculate prediction errors for the training and testing subsets:"
   ]
  },
  {
   "cell_type": "code",
   "execution_count": 8,
   "id": "extended-charlotte",
   "metadata": {},
   "outputs": [
    {
     "name": "stdout",
     "output_type": "stream",
     "text": [
      "Test Set: R2 = 0.7109448620627039, MAE = 14.156970977783203\n",
      "Train Set: R2 = 0.8580065110245041, MAE = 8.13055591583252\n"
     ]
    }
   ],
   "source": [
    "y_train_pred = go.use(X_train)\n",
    "y_test_pred = go.use(X_test)\n",
    "\n",
    "mae_test = median_absolute_error(y_test, y_test_pred)\n",
    "r2_test = r2_score(y_test, y_test_pred)\n",
    "\n",
    "mae_train = median_absolute_error(y_train, y_train_pred)\n",
    "r2_train = r2_score(y_train, y_train_pred)\n",
    "\n",
    "print('Test Set: R2 = {}, MAE = {}'.format(r2_test, mae_test))\n",
    "print('Train Set: R2 = {}, MAE = {}'.format(r2_train, mae_train))"
   ]
  },
  {
   "cell_type": "markdown",
   "id": "secret-stomach",
   "metadata": {},
   "source": [
    "And let's plot our results:"
   ]
  },
  {
   "cell_type": "code",
   "execution_count": 9,
   "id": "second-rocket",
   "metadata": {},
   "outputs": [
    {
     "data": {
      "image/png": "[encoded data removed]",
      "text/plain": [
       "<Figure size 432x288 with 1 Axes>"
      ]
     },
     "metadata": {
      "needs_background": "light"
     },
     "output_type": "display_data"
    }
   ],
   "source": [
    "plt.title('Predicted Cloud Point vs. Experimental Cloud Point')\n",
    "plt.xlabel('Experimental Value')\n",
    "plt.ylabel('Predicted Value')\n",
    "plt.scatter(y_train, y_train_pred, color='blue', label='Train')\n",
    "plt.scatter(y_test, y_test_pred, color='red', label='Test')\n",
    "plt.legend(loc='upper left')\n",
    "plt.show()"
   ]
  },
  {
   "cell_type": "code",
   "execution_count": null,
   "id": "official-array",
   "metadata": {},
   "outputs": [],
   "source": []
  }
 ],
 "metadata": {
  "kernelspec": {
   "display_name": "Python 3",
   "language": "python",
   "name": "python3"
  },
  "language_info": {
   "codemirror_mode": {
    "name": "ipython",
    "version": 3
   },
   "file_extension": ".py",
   "mimetype": "text/x-python",
   "name": "python",
   "nbconvert_exporter": "python",
   "pygments_lexer": "ipython3",
   "version": "3.8.8"
  }
 },
 "nbformat": 4,
 "nbformat_minor": 5
}
