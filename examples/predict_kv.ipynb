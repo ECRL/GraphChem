{
 "cells": [
  {
   "cell_type": "markdown",
   "id": "trained-creature",
   "metadata": {},
   "source": [
    "First, let's import everything we need, and load some kinematic viscosity data:"
   ]
  },
  {
   "cell_type": "code",
   "execution_count": 1,
   "id": "alternative-bearing",
   "metadata": {},
   "outputs": [],
   "source": [
    "# Import the Graph Operator - handles data preparation, model creation/recall, hand-off of data to model\n",
    "from graphchem import GraphOperator"
   ]
  },
  {
   "cell_type": "code",
   "execution_count": 2,
   "id": "helpful-biology",
   "metadata": {},
   "outputs": [],
   "source": [
    "# Other dependencies are for data segmentation, set metric calculations, plotting\n",
    "from sklearn.model_selection import train_test_split\n",
    "from sklearn.metrics import median_absolute_error, r2_score\n",
    "from matplotlib import pyplot as plt"
   ]
  },
  {
   "cell_type": "code",
   "execution_count": 3,
   "id": "union-drilling",
   "metadata": {},
   "outputs": [
    {
     "name": "stdout",
     "output_type": "stream",
     "text": [
      "['CCC', 'CCCC', 'CCCCC'] \n",
      " [[0.1858], [0.2586], [0.3397]]\n"
     ]
    }
   ],
   "source": [
    "# Load some kinematic viscosity data\n",
    "from graphchem.datasets import load_kv\n",
    "smiles, kv = load_kv()\n",
    "print(smiles[:3], '\\n', kv[:3])"
   ]
  },
  {
   "cell_type": "code",
   "execution_count": 4,
   "id": "revolutionary-admission",
   "metadata": {},
   "outputs": [
    {
     "name": "stdout",
     "output_type": "stream",
     "text": [
      "170 170 43 43\n"
     ]
    }
   ],
   "source": [
    "# Create training, testing subsets\n",
    "X_train, X_test, y_train, y_test = train_test_split(\n",
    "    smiles, kv, test_size=0.20, random_state=42\n",
    ")\n",
    "print(len(X_train), len(y_train), len(X_test), len(y_test))"
   ]
  },
  {
   "cell_type": "markdown",
   "id": "european-diversity",
   "metadata": {},
   "source": [
    "We need to set up some variables for our training process (i.e. hyper-parameters). In the future, these will be tunable to reduce model error."
   ]
  },
  {
   "cell_type": "code",
   "execution_count": 5,
   "id": "mobile-prevention",
   "metadata": {},
   "outputs": [],
   "source": [
    "training_config = {\n",
    "    'task': 'graph',\n",
    "    'valid_size': 0.2,\n",
    "    'valid_epoch_iter': 1,\n",
    "    'valid_patience': 48,\n",
    "    'batch_size': 32,\n",
    "    'learning_rate': 0.002,\n",
    "    'lr_decay': 0.0000001,\n",
    "    'epochs': 500,\n",
    "    'verbose': 1\n",
    "}"
   ]
  },
  {
   "cell_type": "markdown",
   "id": "lyric-frank",
   "metadata": {},
   "source": [
    "We also need to define our model's architecture:"
   ]
  },
  {
   "cell_type": "code",
   "execution_count": 6,
   "id": "precise-queens",
   "metadata": {},
   "outputs": [],
   "source": [
    "model_config = {\n",
    "    'n_messages': 2,\n",
    "    'n_hidden': 3,\n",
    "    'hidden_msg_dim': 128,\n",
    "    'hidden_dim': 256,\n",
    "    'dropout': 0.01\n",
    "}"
   ]
  },
  {
   "cell_type": "markdown",
   "id": "linear-spider",
   "metadata": {},
   "source": [
    "Now let's initialize the Graph Operator, and train our model:"
   ]
  },
  {
   "cell_type": "code",
   "execution_count": 7,
   "id": "matched-incentive",
   "metadata": {},
   "outputs": [
    {
     "name": "stderr",
     "output_type": "stream",
     "text": [
      "/Users/tjkessler/anaconda3/envs/torch_geometric/lib/python3.8/site-packages/graphchem-1.0.0-py3.8.egg/graphchem/operator.py:43: UserWarning: device config value not found: default value set, cpu\n",
      "  warnings.warn(\n"
     ]
    },
    {
     "name": "stdout",
     "output_type": "stream",
     "text": [
      "Epoch: 0 | Train Loss: 2877.747853503508 | Valid Loss: 22.74277114868164\n",
      "Epoch: 1 | Train Loss: 70.35252111098346 | Valid Loss: 22.74277114868164\n",
      "Epoch: 2 | Train Loss: 47.70107617097742 | Valid Loss: 21.0767822265625\n",
      "Epoch: 3 | Train Loss: 25.69715454999138 | Valid Loss: 1.1933374404907227\n",
      "Epoch: 4 | Train Loss: 5.320629736956428 | Valid Loss: 1.1933374404907227\n",
      "Epoch: 5 | Train Loss: 3.4492799955255844 | Valid Loss: 0.8318580389022827\n",
      "Epoch: 6 | Train Loss: 2.0162815732114456 | Valid Loss: 0.43802472949028015\n",
      "Epoch: 7 | Train Loss: 1.1653664830852957 | Valid Loss: 0.3557780385017395\n",
      "Epoch: 8 | Train Loss: 1.4279821269652422 | Valid Loss: 0.3557780385017395\n",
      "Epoch: 9 | Train Loss: 1.0025721507913925 | Valid Loss: 0.3557780385017395\n",
      "Epoch: 10 | Train Loss: 1.106900187099681 | Valid Loss: 0.3557780385017395\n",
      "Epoch: 11 | Train Loss: 1.027899195166195 | Valid Loss: 0.3557780385017395\n",
      "Epoch: 12 | Train Loss: 1.0829279282513786 | Valid Loss: 0.3557780385017395\n",
      "Epoch: 13 | Train Loss: 1.043955014032476 | Valid Loss: 0.3557780385017395\n",
      "Epoch: 14 | Train Loss: 0.9469385006848503 | Valid Loss: 0.3557780385017395\n",
      "Epoch: 15 | Train Loss: 0.9462926545563866 | Valid Loss: 0.3557780385017395\n",
      "Epoch: 16 | Train Loss: 0.9343365711324355 | Valid Loss: 0.3557780385017395\n",
      "Epoch: 17 | Train Loss: 1.0658674099866081 | Valid Loss: 0.3557780385017395\n",
      "Epoch: 18 | Train Loss: 2.0123020200168384 | Valid Loss: 0.3557780385017395\n",
      "Epoch: 19 | Train Loss: 1.7304867085288553 | Valid Loss: 0.3557780385017395\n",
      "Epoch: 20 | Train Loss: 1.1193034368402817 | Valid Loss: 0.3557780385017395\n",
      "Epoch: 21 | Train Loss: 1.0763185602777146 | Valid Loss: 0.3557780385017395\n",
      "Epoch: 22 | Train Loss: 0.9940390306360581 | Valid Loss: 0.3557780385017395\n",
      "Epoch: 23 | Train Loss: 0.8820448123356875 | Valid Loss: 0.3557780385017395\n",
      "Epoch: 24 | Train Loss: 0.8464767582276288 | Valid Loss: 0.3557780385017395\n",
      "Epoch: 25 | Train Loss: 0.900216751238879 | Valid Loss: 0.3557780385017395\n",
      "Epoch: 26 | Train Loss: 0.8157442738028133 | Valid Loss: 0.3557780385017395\n",
      "Epoch: 27 | Train Loss: 0.7923226770670975 | Valid Loss: 0.3557780385017395\n",
      "Epoch: 28 | Train Loss: 0.8192521500236848 | Valid Loss: 0.3557780385017395\n",
      "Epoch: 29 | Train Loss: 0.7972394298104679 | Valid Loss: 0.3557780385017395\n",
      "Epoch: 30 | Train Loss: 0.7550941565457512 | Valid Loss: 0.3557780385017395\n",
      "Epoch: 31 | Train Loss: 0.7765195124289569 | Valid Loss: 0.3557780385017395\n",
      "Epoch: 32 | Train Loss: 0.8031340223901412 | Valid Loss: 0.3557780385017395\n",
      "Epoch: 33 | Train Loss: 0.7657535531941582 | Valid Loss: 0.3557780385017395\n",
      "Epoch: 34 | Train Loss: 0.7331150279325598 | Valid Loss: 0.3557780385017395\n",
      "Epoch: 35 | Train Loss: 0.7506341057665208 | Valid Loss: 0.3557780385017395\n",
      "Epoch: 36 | Train Loss: 0.7080498022191665 | Valid Loss: 0.30588752031326294\n",
      "Epoch: 37 | Train Loss: 0.6785224290455089 | Valid Loss: 0.30588752031326294\n",
      "Epoch: 38 | Train Loss: 0.7543131814283484 | Valid Loss: 0.30588752031326294\n",
      "Epoch: 39 | Train Loss: 0.7749242922838997 | Valid Loss: 0.30588752031326294\n",
      "Epoch: 40 | Train Loss: 0.6972193788079655 | Valid Loss: 0.30588752031326294\n",
      "Epoch: 41 | Train Loss: 0.724555570851354 | Valid Loss: 0.30588752031326294\n",
      "Epoch: 42 | Train Loss: 0.7245534005410531 | Valid Loss: 0.30588752031326294\n",
      "Epoch: 43 | Train Loss: 0.693005432100857 | Valid Loss: 0.30588752031326294\n",
      "Epoch: 44 | Train Loss: 0.7230754003805273 | Valid Loss: 0.30588752031326294\n",
      "Epoch: 45 | Train Loss: 0.6592825756353491 | Valid Loss: 0.30588752031326294\n",
      "Epoch: 46 | Train Loss: 0.6199375320883358 | Valid Loss: 0.30588752031326294\n",
      "Epoch: 47 | Train Loss: 0.7660211324691772 | Valid Loss: 0.30588752031326294\n",
      "Epoch: 48 | Train Loss: 0.7337180270868189 | Valid Loss: 0.30588752031326294\n",
      "Epoch: 49 | Train Loss: 0.8173674485262703 | Valid Loss: 0.30588752031326294\n",
      "Epoch: 50 | Train Loss: 0.9397826225442045 | Valid Loss: 0.30588752031326294\n",
      "Epoch: 51 | Train Loss: 0.7521109949139988 | Valid Loss: 0.30588752031326294\n",
      "Epoch: 52 | Train Loss: 0.805652891888338 | Valid Loss: 0.30588752031326294\n",
      "Epoch: 53 | Train Loss: 0.6539348030791563 | Valid Loss: 0.30588752031326294\n",
      "Epoch: 54 | Train Loss: 0.6433741415248198 | Valid Loss: 0.30588752031326294\n",
      "Epoch: 55 | Train Loss: 0.5675308046972051 | Valid Loss: 0.30588752031326294\n",
      "Epoch: 56 | Train Loss: 0.5626998193123761 | Valid Loss: 0.30588752031326294\n",
      "Epoch: 57 | Train Loss: 0.5334310917293325 | Valid Loss: 0.30588752031326294\n",
      "Epoch: 58 | Train Loss: 0.6305335164070129 | Valid Loss: 0.30588752031326294\n",
      "Epoch: 59 | Train Loss: 0.7038920381489921 | Valid Loss: 0.30588752031326294\n",
      "Epoch: 60 | Train Loss: 0.6809780457440544 | Valid Loss: 0.30588752031326294\n",
      "Epoch: 61 | Train Loss: 0.638300804530873 | Valid Loss: 0.30588752031326294\n",
      "Epoch: 62 | Train Loss: 0.5744619023273972 | Valid Loss: 0.30588752031326294\n",
      "Epoch: 63 | Train Loss: 0.5186387611662641 | Valid Loss: 0.30588752031326294\n",
      "Epoch: 64 | Train Loss: 0.4844983114915736 | Valid Loss: 0.30588752031326294\n",
      "Epoch: 65 | Train Loss: 0.4639456429902245 | Valid Loss: 0.30588752031326294\n",
      "Epoch: 66 | Train Loss: 0.46785953093100996 | Valid Loss: 0.2883458137512207\n",
      "Epoch: 67 | Train Loss: 0.42362752951243343 | Valid Loss: 0.2883458137512207\n",
      "Epoch: 68 | Train Loss: 0.40588829973164725 | Valid Loss: 0.2883458137512207\n",
      "Epoch: 69 | Train Loss: 0.5623712153995738 | Valid Loss: 0.2578774094581604\n",
      "Epoch: 70 | Train Loss: 0.35551612342105193 | Valid Loss: 0.2578774094581604\n",
      "Epoch: 71 | Train Loss: 0.4139825438751894 | Valid Loss: 0.2578774094581604\n",
      "Epoch: 72 | Train Loss: 0.4159170143744525 | Valid Loss: 0.2578774094581604\n",
      "Epoch: 73 | Train Loss: 0.4558319098809186 | Valid Loss: 0.2578774094581604\n",
      "Epoch: 74 | Train Loss: 0.5221701430923799 | Valid Loss: 0.2578774094581604\n",
      "Epoch: 75 | Train Loss: 0.47314610551385317 | Valid Loss: 0.2578774094581604\n",
      "Epoch: 76 | Train Loss: 0.5673540129381067 | Valid Loss: 0.2578774094581604\n",
      "Epoch: 77 | Train Loss: 0.6287303146194009 | Valid Loss: 0.2578774094581604\n",
      "Epoch: 78 | Train Loss: 0.414494886117823 | Valid Loss: 0.2578774094581604\n",
      "Epoch: 79 | Train Loss: 0.4022088462815565 | Valid Loss: 0.2578774094581604\n",
      "Epoch: 80 | Train Loss: 0.5306968163041508 | Valid Loss: 0.2578774094581604\n",
      "Epoch: 81 | Train Loss: 0.4656505409409018 | Valid Loss: 0.2578774094581604\n",
      "Epoch: 82 | Train Loss: 0.46245720807243795 | Valid Loss: 0.2578774094581604\n",
      "Epoch: 83 | Train Loss: 0.3297997450127321 | Valid Loss: 0.2578774094581604\n",
      "Epoch: 84 | Train Loss: 0.43585749671739693 | Valid Loss: 0.2578774094581604\n",
      "Epoch: 85 | Train Loss: 0.394406679798575 | Valid Loss: 0.2578774094581604\n",
      "Epoch: 86 | Train Loss: 0.32533644139766693 | Valid Loss: 0.2578774094581604\n",
      "Epoch: 87 | Train Loss: 0.32767990319167867 | Valid Loss: 0.2578774094581604\n",
      "Epoch: 88 | Train Loss: 0.26843613912077513 | Valid Loss: 0.2578774094581604\n",
      "Epoch: 89 | Train Loss: 0.337235969655654 | Valid Loss: 0.2578774094581604\n",
      "Epoch: 90 | Train Loss: 0.3002445128034143 | Valid Loss: 0.2578774094581604\n",
      "Epoch: 91 | Train Loss: 0.33593192159691276 | Valid Loss: 0.2578774094581604\n",
      "Epoch: 92 | Train Loss: 0.3264334977549665 | Valid Loss: 0.2578774094581604\n",
      "Epoch: 93 | Train Loss: 0.28936322997598085 | Valid Loss: 0.2578774094581604\n",
      "Epoch: 94 | Train Loss: 0.2686583995819092 | Valid Loss: 0.2578774094581604\n",
      "Epoch: 95 | Train Loss: 0.3165133823366726 | Valid Loss: 0.2578774094581604\n",
      "Epoch: 96 | Train Loss: 0.3380386312218273 | Valid Loss: 0.2578774094581604\n",
      "Epoch: 97 | Train Loss: 0.2872840166091919 | Valid Loss: 0.2578774094581604\n",
      "Epoch: 98 | Train Loss: 0.26856133780058694 | Valid Loss: 0.21324753761291504\n",
      "Epoch: 99 | Train Loss: 0.27356042318484364 | Valid Loss: 0.21324753761291504\n",
      "Epoch: 100 | Train Loss: 0.23935621801544638 | Valid Loss: 0.21324753761291504\n",
      "Epoch: 101 | Train Loss: 0.21048732584013657 | Valid Loss: 0.21324753761291504\n",
      "Epoch: 102 | Train Loss: 0.20067663753733916 | Valid Loss: 0.21324753761291504\n",
      "Epoch: 103 | Train Loss: 0.24533049499287324 | Valid Loss: 0.21324753761291504\n",
      "Epoch: 104 | Train Loss: 0.28869514254962697 | Valid Loss: 0.21324753761291504\n",
      "Epoch: 105 | Train Loss: 0.2773738082717447 | Valid Loss: 0.21324753761291504\n",
      "Epoch: 106 | Train Loss: 0.23059621277977438 | Valid Loss: 0.21324753761291504\n",
      "Epoch: 107 | Train Loss: 0.24781803567619884 | Valid Loss: 0.21324753761291504\n"
     ]
    },
    {
     "name": "stdout",
     "output_type": "stream",
     "text": [
      "Epoch: 108 | Train Loss: 0.322352656546761 | Valid Loss: 0.21324753761291504\n",
      "Epoch: 109 | Train Loss: 0.21748998761177063 | Valid Loss: 0.21324753761291504\n",
      "Epoch: 110 | Train Loss: 0.21647034147206476 | Valid Loss: 0.21324753761291504\n",
      "Epoch: 111 | Train Loss: 0.20741422562038198 | Valid Loss: 0.21324753761291504\n",
      "Epoch: 112 | Train Loss: 0.23360887651934342 | Valid Loss: 0.21324753761291504\n",
      "Epoch: 113 | Train Loss: 0.24542203370262594 | Valid Loss: 0.21324753761291504\n",
      "Epoch: 114 | Train Loss: 0.14454890568466747 | Valid Loss: 0.21324753761291504\n",
      "Epoch: 115 | Train Loss: 0.23318796648698695 | Valid Loss: 0.21324753761291504\n",
      "Epoch: 116 | Train Loss: 0.2832256327657139 | Valid Loss: 0.21324753761291504\n",
      "Epoch: 117 | Train Loss: 0.3095019608736038 | Valid Loss: 0.21324753761291504\n",
      "Epoch: 118 | Train Loss: 0.33066677652737675 | Valid Loss: 0.19534897804260254\n",
      "Epoch: 119 | Train Loss: 0.198169305044062 | Valid Loss: 0.19534897804260254\n",
      "Epoch: 120 | Train Loss: 0.2486540850471048 | Valid Loss: 0.19534897804260254\n",
      "Epoch: 121 | Train Loss: 0.18896387079182794 | Valid Loss: 0.19534897804260254\n",
      "Epoch: 122 | Train Loss: 0.20793143177733703 | Valid Loss: 0.19534897804260254\n",
      "Epoch: 123 | Train Loss: 0.21442311016075752 | Valid Loss: 0.19534897804260254\n",
      "Epoch: 124 | Train Loss: 0.21042697832864873 | Valid Loss: 0.17761096358299255\n",
      "Epoch: 125 | Train Loss: 0.18153277390143452 | Valid Loss: 0.1469666063785553\n",
      "Epoch: 126 | Train Loss: 0.20936007885371938 | Valid Loss: 0.13904514908790588\n",
      "Epoch: 127 | Train Loss: 0.2113436740987441 | Valid Loss: 0.13904514908790588\n",
      "Epoch: 128 | Train Loss: 0.24438908170251286 | Valid Loss: 0.13904514908790588\n",
      "Epoch: 129 | Train Loss: 0.22611073623685277 | Valid Loss: 0.13904514908790588\n",
      "Epoch: 130 | Train Loss: 0.19212382856537313 | Valid Loss: 0.13904514908790588\n",
      "Epoch: 131 | Train Loss: 0.19453673678285935 | Valid Loss: 0.13904514908790588\n",
      "Epoch: 132 | Train Loss: 0.220379675135893 | Valid Loss: 0.13904514908790588\n",
      "Epoch: 133 | Train Loss: 0.188209428506739 | Valid Loss: 0.13904514908790588\n",
      "Epoch: 134 | Train Loss: 0.20845755496445825 | Valid Loss: 0.13904514908790588\n",
      "Epoch: 135 | Train Loss: 0.20911764397340663 | Valid Loss: 0.13904514908790588\n",
      "Epoch: 136 | Train Loss: 0.2122267651207307 | Valid Loss: 0.13904514908790588\n",
      "Epoch: 137 | Train Loss: 0.2084285459097694 | Valid Loss: 0.13904514908790588\n",
      "Epoch: 138 | Train Loss: 0.23251151337343104 | Valid Loss: 0.13904514908790588\n",
      "Epoch: 139 | Train Loss: 0.1884048566879595 | Valid Loss: 0.13904514908790588\n",
      "Epoch: 140 | Train Loss: 0.16788634307244243 | Valid Loss: 0.13904514908790588\n",
      "Epoch: 141 | Train Loss: 0.22202245277516983 | Valid Loss: 0.13904514908790588\n",
      "Epoch: 142 | Train Loss: 0.16541946591699824 | Valid Loss: 0.13904514908790588\n",
      "Epoch: 143 | Train Loss: 0.1990705395446104 | Valid Loss: 0.13904514908790588\n",
      "Epoch: 144 | Train Loss: 0.21383209745673573 | Valid Loss: 0.13904514908790588\n",
      "Epoch: 145 | Train Loss: 0.19389151387354908 | Valid Loss: 0.13904514908790588\n",
      "Epoch: 146 | Train Loss: 0.1779220568783143 | Valid Loss: 0.13904514908790588\n",
      "Epoch: 147 | Train Loss: 0.16987436571541956 | Valid Loss: 0.13904514908790588\n",
      "Epoch: 148 | Train Loss: 0.17378873158903682 | Valid Loss: 0.13904514908790588\n",
      "Epoch: 149 | Train Loss: 0.15214270747759762 | Valid Loss: 0.10922113060951233\n",
      "Epoch: 150 | Train Loss: 0.19095962538438685 | Valid Loss: 0.10922113060951233\n",
      "Epoch: 151 | Train Loss: 0.1480393953183118 | Valid Loss: 0.10922113060951233\n",
      "Epoch: 152 | Train Loss: 0.14675888068535747 | Valid Loss: 0.10922113060951233\n",
      "Epoch: 153 | Train Loss: 0.15645497336107142 | Valid Loss: 0.10922113060951233\n",
      "Epoch: 154 | Train Loss: 0.16588690789306865 | Valid Loss: 0.10922113060951233\n",
      "Epoch: 155 | Train Loss: 0.16196431482539458 | Valid Loss: 0.10922113060951233\n",
      "Epoch: 156 | Train Loss: 0.1810468628126032 | Valid Loss: 0.10922113060951233\n",
      "Epoch: 157 | Train Loss: 0.21039504163405476 | Valid Loss: 0.10922113060951233\n",
      "Epoch: 158 | Train Loss: 0.19260840556200812 | Valid Loss: 0.10922113060951233\n",
      "Epoch: 159 | Train Loss: 0.2627994190244114 | Valid Loss: 0.10922113060951233\n",
      "Epoch: 160 | Train Loss: 0.17393640954704845 | Valid Loss: 0.10922113060951233\n",
      "Epoch: 161 | Train Loss: 0.22334671897046707 | Valid Loss: 0.10922113060951233\n",
      "Epoch: 162 | Train Loss: 0.14766138616730184 | Valid Loss: 0.10922113060951233\n",
      "Epoch: 163 | Train Loss: 0.14684538630878224 | Valid Loss: 0.10922113060951233\n",
      "Epoch: 164 | Train Loss: 0.18191600371809566 | Valid Loss: 0.10922113060951233\n",
      "Epoch: 165 | Train Loss: 0.17429114396081252 | Valid Loss: 0.10922113060951233\n",
      "Epoch: 166 | Train Loss: 0.14382511377334595 | Valid Loss: 0.10922113060951233\n",
      "Epoch: 167 | Train Loss: 0.15256691329619465 | Valid Loss: 0.10922113060951233\n",
      "Epoch: 168 | Train Loss: 0.13694884934846094 | Valid Loss: 0.10922113060951233\n",
      "Epoch: 169 | Train Loss: 0.15749331256922552 | Valid Loss: 0.10922113060951233\n",
      "Epoch: 170 | Train Loss: 0.15573730385478804 | Valid Loss: 0.10922113060951233\n",
      "Epoch: 171 | Train Loss: 0.13269876206622405 | Valid Loss: 0.10922113060951233\n",
      "Epoch: 172 | Train Loss: 0.13336288928985596 | Valid Loss: 0.10922113060951233\n",
      "Epoch: 173 | Train Loss: 0.1502864509820938 | Valid Loss: 0.10922113060951233\n",
      "Epoch: 174 | Train Loss: 0.11718789816779249 | Valid Loss: 0.10922113060951233\n",
      "Epoch: 175 | Train Loss: 0.12589815346633687 | Valid Loss: 0.10922113060951233\n",
      "Epoch: 176 | Train Loss: 0.1456850083435283 | Valid Loss: 0.10922113060951233\n",
      "Epoch: 177 | Train Loss: 0.12320966536507887 | Valid Loss: 0.10922113060951233\n",
      "Epoch: 178 | Train Loss: 0.1534416478346376 | Valid Loss: 0.10922113060951233\n",
      "Epoch: 179 | Train Loss: 0.1465284526348114 | Valid Loss: 0.10922113060951233\n",
      "Epoch: 180 | Train Loss: 0.13320569606388316 | Valid Loss: 0.10922113060951233\n",
      "Epoch: 181 | Train Loss: 0.1557965611710268 | Valid Loss: 0.10922113060951233\n",
      "Epoch: 182 | Train Loss: 0.18815661528531244 | Valid Loss: 0.10922113060951233\n",
      "Epoch: 183 | Train Loss: 0.15907105781576214 | Valid Loss: 0.10922113060951233\n",
      "Epoch: 184 | Train Loss: 0.15022490305059097 | Valid Loss: 0.10922113060951233\n",
      "Epoch: 185 | Train Loss: 0.14932279201114879 | Valid Loss: 0.10922113060951233\n",
      "Epoch: 186 | Train Loss: 0.1622723621480605 | Valid Loss: 0.10922113060951233\n",
      "Epoch: 187 | Train Loss: 0.24061204580699697 | Valid Loss: 0.10922113060951233\n",
      "Epoch: 188 | Train Loss: 0.20181955747744618 | Valid Loss: 0.10922113060951233\n",
      "Epoch: 189 | Train Loss: 0.21253653308924506 | Valid Loss: 0.10922113060951233\n",
      "Epoch: 190 | Train Loss: 0.2003459492150475 | Valid Loss: 0.10922113060951233\n",
      "Epoch: 191 | Train Loss: 0.16678923894377315 | Valid Loss: 0.10922113060951233\n",
      "Epoch: 192 | Train Loss: 0.14272269343628602 | Valid Loss: 0.10922113060951233\n",
      "Epoch: 193 | Train Loss: 0.17420685707646258 | Valid Loss: 0.10922113060951233\n",
      "Epoch: 194 | Train Loss: 0.15232502143172658 | Valid Loss: 0.10922113060951233\n",
      "Epoch: 195 | Train Loss: 0.1347621442640529 | Valid Loss: 0.10922113060951233\n",
      "Epoch: 196 | Train Loss: 0.14435133337974548 | Valid Loss: 0.10922113060951233\n",
      "Epoch: 197 | Train Loss: 0.12892837033552282 | Valid Loss: 0.10922113060951233\n"
     ]
    }
   ],
   "source": [
    "go = GraphOperator(config=training_config)\n",
    "go.train(X_train, y_train, model_config=model_config)"
   ]
  },
  {
   "cell_type": "markdown",
   "id": "medical-malawi",
   "metadata": {},
   "source": [
    "Let's get predictions, then calculate prediction errors for the training and testing subsets:"
   ]
  },
  {
   "cell_type": "code",
   "execution_count": 8,
   "id": "extended-charlotte",
   "metadata": {},
   "outputs": [
    {
     "name": "stdout",
     "output_type": "stream",
     "text": [
      "Test Set: R2 = 0.8678852368796849, MAE = 0.22964120121002196\n",
      "Train Set: R2 = 0.8553695314829475, MAE = 0.2418900151312351\n"
     ]
    }
   ],
   "source": [
    "y_train_pred = go.use(X_train)\n",
    "y_test_pred = go.use(X_test)\n",
    "\n",
    "mae_test = median_absolute_error(y_test, y_test_pred)\n",
    "r2_test = r2_score(y_test, y_test_pred)\n",
    "\n",
    "mae_train = median_absolute_error(y_train, y_train_pred)\n",
    "r2_train = r2_score(y_train, y_train_pred)\n",
    "\n",
    "print('Test Set: R2 = {}, MAE = {}'.format(r2_test, mae_test))\n",
    "print('Train Set: R2 = {}, MAE = {}'.format(r2_train, mae_train))"
   ]
  },
  {
   "cell_type": "markdown",
   "id": "secret-stomach",
   "metadata": {},
   "source": [
    "And let's plot our results:"
   ]
  },
  {
   "cell_type": "code",
   "execution_count": 9,
   "id": "second-rocket",
   "metadata": {},
   "outputs": [
    {
     "data": {
      "image/png": "[encoded data removed]",
      "text/plain": [
       "<Figure size 432x288 with 1 Axes>"
      ]
     },
     "metadata": {
      "needs_background": "light"
     },
     "output_type": "display_data"
    }
   ],
   "source": [
    "plt.title('Predicted Kinematic Viscosity vs. Experimental Kinematic Viscosity')\n",
    "plt.xlabel('Experimental Value')\n",
    "plt.ylabel('Predicted Value')\n",
    "plt.scatter(y_train, y_train_pred, color='blue', label='Train')\n",
    "plt.scatter(y_test, y_test_pred, color='red', label='Test')\n",
    "plt.legend(loc='upper left')\n",
    "plt.show()"
   ]
  },
  {
   "cell_type": "code",
   "execution_count": null,
   "id": "official-array",
   "metadata": {},
   "outputs": [],
   "source": []
  }
 ],
 "metadata": {
  "kernelspec": {
   "display_name": "Python 3",
   "language": "python",
   "name": "python3"
  },
  "language_info": {
   "codemirror_mode": {
    "name": "ipython",
    "version": 3
   },
   "file_extension": ".py",
   "mimetype": "text/x-python",
   "name": "python",
   "nbconvert_exporter": "python",
   "pygments_lexer": "ipython3",
   "version": "3.8.8"
  }
 },
 "nbformat": 4,
 "nbformat_minor": 5
}
