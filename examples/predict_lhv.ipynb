{
 "cells": [
  {
   "cell_type": "markdown",
   "id": "trained-creature",
   "metadata": {},
   "source": [
    "First, let's import everything we need, and load some lower heating value data:"
   ]
  },
  {
   "cell_type": "code",
   "execution_count": 1,
   "id": "alternative-bearing",
   "metadata": {},
   "outputs": [],
   "source": [
    "# Import the Graph Operator - handles data preparation, model creation/recall, hand-off of data to model\n",
    "from graphchem import GraphOperator"
   ]
  },
  {
   "cell_type": "code",
   "execution_count": 2,
   "id": "helpful-biology",
   "metadata": {},
   "outputs": [],
   "source": [
    "# Other dependencies are for data segmentation, set metric calculations, plotting\n",
    "from sklearn.model_selection import train_test_split\n",
    "from sklearn.metrics import median_absolute_error, r2_score\n",
    "from matplotlib import pyplot as plt"
   ]
  },
  {
   "cell_type": "code",
   "execution_count": 3,
   "id": "union-drilling",
   "metadata": {},
   "outputs": [
    {
     "name": "stdout",
     "output_type": "stream",
     "text": [
      "['[C-]#[O+]', 'CO', 'C#C'] \n",
      " [[10.0], [21.0], [48.0]]\n"
     ]
    }
   ],
   "source": [
    "# Load some lower heating value data\n",
    "from graphchem.datasets import load_lhv\n",
    "smiles, lhv = load_lhv()\n",
    "print(smiles[:3], '\\n', lhv[:3])"
   ]
  },
  {
   "cell_type": "code",
   "execution_count": 4,
   "id": "revolutionary-admission",
   "metadata": {},
   "outputs": [
    {
     "name": "stdout",
     "output_type": "stream",
     "text": [
      "310 310 78 78\n"
     ]
    }
   ],
   "source": [
    "# Create training, testing subsets\n",
    "X_train, X_test, y_train, y_test = train_test_split(\n",
    "    smiles, lhv, test_size=0.20, random_state=42\n",
    ")\n",
    "print(len(X_train), len(y_train), len(X_test), len(y_test))"
   ]
  },
  {
   "cell_type": "markdown",
   "id": "european-diversity",
   "metadata": {},
   "source": [
    "We need to set up some variables for our training process (i.e. hyper-parameters). In the future, these will be tunable to reduce model error."
   ]
  },
  {
   "cell_type": "code",
   "execution_count": 5,
   "id": "mobile-prevention",
   "metadata": {},
   "outputs": [],
   "source": [
    "training_config = {\n",
    "    'task': 'graph',\n",
    "    'valid_size': 0.2,\n",
    "    'valid_epoch_iter': 1,\n",
    "    'valid_patience': 48,\n",
    "    'batch_size': 32,\n",
    "    'learning_rate': 0.002,\n",
    "    'lr_decay': 0.0000001,\n",
    "    'epochs': 500,\n",
    "    'verbose': 1\n",
    "}"
   ]
  },
  {
   "cell_type": "markdown",
   "id": "lyric-frank",
   "metadata": {},
   "source": [
    "We also need to define our model's architecture:"
   ]
  },
  {
   "cell_type": "code",
   "execution_count": 6,
   "id": "precise-queens",
   "metadata": {},
   "outputs": [],
   "source": [
    "model_config = {\n",
    "    'n_messages': 2,\n",
    "    'n_hidden': 3,\n",
    "    'hidden_msg_dim': 128,\n",
    "    'hidden_dim': 256,\n",
    "    'dropout': 0.01\n",
    "}"
   ]
  },
  {
   "cell_type": "markdown",
   "id": "linear-spider",
   "metadata": {},
   "source": [
    "Now let's initialize the Graph Operator, and train our model:"
   ]
  },
  {
   "cell_type": "code",
   "execution_count": 7,
   "id": "matched-incentive",
   "metadata": {},
   "outputs": [
    {
     "name": "stderr",
     "output_type": "stream",
     "text": [
      "/Users/tjkessler/anaconda3/envs/torch_geometric/lib/python3.8/site-packages/graphchem-1.0.0-py3.8.egg/graphchem/operator.py:43: UserWarning: device config value not found: default value set, cpu\n",
      "  warnings.warn(\n"
     ]
    },
    {
     "name": "stdout",
     "output_type": "stream",
     "text": [
      "Epoch: 0 | Train Loss: 1491.8689821304813 | Valid Loss: 280.7094421386719\n",
      "Epoch: 1 | Train Loss: 280.7357856996598 | Valid Loss: 280.7094421386719\n",
      "Epoch: 2 | Train Loss: 177.5041016609438 | Valid Loss: 129.57264709472656\n",
      "Epoch: 3 | Train Loss: 151.56168193201864 | Valid Loss: 126.09510803222656\n",
      "Epoch: 4 | Train Loss: 143.44784152123236 | Valid Loss: 126.09510803222656\n",
      "Epoch: 5 | Train Loss: 142.00066375732422 | Valid Loss: 110.46143341064453\n",
      "Epoch: 6 | Train Loss: 121.44795768491683 | Valid Loss: 88.52388000488281\n",
      "Epoch: 7 | Train Loss: 98.49766909691596 | Valid Loss: 75.29000854492188\n",
      "Epoch: 8 | Train Loss: 85.2246327554026 | Valid Loss: 75.29000854492188\n",
      "Epoch: 9 | Train Loss: 83.31397345758253 | Valid Loss: 75.29000854492188\n",
      "Epoch: 10 | Train Loss: 110.49840397988596 | Valid Loss: 75.29000854492188\n",
      "Epoch: 11 | Train Loss: 121.05464369250882 | Valid Loss: 74.58497619628906\n",
      "Epoch: 12 | Train Loss: 103.07007623487904 | Valid Loss: 74.58497619628906\n",
      "Epoch: 13 | Train Loss: 90.55709297426286 | Valid Loss: 74.58497619628906\n",
      "Epoch: 14 | Train Loss: 84.96976507863691 | Valid Loss: 74.58497619628906\n",
      "Epoch: 15 | Train Loss: 77.22592704526839 | Valid Loss: 74.58497619628906\n",
      "Epoch: 16 | Train Loss: 67.94492979972593 | Valid Loss: 59.55061721801758\n",
      "Epoch: 17 | Train Loss: 49.08867411459646 | Valid Loss: 59.55061721801758\n",
      "Epoch: 18 | Train Loss: 43.88493900914346 | Valid Loss: 59.55061721801758\n",
      "Epoch: 19 | Train Loss: 36.66211977312642 | Valid Loss: 59.55061721801758\n",
      "Epoch: 20 | Train Loss: 43.037482107839274 | Valid Loss: 47.45825958251953\n",
      "Epoch: 21 | Train Loss: 37.06476728377804 | Valid Loss: 47.45825958251953\n",
      "Epoch: 22 | Train Loss: 60.5398799527076 | Valid Loss: 47.45825958251953\n",
      "Epoch: 23 | Train Loss: 58.375479421307965 | Valid Loss: 47.45825958251953\n",
      "Epoch: 24 | Train Loss: 47.81224121585969 | Valid Loss: 47.45825958251953\n",
      "Epoch: 25 | Train Loss: 41.306087740005985 | Valid Loss: 47.45825958251953\n",
      "Epoch: 26 | Train Loss: 45.071647182587654 | Valid Loss: 47.45825958251953\n",
      "Epoch: 27 | Train Loss: 53.32234511836882 | Valid Loss: 47.45825958251953\n",
      "Epoch: 28 | Train Loss: 74.22771896854523 | Valid Loss: 47.45825958251953\n",
      "Epoch: 29 | Train Loss: 61.92119549166772 | Valid Loss: 47.45825958251953\n",
      "Epoch: 30 | Train Loss: 45.45734190171765 | Valid Loss: 47.45825958251953\n",
      "Epoch: 31 | Train Loss: 41.16074629752867 | Valid Loss: 47.45825958251953\n",
      "Epoch: 32 | Train Loss: 33.83358432400611 | Valid Loss: 47.45825958251953\n",
      "Epoch: 33 | Train Loss: 28.182119923253214 | Valid Loss: 47.268043518066406\n",
      "Epoch: 34 | Train Loss: 32.39440425749748 | Valid Loss: 47.268043518066406\n",
      "Epoch: 35 | Train Loss: 51.626241499377834 | Valid Loss: 47.268043518066406\n",
      "Epoch: 36 | Train Loss: 39.58899737942603 | Valid Loss: 43.35643005371094\n",
      "Epoch: 37 | Train Loss: 27.128757692152455 | Valid Loss: 43.35643005371094\n",
      "Epoch: 38 | Train Loss: 23.703163639191658 | Valid Loss: 37.02687454223633\n",
      "Epoch: 39 | Train Loss: 25.309888778194303 | Valid Loss: 37.02687454223633\n",
      "Epoch: 40 | Train Loss: 28.715543193201864 | Valid Loss: 37.02687454223633\n",
      "Epoch: 41 | Train Loss: 25.84743776629048 | Valid Loss: 37.02687454223633\n",
      "Epoch: 42 | Train Loss: 26.180180026638894 | Valid Loss: 37.02687454223633\n",
      "Epoch: 43 | Train Loss: 28.247926712036133 | Valid Loss: 37.02687454223633\n",
      "Epoch: 44 | Train Loss: 20.623784403647146 | Valid Loss: 37.02687454223633\n",
      "Epoch: 45 | Train Loss: 24.42538796701739 | Valid Loss: 37.02687454223633\n",
      "Epoch: 46 | Train Loss: 23.71467178098617 | Valid Loss: 37.02687454223633\n",
      "Epoch: 47 | Train Loss: 25.51742313754174 | Valid Loss: 37.02687454223633\n",
      "Epoch: 48 | Train Loss: 23.164479409494707 | Valid Loss: 37.02687454223633\n",
      "Epoch: 49 | Train Loss: 21.692345526910596 | Valid Loss: 37.02687454223633\n",
      "Epoch: 50 | Train Loss: 29.958832710020005 | Valid Loss: 37.02687454223633\n",
      "Epoch: 51 | Train Loss: 29.064709140408425 | Valid Loss: 37.02687454223633\n",
      "Epoch: 52 | Train Loss: 22.77043797892909 | Valid Loss: 37.02687454223633\n",
      "Epoch: 53 | Train Loss: 18.63718149738927 | Valid Loss: 37.02687454223633\n",
      "Epoch: 54 | Train Loss: 18.214032234684115 | Valid Loss: 37.02687454223633\n",
      "Epoch: 55 | Train Loss: 20.6151861375378 | Valid Loss: 37.02687454223633\n",
      "Epoch: 56 | Train Loss: 19.650502789405085 | Valid Loss: 37.02687454223633\n",
      "Epoch: 57 | Train Loss: 23.10248479535503 | Valid Loss: 37.02687454223633\n",
      "Epoch: 58 | Train Loss: 17.928839806587465 | Valid Loss: 37.02687454223633\n",
      "Epoch: 59 | Train Loss: 20.914376658778036 | Valid Loss: 37.02687454223633\n",
      "Epoch: 60 | Train Loss: 22.61641293187295 | Valid Loss: 34.11890411376953\n",
      "Epoch: 61 | Train Loss: 20.725019885647683 | Valid Loss: 34.11890411376953\n",
      "Epoch: 62 | Train Loss: 23.305852643905148 | Valid Loss: 34.11890411376953\n",
      "Epoch: 63 | Train Loss: 18.335139859107233 | Valid Loss: 34.11890411376953\n",
      "Epoch: 64 | Train Loss: 16.85756907924529 | Valid Loss: 34.11890411376953\n",
      "Epoch: 65 | Train Loss: 15.167970442002819 | Valid Loss: 34.11890411376953\n",
      "Epoch: 66 | Train Loss: 13.317276954650879 | Valid Loss: 34.11890411376953\n",
      "Epoch: 67 | Train Loss: 11.319944658587056 | Valid Loss: 33.17915344238281\n",
      "Epoch: 68 | Train Loss: 11.603667597616873 | Valid Loss: 31.055456161499023\n",
      "Epoch: 69 | Train Loss: 11.93169778393161 | Valid Loss: 31.055456161499023\n",
      "Epoch: 70 | Train Loss: 11.378797623418993 | Valid Loss: 31.055456161499023\n",
      "Epoch: 71 | Train Loss: 10.830127962173954 | Valid Loss: 31.055456161499023\n",
      "Epoch: 72 | Train Loss: 10.70073749173072 | Valid Loss: 31.055456161499023\n",
      "Epoch: 73 | Train Loss: 11.21658423639113 | Valid Loss: 31.055456161499023\n",
      "Epoch: 74 | Train Loss: 11.255727368016396 | Valid Loss: 31.055456161499023\n",
      "Epoch: 75 | Train Loss: 11.284028945430633 | Valid Loss: 31.055456161499023\n",
      "Epoch: 76 | Train Loss: 13.469046500421339 | Valid Loss: 31.055456161499023\n",
      "Epoch: 77 | Train Loss: 15.261460058150753 | Valid Loss: 31.055456161499023\n",
      "Epoch: 78 | Train Loss: 16.516515424174646 | Valid Loss: 31.055456161499023\n",
      "Epoch: 79 | Train Loss: 14.462196780789283 | Valid Loss: 31.055456161499023\n",
      "Epoch: 80 | Train Loss: 16.92206504268031 | Valid Loss: 31.055456161499023\n",
      "Epoch: 81 | Train Loss: 15.430086043573194 | Valid Loss: 31.055456161499023\n",
      "Epoch: 82 | Train Loss: 14.744831638951455 | Valid Loss: 31.055456161499023\n",
      "Epoch: 83 | Train Loss: 13.584636965105611 | Valid Loss: 31.055456161499023\n",
      "Epoch: 84 | Train Loss: 14.34932234979445 | Valid Loss: 29.129335403442383\n",
      "Epoch: 85 | Train Loss: 13.135831309903052 | Valid Loss: 29.129335403442383\n",
      "Epoch: 86 | Train Loss: 22.566340400326638 | Valid Loss: 29.129335403442383\n",
      "Epoch: 87 | Train Loss: 15.160139514553931 | Valid Loss: 29.129335403442383\n",
      "Epoch: 88 | Train Loss: 10.723241775266585 | Valid Loss: 28.687707901000977\n",
      "Epoch: 89 | Train Loss: 9.8072937380883 | Valid Loss: 28.124862670898438\n",
      "Epoch: 90 | Train Loss: 9.622544903909006 | Valid Loss: 28.124862670898438\n",
      "Epoch: 91 | Train Loss: 11.124491876171481 | Valid Loss: 24.20061683654785\n",
      "Epoch: 92 | Train Loss: 9.141207018206197 | Valid Loss: 24.20061683654785\n",
      "Epoch: 93 | Train Loss: 6.886459012185374 | Valid Loss: 24.20061683654785\n",
      "Epoch: 94 | Train Loss: 7.1510120361082015 | Valid Loss: 24.20061683654785\n",
      "Epoch: 95 | Train Loss: 7.590349720370385 | Valid Loss: 24.20061683654785\n",
      "Epoch: 96 | Train Loss: 8.509622635379914 | Valid Loss: 24.20061683654785\n",
      "Epoch: 97 | Train Loss: 6.688483653529998 | Valid Loss: 24.20061683654785\n",
      "Epoch: 98 | Train Loss: 6.700057891107375 | Valid Loss: 24.20061683654785\n",
      "Epoch: 99 | Train Loss: 6.300966324344758 | Valid Loss: 24.20061683654785\n",
      "Epoch: 100 | Train Loss: 6.857585399381576 | Valid Loss: 23.117708206176758\n",
      "Epoch: 101 | Train Loss: 8.05003821465277 | Valid Loss: 23.117708206176758\n",
      "Epoch: 102 | Train Loss: 7.558410167694092 | Valid Loss: 23.117708206176758\n",
      "Epoch: 103 | Train Loss: 7.068626642227173 | Valid Loss: 23.117708206176758\n",
      "Epoch: 104 | Train Loss: 7.830874319999449 | Valid Loss: 23.117708206176758\n",
      "Epoch: 105 | Train Loss: 7.232220680482926 | Valid Loss: 23.117708206176758\n",
      "Epoch: 106 | Train Loss: 7.350782655900525 | Valid Loss: 22.026145935058594\n",
      "Epoch: 107 | Train Loss: 6.659341719842726 | Valid Loss: 22.026145935058594\n",
      "Epoch: 108 | Train Loss: 5.761818547402659 | Valid Loss: 22.026145935058594\n",
      "Epoch: 109 | Train Loss: 5.804549955552624 | Valid Loss: 22.026145935058594\n"
     ]
    },
    {
     "name": "stdout",
     "output_type": "stream",
     "text": [
      "Epoch: 110 | Train Loss: 5.4599123154917075 | Valid Loss: 22.026145935058594\n",
      "Epoch: 111 | Train Loss: 6.089518823931294 | Valid Loss: 22.026145935058594\n",
      "Epoch: 112 | Train Loss: 5.52515975890621 | Valid Loss: 22.026145935058594\n",
      "Epoch: 113 | Train Loss: 5.422321319580078 | Valid Loss: 22.026145935058594\n",
      "Epoch: 114 | Train Loss: 5.345855405253749 | Valid Loss: 22.026145935058594\n",
      "Epoch: 115 | Train Loss: 5.593592505301198 | Valid Loss: 22.026145935058594\n",
      "Epoch: 116 | Train Loss: 6.871968238584457 | Valid Loss: 22.026145935058594\n",
      "Epoch: 117 | Train Loss: 3.997867415028234 | Valid Loss: 22.026145935058594\n",
      "Epoch: 118 | Train Loss: 4.485982433442147 | Valid Loss: 21.064115524291992\n",
      "Epoch: 119 | Train Loss: 4.427071279095065 | Valid Loss: 21.064115524291992\n",
      "Epoch: 120 | Train Loss: 6.20421520356209 | Valid Loss: 19.75558853149414\n",
      "Epoch: 121 | Train Loss: 4.526533488304384 | Valid Loss: 19.75558853149414\n",
      "Epoch: 122 | Train Loss: 4.355928344111288 | Valid Loss: 19.75558853149414\n",
      "Epoch: 123 | Train Loss: 3.8177903467609036 | Valid Loss: 19.75558853149414\n",
      "Epoch: 124 | Train Loss: 3.5058345640859296 | Valid Loss: 19.75558853149414\n",
      "Epoch: 125 | Train Loss: 4.64782533337993 | Valid Loss: 19.75558853149414\n",
      "Epoch: 126 | Train Loss: 5.3939026863344255 | Valid Loss: 19.75558853149414\n",
      "Epoch: 127 | Train Loss: 4.481238295955043 | Valid Loss: 17.630651473999023\n",
      "Epoch: 128 | Train Loss: 4.505478228292158 | Valid Loss: 17.630651473999023\n",
      "Epoch: 129 | Train Loss: 3.558847996496385 | Valid Loss: 17.630651473999023\n",
      "Epoch: 130 | Train Loss: 3.6115905777100594 | Valid Loss: 16.761266708374023\n",
      "Epoch: 131 | Train Loss: 3.400163642821773 | Valid Loss: 16.761266708374023\n",
      "Epoch: 132 | Train Loss: 4.3020910447643645 | Valid Loss: 16.761266708374023\n",
      "Epoch: 133 | Train Loss: 4.132815437932169 | Valid Loss: 16.435466766357422\n",
      "Epoch: 134 | Train Loss: 3.7273799603985203 | Valid Loss: 16.435466766357422\n",
      "Epoch: 135 | Train Loss: 3.760442033890755 | Valid Loss: 16.435466766357422\n",
      "Epoch: 136 | Train Loss: 4.040977201154155 | Valid Loss: 16.435466766357422\n",
      "Epoch: 137 | Train Loss: 3.706589129663283 | Valid Loss: 16.435466766357422\n",
      "Epoch: 138 | Train Loss: 4.400371136203889 | Valid Loss: 16.435466766357422\n",
      "Epoch: 139 | Train Loss: 5.197767519181775 | Valid Loss: 16.435466766357422\n",
      "Epoch: 140 | Train Loss: 4.599897907626245 | Valid Loss: 16.435466766357422\n",
      "Epoch: 141 | Train Loss: 3.3229596537928425 | Valid Loss: 16.435466766357422\n",
      "Epoch: 142 | Train Loss: 2.6711191592677945 | Valid Loss: 16.435466766357422\n",
      "Epoch: 143 | Train Loss: 2.4674276844147713 | Valid Loss: 16.435466766357422\n",
      "Epoch: 144 | Train Loss: 3.814824319654895 | Valid Loss: 16.435466766357422\n",
      "Epoch: 145 | Train Loss: 2.926060268955846 | Valid Loss: 16.435466766357422\n",
      "Epoch: 146 | Train Loss: 3.0518712843618085 | Valid Loss: 16.435466766357422\n",
      "Epoch: 147 | Train Loss: 3.454996109008789 | Valid Loss: 16.435466766357422\n",
      "Epoch: 148 | Train Loss: 4.069792178369338 | Valid Loss: 16.435466766357422\n",
      "Epoch: 149 | Train Loss: 4.605910608845372 | Valid Loss: 15.707915306091309\n",
      "Epoch: 150 | Train Loss: 4.44201539408776 | Valid Loss: 15.707915306091309\n",
      "Epoch: 151 | Train Loss: 3.6021481406304146 | Valid Loss: 15.707915306091309\n",
      "Epoch: 152 | Train Loss: 2.2465598083311513 | Valid Loss: 15.707915306091309\n",
      "Epoch: 153 | Train Loss: 2.0262794802265782 | Valid Loss: 15.707915306091309\n",
      "Epoch: 154 | Train Loss: 1.889890355448569 | Valid Loss: 15.707915306091309\n",
      "Epoch: 155 | Train Loss: 2.136482346442438 | Valid Loss: 15.707915306091309\n",
      "Epoch: 156 | Train Loss: 2.0962910421432985 | Valid Loss: 15.41165542602539\n",
      "Epoch: 157 | Train Loss: 2.3554406704441195 | Valid Loss: 15.41165542602539\n",
      "Epoch: 158 | Train Loss: 2.271958085798448 | Valid Loss: 15.41165542602539\n",
      "Epoch: 159 | Train Loss: 1.856622576713562 | Valid Loss: 15.41165542602539\n",
      "Epoch: 160 | Train Loss: 2.4738129954184256 | Valid Loss: 15.41165542602539\n",
      "Epoch: 161 | Train Loss: 3.4477202046302056 | Valid Loss: 15.41165542602539\n",
      "Epoch: 162 | Train Loss: 2.980527062569895 | Valid Loss: 15.41165542602539\n",
      "Epoch: 163 | Train Loss: 2.7209843204867457 | Valid Loss: 15.41165542602539\n",
      "Epoch: 164 | Train Loss: 2.917799572790823 | Valid Loss: 15.41165542602539\n",
      "Epoch: 165 | Train Loss: 3.4504024943997784 | Valid Loss: 15.41165542602539\n",
      "Epoch: 166 | Train Loss: 2.8560691956550843 | Valid Loss: 15.41165542602539\n",
      "Epoch: 167 | Train Loss: 2.7954690302571943 | Valid Loss: 14.399646759033203\n",
      "Epoch: 168 | Train Loss: 2.5053752237750637 | Valid Loss: 14.399646759033203\n",
      "Epoch: 169 | Train Loss: 3.1259721556017475 | Valid Loss: 14.399646759033203\n",
      "Epoch: 170 | Train Loss: 2.7300027108961538 | Valid Loss: 14.399646759033203\n",
      "Epoch: 171 | Train Loss: 2.2477891522069133 | Valid Loss: 14.399646759033203\n",
      "Epoch: 172 | Train Loss: 2.607609598867355 | Valid Loss: 14.399646759033203\n",
      "Epoch: 173 | Train Loss: 2.6846954822540283 | Valid Loss: 14.399646759033203\n",
      "Epoch: 174 | Train Loss: 2.6079955562468498 | Valid Loss: 14.399646759033203\n",
      "Epoch: 175 | Train Loss: 2.5332529544830322 | Valid Loss: 14.399646759033203\n",
      "Epoch: 176 | Train Loss: 3.405206887952743 | Valid Loss: 14.399646759033203\n",
      "Epoch: 177 | Train Loss: 2.9157175094850603 | Valid Loss: 14.399646759033203\n",
      "Epoch: 178 | Train Loss: 2.8617620814231133 | Valid Loss: 14.399646759033203\n",
      "Epoch: 179 | Train Loss: 2.7276656935291905 | Valid Loss: 14.399646759033203\n",
      "Epoch: 180 | Train Loss: 2.652877523053077 | Valid Loss: 14.399646759033203\n",
      "Epoch: 181 | Train Loss: 4.074003342659243 | Valid Loss: 14.399646759033203\n",
      "Epoch: 182 | Train Loss: 2.9334841235991447 | Valid Loss: 14.399646759033203\n",
      "Epoch: 183 | Train Loss: 2.893432224950483 | Valid Loss: 14.399646759033203\n",
      "Epoch: 184 | Train Loss: 2.75720953172253 | Valid Loss: 14.399646759033203\n",
      "Epoch: 185 | Train Loss: 2.3650003979282994 | Valid Loss: 14.399646759033203\n",
      "Epoch: 186 | Train Loss: 2.342104750294839 | Valid Loss: 14.399646759033203\n",
      "Epoch: 187 | Train Loss: 2.21382491050228 | Valid Loss: 14.399646759033203\n",
      "Epoch: 188 | Train Loss: 1.7460874742077244 | Valid Loss: 14.399646759033203\n",
      "Epoch: 189 | Train Loss: 2.131474587225145 | Valid Loss: 14.399646759033203\n",
      "Epoch: 190 | Train Loss: 2.412101476423202 | Valid Loss: 14.399646759033203\n",
      "Epoch: 191 | Train Loss: 2.02581391795989 | Valid Loss: 13.494115829467773\n",
      "Epoch: 192 | Train Loss: 2.1742991785849295 | Valid Loss: 13.347604751586914\n",
      "Epoch: 193 | Train Loss: 1.9658098220825195 | Valid Loss: 13.347604751586914\n",
      "Epoch: 194 | Train Loss: 1.8349669979464622 | Valid Loss: 13.347604751586914\n",
      "Epoch: 195 | Train Loss: 2.515265272509667 | Valid Loss: 13.347604751586914\n",
      "Epoch: 196 | Train Loss: 2.4054874950839626 | Valid Loss: 13.347604751586914\n",
      "Epoch: 197 | Train Loss: 2.342380485227031 | Valid Loss: 13.347604751586914\n",
      "Epoch: 198 | Train Loss: 1.8573688691662205 | Valid Loss: 13.347604751586914\n",
      "Epoch: 199 | Train Loss: 1.5984599513392295 | Valid Loss: 13.347604751586914\n",
      "Epoch: 200 | Train Loss: 1.9511103860793575 | Valid Loss: 13.347604751586914\n",
      "Epoch: 201 | Train Loss: 2.1107316478606193 | Valid Loss: 13.347604751586914\n",
      "Epoch: 202 | Train Loss: 1.880095105017385 | Valid Loss: 13.347604751586914\n",
      "Epoch: 203 | Train Loss: 1.7173303557980446 | Valid Loss: 13.221833229064941\n",
      "Epoch: 204 | Train Loss: 1.7030036910887687 | Valid Loss: 13.221833229064941\n",
      "Epoch: 205 | Train Loss: 1.7658171115383026 | Valid Loss: 13.221833229064941\n",
      "Epoch: 206 | Train Loss: 1.3533439828503517 | Valid Loss: 13.221833229064941\n",
      "Epoch: 207 | Train Loss: 1.6828538640852897 | Valid Loss: 13.221833229064941\n",
      "Epoch: 208 | Train Loss: 1.5872148083102318 | Valid Loss: 13.221833229064941\n",
      "Epoch: 209 | Train Loss: 1.837728742630251 | Valid Loss: 13.221833229064941\n",
      "Epoch: 210 | Train Loss: 1.548996175489118 | Valid Loss: 13.221833229064941\n",
      "Epoch: 211 | Train Loss: 1.851555908879926 | Valid Loss: 13.221833229064941\n",
      "Epoch: 212 | Train Loss: 1.8873140658101728 | Valid Loss: 13.221833229064941\n",
      "Epoch: 213 | Train Loss: 1.7237607048403831 | Valid Loss: 13.221833229064941\n",
      "Epoch: 214 | Train Loss: 1.6220620216861847 | Valid Loss: 13.221833229064941\n",
      "Epoch: 215 | Train Loss: 1.6962028241926623 | Valid Loss: 13.221833229064941\n",
      "Epoch: 216 | Train Loss: 1.8044004440307617 | Valid Loss: 11.734382629394531\n",
      "Epoch: 217 | Train Loss: 2.0138392025424587 | Valid Loss: 11.700850486755371\n"
     ]
    },
    {
     "name": "stdout",
     "output_type": "stream",
     "text": [
      "Epoch: 218 | Train Loss: 1.5186438983486545 | Valid Loss: 10.445535659790039\n",
      "Epoch: 219 | Train Loss: 1.6297202302563576 | Valid Loss: 10.445535659790039\n",
      "Epoch: 220 | Train Loss: 1.702839978279606 | Valid Loss: 10.445535659790039\n",
      "Epoch: 221 | Train Loss: 1.7411507560360817 | Valid Loss: 10.445535659790039\n",
      "Epoch: 222 | Train Loss: 1.9471208126314226 | Valid Loss: 10.445535659790039\n",
      "Epoch: 223 | Train Loss: 1.8951215974746212 | Valid Loss: 10.445535659790039\n",
      "Epoch: 224 | Train Loss: 2.20454046803136 | Valid Loss: 10.445535659790039\n",
      "Epoch: 225 | Train Loss: 2.0459997423233522 | Valid Loss: 10.445535659790039\n",
      "Epoch: 226 | Train Loss: 1.5765603588473411 | Valid Loss: 10.445535659790039\n",
      "Epoch: 227 | Train Loss: 2.247507825974495 | Valid Loss: 10.445535659790039\n",
      "Epoch: 228 | Train Loss: 1.630893426556741 | Valid Loss: 10.445535659790039\n",
      "Epoch: 229 | Train Loss: 1.58402681350708 | Valid Loss: 10.445535659790039\n",
      "Epoch: 230 | Train Loss: 1.8447369067899642 | Valid Loss: 10.445535659790039\n",
      "Epoch: 231 | Train Loss: 1.6641884888372114 | Valid Loss: 10.445535659790039\n",
      "Epoch: 232 | Train Loss: 2.2026933181670403 | Valid Loss: 10.445535659790039\n",
      "Epoch: 233 | Train Loss: 2.335072228985448 | Valid Loss: 10.445535659790039\n",
      "Epoch: 234 | Train Loss: 2.484691858291626 | Valid Loss: 10.445535659790039\n",
      "Epoch: 235 | Train Loss: 2.1964005039584253 | Valid Loss: 10.445535659790039\n",
      "Epoch: 236 | Train Loss: 2.0224743889224146 | Valid Loss: 10.445535659790039\n",
      "Epoch: 237 | Train Loss: 2.2235798758845173 | Valid Loss: 10.445535659790039\n",
      "Epoch: 238 | Train Loss: 2.2178243206393335 | Valid Loss: 10.445535659790039\n",
      "Epoch: 239 | Train Loss: 2.442896273828322 | Valid Loss: 10.445535659790039\n",
      "Epoch: 240 | Train Loss: 2.2411122591264787 | Valid Loss: 10.445535659790039\n",
      "Epoch: 241 | Train Loss: 2.1107707292802873 | Valid Loss: 10.445535659790039\n",
      "Epoch: 242 | Train Loss: 2.236237202921221 | Valid Loss: 10.445535659790039\n",
      "Epoch: 243 | Train Loss: 2.1536897613156225 | Valid Loss: 10.445535659790039\n",
      "Epoch: 244 | Train Loss: 2.0998892861027874 | Valid Loss: 10.445535659790039\n",
      "Epoch: 245 | Train Loss: 2.631803189554522 | Valid Loss: 10.445535659790039\n",
      "Epoch: 246 | Train Loss: 2.294521716333205 | Valid Loss: 10.445535659790039\n",
      "Epoch: 247 | Train Loss: 2.2540539464642926 | Valid Loss: 10.445535659790039\n",
      "Epoch: 248 | Train Loss: 2.7038441608029027 | Valid Loss: 10.445535659790039\n",
      "Epoch: 249 | Train Loss: 1.5242859240501159 | Valid Loss: 10.445535659790039\n",
      "Epoch: 250 | Train Loss: 1.6294212610490861 | Valid Loss: 10.445535659790039\n",
      "Epoch: 251 | Train Loss: 2.164760366562874 | Valid Loss: 10.445535659790039\n",
      "Epoch: 252 | Train Loss: 1.8155637325779084 | Valid Loss: 10.445535659790039\n",
      "Epoch: 253 | Train Loss: 1.8371491970554474 | Valid Loss: 10.445535659790039\n",
      "Epoch: 254 | Train Loss: 1.4625336470142487 | Valid Loss: 10.445535659790039\n",
      "Epoch: 255 | Train Loss: 1.6533734279294168 | Valid Loss: 10.445535659790039\n",
      "Epoch: 256 | Train Loss: 1.8399835248147287 | Valid Loss: 10.445535659790039\n",
      "Epoch: 257 | Train Loss: 1.892310057916949 | Valid Loss: 10.445535659790039\n",
      "Epoch: 258 | Train Loss: 2.1653127824106524 | Valid Loss: 10.445535659790039\n",
      "Epoch: 259 | Train Loss: 2.74190701207807 | Valid Loss: 10.445535659790039\n",
      "Epoch: 260 | Train Loss: 2.148268738100606 | Valid Loss: 10.445535659790039\n",
      "Epoch: 261 | Train Loss: 2.944482757199195 | Valid Loss: 10.445535659790039\n",
      "Epoch: 262 | Train Loss: 2.1308600518011276 | Valid Loss: 10.445535659790039\n",
      "Epoch: 263 | Train Loss: 2.0793915410195627 | Valid Loss: 10.445535659790039\n",
      "Epoch: 264 | Train Loss: 2.4572506873838362 | Valid Loss: 10.445535659790039\n",
      "Epoch: 265 | Train Loss: 2.6418682067624983 | Valid Loss: 10.445535659790039\n",
      "Epoch: 266 | Train Loss: 2.2233263830984793 | Valid Loss: 10.445535659790039\n"
     ]
    }
   ],
   "source": [
    "go = GraphOperator(config=training_config)\n",
    "go.train(X_train, y_train, model_config=model_config)"
   ]
  },
  {
   "cell_type": "markdown",
   "id": "medical-malawi",
   "metadata": {},
   "source": [
    "Let's get predictions, then calculate prediction errors for the training and testing subsets:"
   ]
  },
  {
   "cell_type": "code",
   "execution_count": 8,
   "id": "extended-charlotte",
   "metadata": {},
   "outputs": [
    {
     "name": "stdout",
     "output_type": "stream",
     "text": [
      "Test Set: R2 = 0.7913214719874528, MAE = 1.7062225341796875\n",
      "Train Set: R2 = 0.9481418084360903, MAE = 0.9346351623535156\n"
     ]
    }
   ],
   "source": [
    "y_train_pred = go.use(X_train)\n",
    "y_test_pred = go.use(X_test)\n",
    "\n",
    "mae_test = median_absolute_error(y_test, y_test_pred)\n",
    "r2_test = r2_score(y_test, y_test_pred)\n",
    "\n",
    "mae_train = median_absolute_error(y_train, y_train_pred)\n",
    "r2_train = r2_score(y_train, y_train_pred)\n",
    "\n",
    "print('Test Set: R2 = {}, MAE = {}'.format(r2_test, mae_test))\n",
    "print('Train Set: R2 = {}, MAE = {}'.format(r2_train, mae_train))"
   ]
  },
  {
   "cell_type": "markdown",
   "id": "secret-stomach",
   "metadata": {},
   "source": [
    "And let's plot our results:"
   ]
  },
  {
   "cell_type": "code",
   "execution_count": 9,
   "id": "second-rocket",
   "metadata": {},
   "outputs": [
    {
     "data": {
      "image/png": "[encoded data removed]",
      "text/plain": [
       "<Figure size 432x288 with 1 Axes>"
      ]
     },
     "metadata": {
      "needs_background": "light"
     },
     "output_type": "display_data"
    }
   ],
   "source": [
    "plt.title('Predicted Lower Heating Value vs. Experimental Lower Heating Value')\n",
    "plt.xlabel('Experimental Value')\n",
    "plt.ylabel('Predicted Value')\n",
    "plt.scatter(y_train, y_train_pred, color='blue', label='Train')\n",
    "plt.scatter(y_test, y_test_pred, color='red', label='Test')\n",
    "plt.legend(loc='upper left')\n",
    "plt.show()"
   ]
  },
  {
   "cell_type": "code",
   "execution_count": null,
   "id": "official-array",
   "metadata": {},
   "outputs": [],
   "source": []
  }
 ],
 "metadata": {
  "kernelspec": {
   "display_name": "Python 3",
   "language": "python",
   "name": "python3"
  },
  "language_info": {
   "codemirror_mode": {
    "name": "ipython",
    "version": 3
   },
   "file_extension": ".py",
   "mimetype": "text/x-python",
   "name": "python",
   "nbconvert_exporter": "python",
   "pygments_lexer": "ipython3",
   "version": "3.8.8"
  }
 },
 "nbformat": 4,
 "nbformat_minor": 5
}
