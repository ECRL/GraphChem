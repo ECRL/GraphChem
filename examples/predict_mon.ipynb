{
 "cells": [
  {
   "cell_type": "markdown",
   "id": "trained-creature",
   "metadata": {},
   "source": [
    "First, let's import everything we need, and load some MON data:"
   ]
  },
  {
   "cell_type": "code",
   "execution_count": 1,
   "id": "alternative-bearing",
   "metadata": {},
   "outputs": [],
   "source": [
    "# Import the Graph Operator - handles data preparation, model creation/recall, hand-off of data to model\n",
    "from graphchem import GraphOperator"
   ]
  },
  {
   "cell_type": "code",
   "execution_count": 2,
   "id": "helpful-biology",
   "metadata": {},
   "outputs": [],
   "source": [
    "# Other dependencies are for data segmentation, set metric calculations, plotting\n",
    "from sklearn.model_selection import train_test_split\n",
    "from sklearn.metrics import median_absolute_error, r2_score\n",
    "from matplotlib import pyplot as plt"
   ]
  },
  {
   "cell_type": "code",
   "execution_count": 3,
   "id": "union-drilling",
   "metadata": {},
   "outputs": [
    {
     "name": "stdout",
     "output_type": "stream",
     "text": [
      "['CCCCO', 'CCO', 'CO'] \n",
      " [[85.0], [90.0], [89.0]]\n"
     ]
    }
   ],
   "source": [
    "# Load some MON data\n",
    "from graphchem.datasets import load_mon\n",
    "smiles, mon = load_mon()\n",
    "print(smiles[:3], '\\n', mon[:3])"
   ]
  },
  {
   "cell_type": "code",
   "execution_count": 4,
   "id": "revolutionary-admission",
   "metadata": {},
   "outputs": [
    {
     "name": "stdout",
     "output_type": "stream",
     "text": [
      "246 246 62 62\n"
     ]
    }
   ],
   "source": [
    "# Create training, testing subsets\n",
    "X_train, X_test, y_train, y_test = train_test_split(\n",
    "    smiles, mon, test_size=0.20, random_state=42\n",
    ")\n",
    "print(len(X_train), len(y_train), len(X_test), len(y_test))"
   ]
  },
  {
   "cell_type": "markdown",
   "id": "european-diversity",
   "metadata": {},
   "source": [
    "We need to set up some variables for our training process (i.e. hyper-parameters). In the future, these will be tunable to reduce model error."
   ]
  },
  {
   "cell_type": "code",
   "execution_count": 5,
   "id": "mobile-prevention",
   "metadata": {},
   "outputs": [],
   "source": [
    "training_config = {\n",
    "    'task': 'graph',\n",
    "    'valid_size': 0.2,\n",
    "    'valid_epoch_iter': 1,\n",
    "    'valid_patience': 64,\n",
    "    'batch_size': 32,\n",
    "    'learning_rate': 0.001,\n",
    "    'lr_decay': 0.0000001,\n",
    "    'epochs': 500,\n",
    "    'verbose': 1\n",
    "}"
   ]
  },
  {
   "cell_type": "markdown",
   "id": "lyric-frank",
   "metadata": {},
   "source": [
    "We also need to define our model's architecture:"
   ]
  },
  {
   "cell_type": "code",
   "execution_count": 6,
   "id": "precise-queens",
   "metadata": {},
   "outputs": [],
   "source": [
    "model_config = {\n",
    "    'n_messages': 2,\n",
    "    'n_hidden': 3,\n",
    "    'hidden_msg_dim': 128,\n",
    "    'hidden_dim': 256,\n",
    "    'dropout': 0.01\n",
    "}"
   ]
  },
  {
   "cell_type": "markdown",
   "id": "linear-spider",
   "metadata": {},
   "source": [
    "Now let's initialize the Graph Operator, and train our model:"
   ]
  },
  {
   "cell_type": "code",
   "execution_count": 7,
   "id": "matched-incentive",
   "metadata": {},
   "outputs": [
    {
     "name": "stderr",
     "output_type": "stream",
     "text": [
      "/Users/tjkessler/anaconda3/envs/torch_geometric/lib/python3.8/site-packages/graphchem-1.0.0-py3.8.egg/graphchem/operator.py:43: UserWarning: device config value not found: default value set, cpu\n",
      "  warnings.warn(\n"
     ]
    },
    {
     "name": "stdout",
     "output_type": "stream",
     "text": [
      "Epoch: 0 | Train Loss: 2712.8634755660078 | Valid Loss: 1719.685302734375\n",
      "Epoch: 1 | Train Loss: 1044.531773158482 | Valid Loss: 650.1519775390625\n",
      "Epoch: 2 | Train Loss: 675.7366519850127 | Valid Loss: 521.6205444335938\n",
      "Epoch: 3 | Train Loss: 480.15634528958066 | Valid Loss: 521.6205444335938\n",
      "Epoch: 4 | Train Loss: 513.2172178930166 | Valid Loss: 386.8822021484375\n",
      "Epoch: 5 | Train Loss: 449.6928701595384 | Valid Loss: 386.8822021484375\n",
      "Epoch: 6 | Train Loss: 460.8499425771285 | Valid Loss: 386.8822021484375\n",
      "Epoch: 7 | Train Loss: 399.0389155173788 | Valid Loss: 386.8822021484375\n",
      "Epoch: 8 | Train Loss: 495.8991661850287 | Valid Loss: 379.1761779785156\n",
      "Epoch: 9 | Train Loss: 395.26361146265145 | Valid Loss: 353.39996337890625\n",
      "Epoch: 10 | Train Loss: 392.9388228435906 | Valid Loss: 353.39996337890625\n",
      "Epoch: 11 | Train Loss: 387.6839854960539 | Valid Loss: 350.36004638671875\n",
      "Epoch: 12 | Train Loss: 393.19954603545517 | Valid Loss: 350.36004638671875\n",
      "Epoch: 13 | Train Loss: 396.86236400993505 | Valid Loss: 344.5745849609375\n",
      "Epoch: 14 | Train Loss: 378.3821274115115 | Valid Loss: 344.5745849609375\n",
      "Epoch: 15 | Train Loss: 388.4575319874043 | Valid Loss: 344.5745849609375\n",
      "Epoch: 16 | Train Loss: 393.4202544543208 | Valid Loss: 344.5745849609375\n",
      "Epoch: 17 | Train Loss: 476.40614536830356 | Valid Loss: 344.5745849609375\n",
      "Epoch: 18 | Train Loss: 493.41508515027107 | Valid Loss: 344.5745849609375\n",
      "Epoch: 19 | Train Loss: 521.0097687390386 | Valid Loss: 344.5745849609375\n",
      "Epoch: 20 | Train Loss: 502.2940667600048 | Valid Loss: 344.5745849609375\n",
      "Epoch: 21 | Train Loss: 384.3027047137825 | Valid Loss: 344.5745849609375\n",
      "Epoch: 22 | Train Loss: 378.76418755978955 | Valid Loss: 344.5745849609375\n",
      "Epoch: 23 | Train Loss: 372.7278753786671 | Valid Loss: 344.5745849609375\n",
      "Epoch: 24 | Train Loss: 363.6860712790976 | Valid Loss: 328.0625915527344\n",
      "Epoch: 25 | Train Loss: 336.80126174615356 | Valid Loss: 314.8061218261719\n",
      "Epoch: 26 | Train Loss: 332.0996542171556 | Valid Loss: 303.6336669921875\n",
      "Epoch: 27 | Train Loss: 340.92993693449057 | Valid Loss: 284.6553649902344\n",
      "Epoch: 28 | Train Loss: 337.8724387032645 | Valid Loss: 284.6553649902344\n",
      "Epoch: 29 | Train Loss: 357.0566842215402 | Valid Loss: 284.6553649902344\n",
      "Epoch: 30 | Train Loss: 432.8504704845195 | Valid Loss: 284.6553649902344\n",
      "Epoch: 31 | Train Loss: 333.9854951196787 | Valid Loss: 284.6553649902344\n",
      "Epoch: 32 | Train Loss: 324.77693767936864 | Valid Loss: 284.6553649902344\n",
      "Epoch: 33 | Train Loss: 406.35033556879785 | Valid Loss: 284.6553649902344\n",
      "Epoch: 34 | Train Loss: 508.77813720703125 | Valid Loss: 284.6553649902344\n",
      "Epoch: 35 | Train Loss: 387.1835632324219 | Valid Loss: 284.6553649902344\n",
      "Epoch: 36 | Train Loss: 476.65442673040894 | Valid Loss: 284.6553649902344\n",
      "Epoch: 37 | Train Loss: 452.5776068239796 | Valid Loss: 284.6553649902344\n",
      "Epoch: 38 | Train Loss: 388.38832123425544 | Valid Loss: 284.6553649902344\n",
      "Epoch: 39 | Train Loss: 414.0475551060268 | Valid Loss: 284.6553649902344\n",
      "Epoch: 40 | Train Loss: 363.2644292091837 | Valid Loss: 284.6553649902344\n",
      "Epoch: 41 | Train Loss: 299.9244400335818 | Valid Loss: 284.6553649902344\n",
      "Epoch: 42 | Train Loss: 316.90358064612565 | Valid Loss: 282.2431640625\n",
      "Epoch: 43 | Train Loss: 305.4849816147162 | Valid Loss: 282.2431640625\n",
      "Epoch: 44 | Train Loss: 296.1573550165916 | Valid Loss: 282.2431640625\n",
      "Epoch: 45 | Train Loss: 312.1380403479751 | Valid Loss: 282.2431640625\n",
      "Epoch: 46 | Train Loss: 315.0297969895966 | Valid Loss: 282.2431640625\n",
      "Epoch: 47 | Train Loss: 289.4223621913365 | Valid Loss: 282.2431640625\n",
      "Epoch: 48 | Train Loss: 291.7433832908163 | Valid Loss: 282.2431640625\n",
      "Epoch: 49 | Train Loss: 357.6611066545759 | Valid Loss: 282.2431640625\n",
      "Epoch: 50 | Train Loss: 275.333504813058 | Valid Loss: 277.6435241699219\n",
      "Epoch: 51 | Train Loss: 291.5847977618782 | Valid Loss: 277.6435241699219\n",
      "Epoch: 52 | Train Loss: 307.61729649135043 | Valid Loss: 277.6435241699219\n",
      "Epoch: 53 | Train Loss: 322.71615538305167 | Valid Loss: 277.6435241699219\n",
      "Epoch: 54 | Train Loss: 285.2226381885762 | Valid Loss: 277.6435241699219\n",
      "Epoch: 55 | Train Loss: 277.5483820389728 | Valid Loss: 277.6435241699219\n",
      "Epoch: 56 | Train Loss: 282.9349801199777 | Valid Loss: 277.6435241699219\n",
      "Epoch: 57 | Train Loss: 366.76579814054526 | Valid Loss: 277.6435241699219\n",
      "Epoch: 58 | Train Loss: 289.95950862339566 | Valid Loss: 277.6435241699219\n",
      "Epoch: 59 | Train Loss: 285.09829400510205 | Valid Loss: 277.6435241699219\n",
      "Epoch: 60 | Train Loss: 387.15134040676816 | Valid Loss: 277.6435241699219\n",
      "Epoch: 61 | Train Loss: 344.8323333117427 | Valid Loss: 277.6435241699219\n",
      "Epoch: 62 | Train Loss: 305.136511977838 | Valid Loss: 277.6435241699219\n",
      "Epoch: 63 | Train Loss: 291.0151915258291 | Valid Loss: 277.6435241699219\n",
      "Epoch: 64 | Train Loss: 366.907884247449 | Valid Loss: 277.6435241699219\n",
      "Epoch: 65 | Train Loss: 387.37972960180167 | Valid Loss: 277.6435241699219\n",
      "Epoch: 66 | Train Loss: 393.46618122957193 | Valid Loss: 277.6435241699219\n",
      "Epoch: 67 | Train Loss: 297.95844253228637 | Valid Loss: 277.6435241699219\n",
      "Epoch: 68 | Train Loss: 289.23118560168206 | Valid Loss: 277.6435241699219\n",
      "Epoch: 69 | Train Loss: 303.295368428133 | Valid Loss: 277.6435241699219\n",
      "Epoch: 70 | Train Loss: 370.5446802256059 | Valid Loss: 267.6595764160156\n",
      "Epoch: 71 | Train Loss: 318.2922930036272 | Valid Loss: 267.6595764160156\n",
      "Epoch: 72 | Train Loss: 284.11743880291374 | Valid Loss: 267.6595764160156\n",
      "Epoch: 73 | Train Loss: 255.67738887241907 | Valid Loss: 267.6595764160156\n",
      "Epoch: 74 | Train Loss: 270.8396442569032 | Valid Loss: 267.6595764160156\n",
      "Epoch: 75 | Train Loss: 248.11394827706474 | Valid Loss: 267.6595764160156\n",
      "Epoch: 76 | Train Loss: 302.0379741435148 | Valid Loss: 267.6595764160156\n",
      "Epoch: 77 | Train Loss: 339.1699969233299 | Valid Loss: 267.6595764160156\n",
      "Epoch: 78 | Train Loss: 294.84714118801816 | Valid Loss: 267.6595764160156\n",
      "Epoch: 79 | Train Loss: 387.090989716199 | Valid Loss: 267.6595764160156\n",
      "Epoch: 80 | Train Loss: 344.0594569614955 | Valid Loss: 267.6595764160156\n",
      "Epoch: 81 | Train Loss: 291.40451258056015 | Valid Loss: 267.6595764160156\n",
      "Epoch: 82 | Train Loss: 242.94692619479432 | Valid Loss: 267.6595764160156\n",
      "Epoch: 83 | Train Loss: 316.1305853396046 | Valid Loss: 267.6595764160156\n",
      "Epoch: 84 | Train Loss: 278.4092327040069 | Valid Loss: 267.6595764160156\n",
      "Epoch: 85 | Train Loss: 279.47438158307756 | Valid Loss: 267.6595764160156\n",
      "Epoch: 86 | Train Loss: 255.09499561543367 | Valid Loss: 267.6595764160156\n",
      "Epoch: 87 | Train Loss: 266.12111056580835 | Valid Loss: 267.6595764160156\n",
      "Epoch: 88 | Train Loss: 277.1225160871233 | Valid Loss: 267.6595764160156\n",
      "Epoch: 89 | Train Loss: 260.13817861128825 | Valid Loss: 267.6595764160156\n",
      "Epoch: 90 | Train Loss: 254.2926068987165 | Valid Loss: 267.6595764160156\n",
      "Epoch: 91 | Train Loss: 288.6881066147162 | Valid Loss: 245.20648193359375\n",
      "Epoch: 92 | Train Loss: 238.50795823700574 | Valid Loss: 245.20648193359375\n",
      "Epoch: 93 | Train Loss: 228.66775045589526 | Valid Loss: 245.20648193359375\n",
      "Epoch: 94 | Train Loss: 220.07986201072225 | Valid Loss: 245.20648193359375\n",
      "Epoch: 95 | Train Loss: 219.5265110560826 | Valid Loss: 245.20648193359375\n",
      "Epoch: 96 | Train Loss: 227.9528045654297 | Valid Loss: 245.20648193359375\n",
      "Epoch: 97 | Train Loss: 282.2487036257374 | Valid Loss: 245.20648193359375\n",
      "Epoch: 98 | Train Loss: 210.32729728854432 | Valid Loss: 245.20648193359375\n",
      "Epoch: 99 | Train Loss: 221.34437187350525 | Valid Loss: 245.20648193359375\n",
      "Epoch: 100 | Train Loss: 209.71528999172912 | Valid Loss: 225.18399047851562\n",
      "Epoch: 101 | Train Loss: 208.6652726153938 | Valid Loss: 225.18399047851562\n",
      "Epoch: 102 | Train Loss: 233.68317004612513 | Valid Loss: 225.18399047851562\n",
      "Epoch: 103 | Train Loss: 213.99595291760502 | Valid Loss: 225.18399047851562\n",
      "Epoch: 104 | Train Loss: 213.9903078663106 | Valid Loss: 225.18399047851562\n",
      "Epoch: 105 | Train Loss: 201.29559699856506 | Valid Loss: 225.18399047851562\n",
      "Epoch: 106 | Train Loss: 294.7989827370157 | Valid Loss: 225.18399047851562\n",
      "Epoch: 107 | Train Loss: 231.11661140286193 | Valid Loss: 225.18399047851562\n",
      "Epoch: 108 | Train Loss: 218.6974604859644 | Valid Loss: 225.18399047851562\n",
      "Epoch: 109 | Train Loss: 222.60065008669483 | Valid Loss: 225.18399047851562\n",
      "Epoch: 110 | Train Loss: 205.46032621422592 | Valid Loss: 225.18399047851562\n",
      "Epoch: 111 | Train Loss: 325.59316923180404 | Valid Loss: 225.18399047851562\n"
     ]
    },
    {
     "name": "stdout",
     "output_type": "stream",
     "text": [
      "Epoch: 112 | Train Loss: 302.56445748465404 | Valid Loss: 225.18399047851562\n",
      "Epoch: 113 | Train Loss: 247.79267167071907 | Valid Loss: 225.18399047851562\n",
      "Epoch: 114 | Train Loss: 338.780262538365 | Valid Loss: 225.18399047851562\n",
      "Epoch: 115 | Train Loss: 246.28164735132333 | Valid Loss: 225.18399047851562\n",
      "Epoch: 116 | Train Loss: 228.25972202845983 | Valid Loss: 219.59442138671875\n",
      "Epoch: 117 | Train Loss: 246.83865776840523 | Valid Loss: 219.59442138671875\n",
      "Epoch: 118 | Train Loss: 263.43966861647004 | Valid Loss: 219.59442138671875\n",
      "Epoch: 119 | Train Loss: 252.1708423848055 | Valid Loss: 219.59442138671875\n",
      "Epoch: 120 | Train Loss: 229.46193944191447 | Valid Loss: 219.59442138671875\n",
      "Epoch: 121 | Train Loss: 248.17331329657108 | Valid Loss: 219.59442138671875\n",
      "Epoch: 122 | Train Loss: 185.7667918302575 | Valid Loss: 219.59442138671875\n",
      "Epoch: 123 | Train Loss: 225.8721039441167 | Valid Loss: 219.59442138671875\n",
      "Epoch: 124 | Train Loss: 243.7763852489238 | Valid Loss: 219.59442138671875\n",
      "Epoch: 125 | Train Loss: 245.79571797896403 | Valid Loss: 219.59442138671875\n",
      "Epoch: 126 | Train Loss: 211.22874123709542 | Valid Loss: 219.59442138671875\n",
      "Epoch: 127 | Train Loss: 189.59907749720983 | Valid Loss: 219.59442138671875\n",
      "Epoch: 128 | Train Loss: 218.13675860969389 | Valid Loss: 219.59442138671875\n",
      "Epoch: 129 | Train Loss: 234.44907363580197 | Valid Loss: 219.59442138671875\n",
      "Epoch: 130 | Train Loss: 288.54251596878987 | Valid Loss: 219.59442138671875\n",
      "Epoch: 131 | Train Loss: 198.2778102719054 | Valid Loss: 219.59442138671875\n",
      "Epoch: 132 | Train Loss: 270.39718503368147 | Valid Loss: 219.59442138671875\n",
      "Epoch: 133 | Train Loss: 174.89728032326212 | Valid Loss: 219.59442138671875\n",
      "Epoch: 134 | Train Loss: 190.4991140560228 | Valid Loss: 219.59442138671875\n",
      "Epoch: 135 | Train Loss: 172.51128247319434 | Valid Loss: 218.86830139160156\n",
      "Epoch: 136 | Train Loss: 186.48512143504863 | Valid Loss: 218.86830139160156\n",
      "Epoch: 137 | Train Loss: 174.24581161810428 | Valid Loss: 218.86830139160156\n",
      "Epoch: 138 | Train Loss: 182.60935880699935 | Valid Loss: 218.86830139160156\n",
      "Epoch: 139 | Train Loss: 185.2538081577846 | Valid Loss: 218.86830139160156\n",
      "Epoch: 140 | Train Loss: 219.48164336535396 | Valid Loss: 218.86830139160156\n",
      "Epoch: 141 | Train Loss: 192.18976888851245 | Valid Loss: 218.86830139160156\n",
      "Epoch: 142 | Train Loss: 188.66744092045997 | Valid Loss: 218.86830139160156\n",
      "Epoch: 143 | Train Loss: 171.84272843964246 | Valid Loss: 218.86830139160156\n",
      "Epoch: 144 | Train Loss: 177.12071819694674 | Valid Loss: 197.51202392578125\n",
      "Epoch: 145 | Train Loss: 161.868093685228 | Valid Loss: 197.51202392578125\n",
      "Epoch: 146 | Train Loss: 172.8850608358578 | Valid Loss: 197.51202392578125\n",
      "Epoch: 147 | Train Loss: 269.9581278586874 | Valid Loss: 197.51202392578125\n",
      "Epoch: 148 | Train Loss: 231.17994409677934 | Valid Loss: 197.51202392578125\n",
      "Epoch: 149 | Train Loss: 167.84581118213887 | Valid Loss: 197.51202392578125\n",
      "Epoch: 150 | Train Loss: 173.87675662916533 | Valid Loss: 197.51202392578125\n",
      "Epoch: 151 | Train Loss: 169.06484938640983 | Valid Loss: 197.51202392578125\n",
      "Epoch: 152 | Train Loss: 241.92081163367448 | Valid Loss: 197.51202392578125\n",
      "Epoch: 153 | Train Loss: 194.37459268375318 | Valid Loss: 194.85488891601562\n",
      "Epoch: 154 | Train Loss: 158.8254544005102 | Valid Loss: 194.85488891601562\n",
      "Epoch: 155 | Train Loss: 147.92360827387597 | Valid Loss: 194.85488891601562\n",
      "Epoch: 156 | Train Loss: 171.70353356186226 | Valid Loss: 194.85488891601562\n",
      "Epoch: 157 | Train Loss: 175.5025964853715 | Valid Loss: 194.85488891601562\n",
      "Epoch: 158 | Train Loss: 146.46981780383052 | Valid Loss: 191.46412658691406\n",
      "Epoch: 159 | Train Loss: 143.73437764693278 | Valid Loss: 191.46412658691406\n",
      "Epoch: 160 | Train Loss: 146.39058202626754 | Valid Loss: 191.46412658691406\n",
      "Epoch: 161 | Train Loss: 129.51487794214364 | Valid Loss: 191.46412658691406\n",
      "Epoch: 162 | Train Loss: 154.23718067091338 | Valid Loss: 191.46412658691406\n",
      "Epoch: 163 | Train Loss: 150.28981236049108 | Valid Loss: 191.46412658691406\n",
      "Epoch: 164 | Train Loss: 188.01096593117228 | Valid Loss: 188.2588348388672\n",
      "Epoch: 165 | Train Loss: 187.7456615214445 | Valid Loss: 188.2588348388672\n",
      "Epoch: 166 | Train Loss: 195.4741263876156 | Valid Loss: 188.2588348388672\n",
      "Epoch: 167 | Train Loss: 207.2942297020737 | Valid Loss: 188.2588348388672\n",
      "Epoch: 168 | Train Loss: 167.58966126733895 | Valid Loss: 188.2588348388672\n",
      "Epoch: 169 | Train Loss: 176.027898048868 | Valid Loss: 188.2588348388672\n",
      "Epoch: 170 | Train Loss: 168.56955329739318 | Valid Loss: 188.2588348388672\n",
      "Epoch: 171 | Train Loss: 178.34200191497803 | Valid Loss: 188.2588348388672\n",
      "Epoch: 172 | Train Loss: 220.72632334183675 | Valid Loss: 182.54869079589844\n",
      "Epoch: 173 | Train Loss: 257.083487374442 | Valid Loss: 182.54869079589844\n",
      "Epoch: 174 | Train Loss: 194.4823770328444 | Valid Loss: 182.54869079589844\n",
      "Epoch: 175 | Train Loss: 181.45991920938297 | Valid Loss: 182.54869079589844\n",
      "Epoch: 176 | Train Loss: 152.14623182647082 | Valid Loss: 182.54869079589844\n",
      "Epoch: 177 | Train Loss: 195.22320930325256 | Valid Loss: 182.54869079589844\n",
      "Epoch: 178 | Train Loss: 294.35370869539224 | Valid Loss: 182.54869079589844\n",
      "Epoch: 179 | Train Loss: 274.3086591448103 | Valid Loss: 182.54869079589844\n",
      "Epoch: 180 | Train Loss: 301.53676792066926 | Valid Loss: 182.54869079589844\n",
      "Epoch: 181 | Train Loss: 223.7448079634686 | Valid Loss: 182.54869079589844\n",
      "Epoch: 182 | Train Loss: 195.2721457967953 | Valid Loss: 182.54869079589844\n",
      "Epoch: 183 | Train Loss: 176.5775205651108 | Valid Loss: 182.54869079589844\n",
      "Epoch: 184 | Train Loss: 175.7100830078125 | Valid Loss: 182.54869079589844\n",
      "Epoch: 185 | Train Loss: 147.8838424098735 | Valid Loss: 182.54869079589844\n",
      "Epoch: 186 | Train Loss: 166.19882155437858 | Valid Loss: 182.54869079589844\n",
      "Epoch: 187 | Train Loss: 194.71087179378588 | Valid Loss: 182.54869079589844\n",
      "Epoch: 188 | Train Loss: 130.35266105496154 | Valid Loss: 182.54869079589844\n",
      "Epoch: 189 | Train Loss: 130.86746215820312 | Valid Loss: 182.54869079589844\n",
      "Epoch: 190 | Train Loss: 191.22568901217713 | Valid Loss: 177.7175750732422\n",
      "Epoch: 191 | Train Loss: 161.6269419144611 | Valid Loss: 177.7175750732422\n",
      "Epoch: 192 | Train Loss: 173.92731148856026 | Valid Loss: 177.7175750732422\n",
      "Epoch: 193 | Train Loss: 143.5522271759656 | Valid Loss: 177.7175750732422\n",
      "Epoch: 194 | Train Loss: 147.6805866786412 | Valid Loss: 177.7175750732422\n",
      "Epoch: 195 | Train Loss: 140.35635858652543 | Valid Loss: 177.7175750732422\n",
      "Epoch: 196 | Train Loss: 136.82810724998006 | Valid Loss: 177.7175750732422\n",
      "Epoch: 197 | Train Loss: 159.24272280323262 | Valid Loss: 177.7175750732422\n",
      "Epoch: 198 | Train Loss: 125.55351685504525 | Valid Loss: 172.68075561523438\n",
      "Epoch: 199 | Train Loss: 127.129099787498 | Valid Loss: 172.68075561523438\n",
      "Epoch: 200 | Train Loss: 134.26910883066606 | Valid Loss: 172.68075561523438\n",
      "Epoch: 201 | Train Loss: 135.95699773515975 | Valid Loss: 172.68075561523438\n",
      "Epoch: 202 | Train Loss: 113.17997780624701 | Valid Loss: 172.68075561523438\n",
      "Epoch: 203 | Train Loss: 123.02040240229393 | Valid Loss: 172.68075561523438\n",
      "Epoch: 204 | Train Loss: 123.22411642269212 | Valid Loss: 172.68075561523438\n",
      "Epoch: 205 | Train Loss: 147.509239975287 | Valid Loss: 172.68075561523438\n",
      "Epoch: 206 | Train Loss: 192.59700821857064 | Valid Loss: 172.68075561523438\n",
      "Epoch: 207 | Train Loss: 168.8883729272959 | Valid Loss: 172.68075561523438\n",
      "Epoch: 208 | Train Loss: 188.51761362503987 | Valid Loss: 172.68075561523438\n",
      "Epoch: 209 | Train Loss: 176.5924584524972 | Valid Loss: 172.68075561523438\n",
      "Epoch: 210 | Train Loss: 175.2610204268475 | Valid Loss: 172.68075561523438\n",
      "Epoch: 211 | Train Loss: 160.82906014578683 | Valid Loss: 172.68075561523438\n",
      "Epoch: 212 | Train Loss: 153.2851098508251 | Valid Loss: 172.68075561523438\n",
      "Epoch: 213 | Train Loss: 175.40839915372888 | Valid Loss: 172.68075561523438\n",
      "Epoch: 214 | Train Loss: 175.81055399836328 | Valid Loss: 172.68075561523438\n",
      "Epoch: 215 | Train Loss: 183.0003677290313 | Valid Loss: 172.68075561523438\n",
      "Epoch: 216 | Train Loss: 164.3163565810846 | Valid Loss: 172.68075561523438\n",
      "Epoch: 217 | Train Loss: 188.81729624222737 | Valid Loss: 172.68075561523438\n",
      "Epoch: 218 | Train Loss: 152.104426169882 | Valid Loss: 172.68075561523438\n",
      "Epoch: 219 | Train Loss: 159.5468824736926 | Valid Loss: 172.68075561523438\n"
     ]
    },
    {
     "name": "stdout",
     "output_type": "stream",
     "text": [
      "Epoch: 220 | Train Loss: 167.36201336919044 | Valid Loss: 172.68075561523438\n",
      "Epoch: 221 | Train Loss: 171.3050185223015 | Valid Loss: 172.68075561523438\n",
      "Epoch: 222 | Train Loss: 137.2573024204799 | Valid Loss: 172.68075561523438\n",
      "Epoch: 223 | Train Loss: 162.60741541336995 | Valid Loss: 172.68075561523438\n",
      "Epoch: 224 | Train Loss: 143.56324402166874 | Valid Loss: 172.68075561523438\n",
      "Epoch: 225 | Train Loss: 142.20476874526665 | Valid Loss: 172.68075561523438\n",
      "Epoch: 226 | Train Loss: 144.14681197185905 | Valid Loss: 172.68075561523438\n",
      "Epoch: 227 | Train Loss: 158.22171830157845 | Valid Loss: 172.68075561523438\n",
      "Epoch: 228 | Train Loss: 131.87291608537947 | Valid Loss: 172.68075561523438\n",
      "Epoch: 229 | Train Loss: 314.16031319754467 | Valid Loss: 172.68075561523438\n",
      "Epoch: 230 | Train Loss: 280.93201306401465 | Valid Loss: 172.68075561523438\n",
      "Epoch: 231 | Train Loss: 284.55378326104614 | Valid Loss: 172.68075561523438\n",
      "Epoch: 232 | Train Loss: 193.269005600287 | Valid Loss: 172.68075561523438\n",
      "Epoch: 233 | Train Loss: 150.895751953125 | Valid Loss: 172.68075561523438\n",
      "Epoch: 234 | Train Loss: 149.85033922779317 | Valid Loss: 172.68075561523438\n",
      "Epoch: 235 | Train Loss: 146.75028524593432 | Valid Loss: 172.68075561523438\n",
      "Epoch: 236 | Train Loss: 141.05326500717476 | Valid Loss: 172.68075561523438\n",
      "Epoch: 237 | Train Loss: 133.39932531240035 | Valid Loss: 172.68075561523438\n",
      "Epoch: 238 | Train Loss: 146.65954340720663 | Valid Loss: 172.68075561523438\n",
      "Epoch: 239 | Train Loss: 193.2853001185826 | Valid Loss: 172.68075561523438\n",
      "Epoch: 240 | Train Loss: 196.85298623844068 | Valid Loss: 172.68075561523438\n",
      "Epoch: 241 | Train Loss: 197.72887669777384 | Valid Loss: 172.68075561523438\n",
      "Epoch: 242 | Train Loss: 224.9493476711974 | Valid Loss: 172.68075561523438\n",
      "Epoch: 243 | Train Loss: 222.66225822604432 | Valid Loss: 172.68075561523438\n",
      "Epoch: 244 | Train Loss: 178.95939137984294 | Valid Loss: 172.68075561523438\n",
      "Epoch: 245 | Train Loss: 150.731830207669 | Valid Loss: 172.68075561523438\n",
      "Epoch: 246 | Train Loss: 135.4864350143744 | Valid Loss: 172.68075561523438\n",
      "Epoch: 247 | Train Loss: 125.06689577686544 | Valid Loss: 172.68075561523438\n",
      "Epoch: 248 | Train Loss: 196.16824153977998 | Valid Loss: 172.68075561523438\n",
      "Epoch: 249 | Train Loss: 184.46219814066984 | Valid Loss: 172.68075561523438\n",
      "Epoch: 250 | Train Loss: 196.36753845214844 | Valid Loss: 172.68075561523438\n",
      "Epoch: 251 | Train Loss: 131.47645942532287 | Valid Loss: 172.68075561523438\n",
      "Epoch: 252 | Train Loss: 125.13855572136082 | Valid Loss: 172.68075561523438\n",
      "Epoch: 253 | Train Loss: 124.47392054966518 | Valid Loss: 172.68075561523438\n",
      "Epoch: 254 | Train Loss: 136.8445096697126 | Valid Loss: 172.68075561523438\n",
      "Epoch: 255 | Train Loss: 137.79310639050541 | Valid Loss: 172.68075561523438\n",
      "Epoch: 256 | Train Loss: 140.21692657470703 | Valid Loss: 172.68075561523438\n",
      "Epoch: 257 | Train Loss: 105.16891479492188 | Valid Loss: 172.68075561523438\n",
      "Epoch: 258 | Train Loss: 134.72085368876554 | Valid Loss: 172.68075561523438\n",
      "Epoch: 259 | Train Loss: 135.24096555125956 | Valid Loss: 172.68075561523438\n",
      "Epoch: 260 | Train Loss: 118.45348996532206 | Valid Loss: 172.68075561523438\n",
      "Epoch: 261 | Train Loss: 149.74386565539302 | Valid Loss: 172.68075561523438\n",
      "Epoch: 262 | Train Loss: 123.47082628522601 | Valid Loss: 172.68075561523438\n"
     ]
    }
   ],
   "source": [
    "go = GraphOperator(config=training_config)\n",
    "go.train(X_train, y_train, model_config=model_config)"
   ]
  },
  {
   "cell_type": "markdown",
   "id": "medical-malawi",
   "metadata": {},
   "source": [
    "Let's get predictions, then calculate prediction errors for the training and testing subsets:"
   ]
  },
  {
   "cell_type": "code",
   "execution_count": 8,
   "id": "extended-charlotte",
   "metadata": {},
   "outputs": [
    {
     "name": "stdout",
     "output_type": "stream",
     "text": [
      "Test Set: R2 = 0.18519368963827088, MAE = 9.106616592407228\n",
      "Train Set: R2 = 0.6523856649656592, MAE = 6.182180023193361\n"
     ]
    }
   ],
   "source": [
    "y_train_pred = go.use(X_train)\n",
    "y_test_pred = go.use(X_test)\n",
    "\n",
    "mae_test = median_absolute_error(y_test, y_test_pred)\n",
    "r2_test = r2_score(y_test, y_test_pred)\n",
    "\n",
    "mae_train = median_absolute_error(y_train, y_train_pred)\n",
    "r2_train = r2_score(y_train, y_train_pred)\n",
    "\n",
    "print('Test Set: R2 = {}, MAE = {}'.format(r2_test, mae_test))\n",
    "print('Train Set: R2 = {}, MAE = {}'.format(r2_train, mae_train))"
   ]
  },
  {
   "cell_type": "markdown",
   "id": "secret-stomach",
   "metadata": {},
   "source": [
    "And let's plot our results:"
   ]
  },
  {
   "cell_type": "code",
   "execution_count": 9,
   "id": "second-rocket",
   "metadata": {},
   "outputs": [
    {
     "data": {
      "image/png": "[encoded data removed]",
      "text/plain": [
       "<Figure size 432x288 with 1 Axes>"
      ]
     },
     "metadata": {
      "needs_background": "light"
     },
     "output_type": "display_data"
    }
   ],
   "source": [
    "plt.title('Predicted MON vs. Experimental MON')\n",
    "plt.xlabel('Experimental Value')\n",
    "plt.ylabel('Predicted Value')\n",
    "plt.scatter(y_train, y_train_pred, color='blue', label='Train')\n",
    "plt.scatter(y_test, y_test_pred, color='red', label='Test')\n",
    "plt.legend(loc='upper left')\n",
    "plt.show()"
   ]
  },
  {
   "cell_type": "code",
   "execution_count": null,
   "id": "official-array",
   "metadata": {},
   "outputs": [],
   "source": []
  }
 ],
 "metadata": {
  "kernelspec": {
   "display_name": "Python 3",
   "language": "python",
   "name": "python3"
  },
  "language_info": {
   "codemirror_mode": {
    "name": "ipython",
    "version": 3
   },
   "file_extension": ".py",
   "mimetype": "text/x-python",
   "name": "python",
   "nbconvert_exporter": "python",
   "pygments_lexer": "ipython3",
   "version": "3.8.8"
  }
 },
 "nbformat": 4,
 "nbformat_minor": 5
}
