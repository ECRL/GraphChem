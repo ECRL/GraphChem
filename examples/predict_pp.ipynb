{
 "cells": [
  {
   "cell_type": "markdown",
   "id": "trained-creature",
   "metadata": {},
   "source": [
    "First, let's import everything we need, and load some pour point data:"
   ]
  },
  {
   "cell_type": "code",
   "execution_count": 1,
   "id": "alternative-bearing",
   "metadata": {},
   "outputs": [],
   "source": [
    "# Import the Graph Operator - handles data preparation, model creation/recall, hand-off of data to model\n",
    "from graphchem import GraphOperator"
   ]
  },
  {
   "cell_type": "code",
   "execution_count": 2,
   "id": "helpful-biology",
   "metadata": {},
   "outputs": [],
   "source": [
    "# Other dependencies are for data segmentation, set metric calculations, plotting\n",
    "from sklearn.model_selection import train_test_split\n",
    "from sklearn.metrics import median_absolute_error, r2_score\n",
    "from matplotlib import pyplot as plt"
   ]
  },
  {
   "cell_type": "code",
   "execution_count": 3,
   "id": "union-drilling",
   "metadata": {},
   "outputs": [
    {
     "name": "stdout",
     "output_type": "stream",
     "text": [
      "['CCCCCCCCC=CCCCCCCCC(=O)OC(C)C', 'CCCCCCCCC=CCCCCCCCC(=O)OCC(C)C', 'CCCCCCCCC=CCCCCCCCC(=O)OCC(CC)CCCC'] \n",
      " [[-21.0], [-50.0], [-35.0]]\n"
     ]
    }
   ],
   "source": [
    "# Load some pour point data\n",
    "from graphchem.datasets import load_pp\n",
    "smiles, pp = load_pp()\n",
    "print(smiles[:3], '\\n', pp[:3])"
   ]
  },
  {
   "cell_type": "code",
   "execution_count": 4,
   "id": "revolutionary-admission",
   "metadata": {},
   "outputs": [
    {
     "name": "stdout",
     "output_type": "stream",
     "text": [
      "32 32 9 9\n"
     ]
    }
   ],
   "source": [
    "# Create training, testing subsets\n",
    "X_train, X_test, y_train, y_test = train_test_split(\n",
    "    smiles, pp, test_size=0.20, random_state=42\n",
    ")\n",
    "print(len(X_train), len(y_train), len(X_test), len(y_test))"
   ]
  },
  {
   "cell_type": "markdown",
   "id": "european-diversity",
   "metadata": {},
   "source": [
    "We need to set up some variables for our training process (i.e. hyper-parameters). In the future, these will be tunable to reduce model error."
   ]
  },
  {
   "cell_type": "code",
   "execution_count": 5,
   "id": "mobile-prevention",
   "metadata": {},
   "outputs": [],
   "source": [
    "training_config = {\n",
    "    'task': 'graph',\n",
    "    'valid_size': 0.2,\n",
    "    'valid_epoch_iter': 1,\n",
    "    'valid_patience': 64,\n",
    "    'batch_size': 4,\n",
    "    'learning_rate': 0.001,\n",
    "    'lr_decay': 0.000001,\n",
    "    'epochs': 500,\n",
    "    'verbose': 1\n",
    "}"
   ]
  },
  {
   "cell_type": "markdown",
   "id": "lyric-frank",
   "metadata": {},
   "source": [
    "We also need to define our model's architecture:"
   ]
  },
  {
   "cell_type": "code",
   "execution_count": 6,
   "id": "precise-queens",
   "metadata": {},
   "outputs": [],
   "source": [
    "model_config = {\n",
    "    'n_messages': 2,\n",
    "    'n_hidden': 3,\n",
    "    'hidden_msg_dim': 128,\n",
    "    'hidden_dim': 256,\n",
    "    'dropout': 0.01\n",
    "}"
   ]
  },
  {
   "cell_type": "markdown",
   "id": "linear-spider",
   "metadata": {},
   "source": [
    "Now let's initialize the Graph Operator, and train our model:"
   ]
  },
  {
   "cell_type": "code",
   "execution_count": 7,
   "id": "matched-incentive",
   "metadata": {},
   "outputs": [
    {
     "name": "stderr",
     "output_type": "stream",
     "text": [
      "/Users/tjkessler/anaconda3/envs/torch_geometric/lib/python3.8/site-packages/graphchem-1.0.0-py3.8.egg/graphchem/operator.py:43: UserWarning: device config value not found: default value set, cpu\n",
      "  warnings.warn(\n"
     ]
    },
    {
     "name": "stdout",
     "output_type": "stream",
     "text": [
      "Epoch: 0 | Train Loss: 13819.887529296875 | Valid Loss: 385.61236572265625\n",
      "Epoch: 1 | Train Loss: 1543.607085571289 | Valid Loss: 385.61236572265625\n",
      "Epoch: 2 | Train Loss: 1161.2882153320313 | Valid Loss: 326.286376953125\n",
      "Epoch: 3 | Train Loss: 1002.4380056762695 | Valid Loss: 315.2456970214844\n",
      "Epoch: 4 | Train Loss: 550.4060812377929 | Valid Loss: 315.2456970214844\n",
      "Epoch: 5 | Train Loss: 553.314892578125 | Valid Loss: 285.99298095703125\n",
      "Epoch: 6 | Train Loss: 436.01831298828125 | Valid Loss: 271.89947509765625\n",
      "Epoch: 7 | Train Loss: 407.17805419921876 | Valid Loss: 268.2984313964844\n",
      "Epoch: 8 | Train Loss: 427.598349609375 | Valid Loss: 232.1194610595703\n",
      "Epoch: 9 | Train Loss: 409.78496337890624 | Valid Loss: 187.05465698242188\n",
      "Epoch: 10 | Train Loss: 447.6933253479004 | Valid Loss: 187.05465698242188\n",
      "Epoch: 11 | Train Loss: 505.8014880371094 | Valid Loss: 187.05465698242188\n",
      "Epoch: 12 | Train Loss: 351.2637002468109 | Valid Loss: 187.05465698242188\n",
      "Epoch: 13 | Train Loss: 337.1736981201172 | Valid Loss: 160.3616485595703\n",
      "Epoch: 14 | Train Loss: 397.0383544921875 | Valid Loss: 160.3616485595703\n",
      "Epoch: 15 | Train Loss: 304.28005859375 | Valid Loss: 160.05650329589844\n",
      "Epoch: 16 | Train Loss: 329.92335260145364 | Valid Loss: 136.07717895507812\n",
      "Epoch: 17 | Train Loss: 291.6793349695206 | Valid Loss: 136.07717895507812\n",
      "Epoch: 18 | Train Loss: 277.8915826416016 | Valid Loss: 112.5330810546875\n",
      "Epoch: 19 | Train Loss: 289.5161358642578 | Valid Loss: 112.5330810546875\n",
      "Epoch: 20 | Train Loss: 259.73503540039064 | Valid Loss: 109.16786193847656\n",
      "Epoch: 21 | Train Loss: 370.70509155273436 | Valid Loss: 109.16786193847656\n",
      "Epoch: 22 | Train Loss: 280.34177551269534 | Valid Loss: 109.16786193847656\n",
      "Epoch: 23 | Train Loss: 282.79444213867185 | Valid Loss: 109.16786193847656\n",
      "Epoch: 24 | Train Loss: 267.77705749511716 | Valid Loss: 109.16786193847656\n",
      "Epoch: 25 | Train Loss: 351.00596939086915 | Valid Loss: 106.57547760009766\n",
      "Epoch: 26 | Train Loss: 288.43962516784666 | Valid Loss: 106.57547760009766\n",
      "Epoch: 27 | Train Loss: 274.7177074432373 | Valid Loss: 106.57547760009766\n",
      "Epoch: 28 | Train Loss: 239.838271484375 | Valid Loss: 106.57547760009766\n",
      "Epoch: 29 | Train Loss: 239.7530502319336 | Valid Loss: 106.57547760009766\n",
      "Epoch: 30 | Train Loss: 238.00300170898439 | Valid Loss: 106.57547760009766\n",
      "Epoch: 31 | Train Loss: 535.774532867074 | Valid Loss: 106.57547760009766\n",
      "Epoch: 32 | Train Loss: 381.04759521484374 | Valid Loss: 106.57547760009766\n",
      "Epoch: 33 | Train Loss: 268.3904266357422 | Valid Loss: 106.57547760009766\n",
      "Epoch: 34 | Train Loss: 242.0337226867676 | Valid Loss: 106.57547760009766\n",
      "Epoch: 35 | Train Loss: 266.85116313934327 | Valid Loss: 106.57547760009766\n",
      "Epoch: 36 | Train Loss: 225.98502770245076 | Valid Loss: 106.57547760009766\n",
      "Epoch: 37 | Train Loss: 261.3131817626953 | Valid Loss: 106.57547760009766\n",
      "Epoch: 38 | Train Loss: 468.61527770996094 | Valid Loss: 106.57547760009766\n",
      "Epoch: 39 | Train Loss: 228.90658966064453 | Valid Loss: 106.57547760009766\n",
      "Epoch: 40 | Train Loss: 244.5579461669922 | Valid Loss: 106.57547760009766\n",
      "Epoch: 41 | Train Loss: 355.7554614257813 | Valid Loss: 106.57547760009766\n",
      "Epoch: 42 | Train Loss: 358.09045303344726 | Valid Loss: 106.57547760009766\n",
      "Epoch: 43 | Train Loss: 347.94518798828125 | Valid Loss: 106.57547760009766\n",
      "Epoch: 44 | Train Loss: 299.45304050445554 | Valid Loss: 106.57547760009766\n",
      "Epoch: 45 | Train Loss: 310.4782287597656 | Valid Loss: 106.57547760009766\n",
      "Epoch: 46 | Train Loss: 231.6381361961365 | Valid Loss: 106.57547760009766\n",
      "Epoch: 47 | Train Loss: 245.05107536315919 | Valid Loss: 106.57547760009766\n",
      "Epoch: 48 | Train Loss: 258.6877966308594 | Valid Loss: 106.57547760009766\n",
      "Epoch: 49 | Train Loss: 287.76390533447267 | Valid Loss: 106.57547760009766\n",
      "Epoch: 50 | Train Loss: 441.35236083984375 | Valid Loss: 106.57547760009766\n",
      "Epoch: 51 | Train Loss: 319.69295806884764 | Valid Loss: 106.57547760009766\n",
      "Epoch: 52 | Train Loss: 217.8673982000351 | Valid Loss: 106.57547760009766\n",
      "Epoch: 53 | Train Loss: 216.31797119140626 | Valid Loss: 106.57547760009766\n",
      "Epoch: 54 | Train Loss: 241.82584701538087 | Valid Loss: 106.57547760009766\n",
      "Epoch: 55 | Train Loss: 294.2922680664062 | Valid Loss: 106.57547760009766\n",
      "Epoch: 56 | Train Loss: 218.52789536476135 | Valid Loss: 106.57547760009766\n",
      "Epoch: 57 | Train Loss: 240.5107713317871 | Valid Loss: 106.57547760009766\n",
      "Epoch: 58 | Train Loss: 260.3727087402344 | Valid Loss: 106.57547760009766\n",
      "Epoch: 59 | Train Loss: 343.11415496826174 | Valid Loss: 106.57547760009766\n",
      "Epoch: 60 | Train Loss: 309.03089447021483 | Valid Loss: 106.57547760009766\n",
      "Epoch: 61 | Train Loss: 223.0988903808594 | Valid Loss: 106.57547760009766\n",
      "Epoch: 62 | Train Loss: 261.57563415527346 | Valid Loss: 105.799560546875\n",
      "Epoch: 63 | Train Loss: 219.85623306274414 | Valid Loss: 105.799560546875\n",
      "Epoch: 64 | Train Loss: 244.18273605346678 | Valid Loss: 105.799560546875\n",
      "Epoch: 65 | Train Loss: 220.19238105773925 | Valid Loss: 105.799560546875\n",
      "Epoch: 66 | Train Loss: 221.68250518798828 | Valid Loss: 105.799560546875\n",
      "Epoch: 67 | Train Loss: 202.59208572387695 | Valid Loss: 105.799560546875\n",
      "Epoch: 68 | Train Loss: 237.19349609375 | Valid Loss: 105.799560546875\n",
      "Epoch: 69 | Train Loss: 248.895435035564 | Valid Loss: 105.799560546875\n",
      "Epoch: 70 | Train Loss: 186.16200635910033 | Valid Loss: 105.799560546875\n",
      "Epoch: 71 | Train Loss: 208.91519561767578 | Valid Loss: 105.799560546875\n",
      "Epoch: 72 | Train Loss: 196.68437377929686 | Valid Loss: 105.799560546875\n",
      "Epoch: 73 | Train Loss: 315.04124513447283 | Valid Loss: 105.799560546875\n",
      "Epoch: 74 | Train Loss: 343.91212646484377 | Valid Loss: 105.799560546875\n",
      "Epoch: 75 | Train Loss: 270.0116033935547 | Valid Loss: 105.799560546875\n",
      "Epoch: 76 | Train Loss: 272.8898097229004 | Valid Loss: 105.799560546875\n",
      "Epoch: 77 | Train Loss: 213.54961242675782 | Valid Loss: 105.799560546875\n",
      "Epoch: 78 | Train Loss: 203.5508820438385 | Valid Loss: 105.799560546875\n",
      "Epoch: 79 | Train Loss: 247.53881713867187 | Valid Loss: 105.799560546875\n",
      "Epoch: 80 | Train Loss: 180.90042388916015 | Valid Loss: 105.799560546875\n",
      "Epoch: 81 | Train Loss: 216.86944427490235 | Valid Loss: 104.52898406982422\n",
      "Epoch: 82 | Train Loss: 214.8147930675745 | Valid Loss: 90.26136779785156\n",
      "Epoch: 83 | Train Loss: 207.00930694580077 | Valid Loss: 90.26136779785156\n",
      "Epoch: 84 | Train Loss: 366.240905418396 | Valid Loss: 90.26136779785156\n",
      "Epoch: 85 | Train Loss: 231.24237800598144 | Valid Loss: 90.26136779785156\n",
      "Epoch: 86 | Train Loss: 256.1460308837891 | Valid Loss: 90.26136779785156\n",
      "Epoch: 87 | Train Loss: 259.7196257019043 | Valid Loss: 90.26136779785156\n",
      "Epoch: 88 | Train Loss: 240.4019453239441 | Valid Loss: 90.26136779785156\n",
      "Epoch: 89 | Train Loss: 191.05045995235443 | Valid Loss: 90.26136779785156\n",
      "Epoch: 90 | Train Loss: 245.98901306152345 | Valid Loss: 90.26136779785156\n",
      "Epoch: 91 | Train Loss: 168.45119445800782 | Valid Loss: 90.26136779785156\n",
      "Epoch: 92 | Train Loss: 155.52287384033204 | Valid Loss: 90.26136779785156\n",
      "Epoch: 93 | Train Loss: 193.68757766723633 | Valid Loss: 90.26136779785156\n",
      "Epoch: 94 | Train Loss: 180.74374404907226 | Valid Loss: 90.26136779785156\n",
      "Epoch: 95 | Train Loss: 180.94273864746094 | Valid Loss: 90.26136779785156\n",
      "Epoch: 96 | Train Loss: 230.98342346191407 | Valid Loss: 90.26136779785156\n",
      "Epoch: 97 | Train Loss: 209.61491943359374 | Valid Loss: 90.26136779785156\n",
      "Epoch: 98 | Train Loss: 210.05403930664062 | Valid Loss: 90.26136779785156\n",
      "Epoch: 99 | Train Loss: 292.46679443359375 | Valid Loss: 90.26136779785156\n",
      "Epoch: 100 | Train Loss: 300.04375999450684 | Valid Loss: 90.26136779785156\n",
      "Epoch: 101 | Train Loss: 214.12017944335938 | Valid Loss: 90.26136779785156\n",
      "Epoch: 102 | Train Loss: 181.426492729187 | Valid Loss: 90.26136779785156\n",
      "Epoch: 103 | Train Loss: 223.35990966796874 | Valid Loss: 90.26136779785156\n",
      "Epoch: 104 | Train Loss: 241.05054299592973 | Valid Loss: 90.26136779785156\n",
      "Epoch: 105 | Train Loss: 202.30836097717284 | Valid Loss: 90.26136779785156\n",
      "Epoch: 106 | Train Loss: 200.71531742095948 | Valid Loss: 90.26136779785156\n",
      "Epoch: 107 | Train Loss: 185.05071899414062 | Valid Loss: 90.26136779785156\n",
      "Epoch: 108 | Train Loss: 181.98985531806946 | Valid Loss: 90.26136779785156\n",
      "Epoch: 109 | Train Loss: 142.91312103271486 | Valid Loss: 90.26136779785156\n",
      "Epoch: 110 | Train Loss: 232.33038330078125 | Valid Loss: 90.26136779785156\n"
     ]
    },
    {
     "name": "stdout",
     "output_type": "stream",
     "text": [
      "Epoch: 111 | Train Loss: 202.75973876953125 | Valid Loss: 90.26136779785156\n",
      "Epoch: 112 | Train Loss: 316.7098861694336 | Valid Loss: 90.26136779785156\n",
      "Epoch: 113 | Train Loss: 223.45381958007812 | Valid Loss: 90.26136779785156\n",
      "Epoch: 114 | Train Loss: 266.0832080078125 | Valid Loss: 90.26136779785156\n",
      "Epoch: 115 | Train Loss: 263.34074340820314 | Valid Loss: 90.26136779785156\n",
      "Epoch: 116 | Train Loss: 221.32594299316406 | Valid Loss: 90.26136779785156\n",
      "Epoch: 117 | Train Loss: 189.69965087890625 | Valid Loss: 90.26136779785156\n",
      "Epoch: 118 | Train Loss: 150.04395690917968 | Valid Loss: 90.26136779785156\n",
      "Epoch: 119 | Train Loss: 178.40983795166017 | Valid Loss: 90.26136779785156\n",
      "Epoch: 120 | Train Loss: 177.18627710342406 | Valid Loss: 90.26136779785156\n",
      "Epoch: 121 | Train Loss: 175.01228729248047 | Valid Loss: 90.26136779785156\n",
      "Epoch: 122 | Train Loss: 155.92603225708007 | Valid Loss: 90.26136779785156\n",
      "Epoch: 123 | Train Loss: 173.45693734906615 | Valid Loss: 90.26136779785156\n",
      "Epoch: 124 | Train Loss: 154.78791778564454 | Valid Loss: 90.26136779785156\n",
      "Epoch: 125 | Train Loss: 173.51882873535158 | Valid Loss: 90.26136779785156\n",
      "Epoch: 126 | Train Loss: 160.78392768859862 | Valid Loss: 90.26136779785156\n",
      "Epoch: 127 | Train Loss: 162.129931640625 | Valid Loss: 90.26136779785156\n",
      "Epoch: 128 | Train Loss: 182.44203536987305 | Valid Loss: 90.26136779785156\n",
      "Epoch: 129 | Train Loss: 166.88216499328612 | Valid Loss: 90.26136779785156\n",
      "Epoch: 130 | Train Loss: 177.0228598022461 | Valid Loss: 90.26136779785156\n",
      "Epoch: 131 | Train Loss: 195.85949768066405 | Valid Loss: 90.26136779785156\n",
      "Epoch: 132 | Train Loss: 187.77281188964844 | Valid Loss: 90.26136779785156\n",
      "Epoch: 133 | Train Loss: 204.39114840984345 | Valid Loss: 90.26136779785156\n",
      "Epoch: 134 | Train Loss: 187.3514562988281 | Valid Loss: 90.26136779785156\n",
      "Epoch: 135 | Train Loss: 151.7830368041992 | Valid Loss: 90.26136779785156\n",
      "Epoch: 136 | Train Loss: 201.0490574645996 | Valid Loss: 90.26136779785156\n",
      "Epoch: 137 | Train Loss: 239.9684912109375 | Valid Loss: 90.26136779785156\n",
      "Epoch: 138 | Train Loss: 314.08147094726564 | Valid Loss: 90.26136779785156\n",
      "Epoch: 139 | Train Loss: 344.440029296875 | Valid Loss: 90.26136779785156\n",
      "Epoch: 140 | Train Loss: 395.316748046875 | Valid Loss: 90.26136779785156\n",
      "Epoch: 141 | Train Loss: 280.4471436214447 | Valid Loss: 90.26136779785156\n",
      "Epoch: 142 | Train Loss: 178.7431674194336 | Valid Loss: 90.26136779785156\n",
      "Epoch: 143 | Train Loss: 208.21800872802734 | Valid Loss: 90.26136779785156\n",
      "Epoch: 144 | Train Loss: 198.20787108659744 | Valid Loss: 90.26136779785156\n",
      "Epoch: 145 | Train Loss: 169.7885894393921 | Valid Loss: 90.26136779785156\n",
      "Epoch: 146 | Train Loss: 219.61534790039062 | Valid Loss: 90.26136779785156\n"
     ]
    }
   ],
   "source": [
    "go = GraphOperator(config=training_config)\n",
    "go.train(X_train, y_train, model_config=model_config)"
   ]
  },
  {
   "cell_type": "markdown",
   "id": "medical-malawi",
   "metadata": {},
   "source": [
    "Let's get predictions, then calculate prediction errors for the training and testing subsets:"
   ]
  },
  {
   "cell_type": "code",
   "execution_count": 8,
   "id": "extended-charlotte",
   "metadata": {},
   "outputs": [
    {
     "name": "stdout",
     "output_type": "stream",
     "text": [
      "Test Set: R2 = -2.2293098693011455, MAE = 29.346386909484863\n",
      "Train Set: R2 = 0.37168279831790674, MAE = 6.6721649169921875\n"
     ]
    }
   ],
   "source": [
    "y_train_pred = go.use(X_train)\n",
    "y_test_pred = go.use(X_test)\n",
    "\n",
    "mae_test = median_absolute_error(y_test, y_test_pred)\n",
    "r2_test = r2_score(y_test, y_test_pred)\n",
    "\n",
    "mae_train = median_absolute_error(y_train, y_train_pred)\n",
    "r2_train = r2_score(y_train, y_train_pred)\n",
    "\n",
    "print('Test Set: R2 = {}, MAE = {}'.format(r2_test, mae_test))\n",
    "print('Train Set: R2 = {}, MAE = {}'.format(r2_train, mae_train))"
   ]
  },
  {
   "cell_type": "markdown",
   "id": "secret-stomach",
   "metadata": {},
   "source": [
    "And let's plot our results:"
   ]
  },
  {
   "cell_type": "code",
   "execution_count": 9,
   "id": "second-rocket",
   "metadata": {},
   "outputs": [
    {
     "data": {
      "image/png": "[encoded data removed]",
      "text/plain": [
       "<Figure size 432x288 with 1 Axes>"
      ]
     },
     "metadata": {
      "needs_background": "light"
     },
     "output_type": "display_data"
    }
   ],
   "source": [
    "plt.title('Predicted Pour Point vs. Experimental Pour Point')\n",
    "plt.xlabel('Experimental Value')\n",
    "plt.ylabel('Predicted Value')\n",
    "plt.scatter(y_train, y_train_pred, color='blue', label='Train')\n",
    "plt.scatter(y_test, y_test_pred, color='red', label='Test')\n",
    "plt.legend(loc='upper left')\n",
    "plt.show()"
   ]
  },
  {
   "cell_type": "code",
   "execution_count": null,
   "id": "official-array",
   "metadata": {},
   "outputs": [],
   "source": []
  }
 ],
 "metadata": {
  "kernelspec": {
   "display_name": "Python 3",
   "language": "python",
   "name": "python3"
  },
  "language_info": {
   "codemirror_mode": {
    "name": "ipython",
    "version": 3
   },
   "file_extension": ".py",
   "mimetype": "text/x-python",
   "name": "python",
   "nbconvert_exporter": "python",
   "pygments_lexer": "ipython3",
   "version": "3.8.8"
  }
 },
 "nbformat": 4,
 "nbformat_minor": 5
}
