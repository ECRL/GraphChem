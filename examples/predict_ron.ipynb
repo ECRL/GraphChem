{
 "cells": [
  {
   "cell_type": "markdown",
   "id": "trained-creature",
   "metadata": {},
   "source": [
    "First, let's import everything we need, and load some RON data:"
   ]
  },
  {
   "cell_type": "code",
   "execution_count": 1,
   "id": "alternative-bearing",
   "metadata": {},
   "outputs": [],
   "source": [
    "# Import the Graph Operator - handles data preparation, model creation/recall, hand-off of data to model\n",
    "from graphchem import GraphOperator"
   ]
  },
  {
   "cell_type": "code",
   "execution_count": 2,
   "id": "helpful-biology",
   "metadata": {},
   "outputs": [],
   "source": [
    "# Other dependencies are for data segmentation, set metric calculations, plotting\n",
    "from sklearn.model_selection import train_test_split\n",
    "from sklearn.metrics import median_absolute_error, r2_score\n",
    "from matplotlib import pyplot as plt"
   ]
  },
  {
   "cell_type": "code",
   "execution_count": 3,
   "id": "union-drilling",
   "metadata": {},
   "outputs": [
    {
     "name": "stdout",
     "output_type": "stream",
     "text": [
      "['CCCCO', 'CCO', 'CO'] \n",
      " [[98.0], [109.0], [109.0]]\n"
     ]
    }
   ],
   "source": [
    "# Load some RON data\n",
    "from graphchem.datasets import load_ron\n",
    "smiles, ron = load_ron()\n",
    "print(smiles[:3], '\\n', ron[:3])"
   ]
  },
  {
   "cell_type": "code",
   "execution_count": 4,
   "id": "revolutionary-admission",
   "metadata": {},
   "outputs": [
    {
     "name": "stdout",
     "output_type": "stream",
     "text": [
      "246 246 62 62\n"
     ]
    }
   ],
   "source": [
    "# Create training, testing subsets\n",
    "X_train, X_test, y_train, y_test = train_test_split(\n",
    "    smiles, ron, test_size=0.20, random_state=42\n",
    ")\n",
    "print(len(X_train), len(y_train), len(X_test), len(y_test))"
   ]
  },
  {
   "cell_type": "markdown",
   "id": "european-diversity",
   "metadata": {},
   "source": [
    "We need to set up some variables for our training process (i.e. hyper-parameters). In the future, these will be tunable to reduce model error."
   ]
  },
  {
   "cell_type": "code",
   "execution_count": 5,
   "id": "mobile-prevention",
   "metadata": {},
   "outputs": [],
   "source": [
    "training_config = {\n",
    "    'task': 'graph',\n",
    "    'valid_size': 0.2,\n",
    "    'valid_epoch_iter': 1,\n",
    "    'valid_patience': 64,\n",
    "    'batch_size': 32,\n",
    "    'learning_rate': 0.001,\n",
    "    'lr_decay': 0.0000001,\n",
    "    'epochs': 500,\n",
    "    'verbose': 1\n",
    "}"
   ]
  },
  {
   "cell_type": "markdown",
   "id": "lyric-frank",
   "metadata": {},
   "source": [
    "We also need to define our model's architecture:"
   ]
  },
  {
   "cell_type": "code",
   "execution_count": 6,
   "id": "precise-queens",
   "metadata": {},
   "outputs": [],
   "source": [
    "model_config = {\n",
    "    'n_messages': 2,\n",
    "    'n_hidden': 3,\n",
    "    'hidden_msg_dim': 128,\n",
    "    'hidden_dim': 256,\n",
    "    'dropout': 0.01\n",
    "}"
   ]
  },
  {
   "cell_type": "markdown",
   "id": "linear-spider",
   "metadata": {},
   "source": [
    "Now let's initialize the Graph Operator, and train our model:"
   ]
  },
  {
   "cell_type": "code",
   "execution_count": 7,
   "id": "matched-incentive",
   "metadata": {},
   "outputs": [
    {
     "name": "stderr",
     "output_type": "stream",
     "text": [
      "/Users/tjkessler/anaconda3/envs/torch_geometric/lib/python3.8/site-packages/graphchem-1.0.0-py3.8.egg/graphchem/operator.py:43: UserWarning: device config value not found: default value set, cpu\n",
      "  warnings.warn(\n"
     ]
    },
    {
     "name": "stdout",
     "output_type": "stream",
     "text": [
      "Epoch: 0 | Train Loss: 3174.829612264828 | Valid Loss: 861.7907104492188\n",
      "Epoch: 1 | Train Loss: 1165.079440369898 | Valid Loss: 642.6224975585938\n",
      "Epoch: 2 | Train Loss: 919.4843127192283 | Valid Loss: 606.8648071289062\n",
      "Epoch: 3 | Train Loss: 865.5933146574059 | Valid Loss: 606.8648071289062\n",
      "Epoch: 4 | Train Loss: 733.4801448899873 | Valid Loss: 606.8648071289062\n",
      "Epoch: 5 | Train Loss: 836.0291237344547 | Valid Loss: 606.8648071289062\n",
      "Epoch: 6 | Train Loss: 740.8376016422194 | Valid Loss: 528.0057983398438\n",
      "Epoch: 7 | Train Loss: 825.9645156860352 | Valid Loss: 528.0057983398438\n",
      "Epoch: 8 | Train Loss: 787.7918375754844 | Valid Loss: 493.9334716796875\n",
      "Epoch: 9 | Train Loss: 759.6290544782366 | Valid Loss: 493.9334716796875\n",
      "Epoch: 10 | Train Loss: 748.4509165238361 | Valid Loss: 488.15765380859375\n",
      "Epoch: 11 | Train Loss: 627.990590621014 | Valid Loss: 423.5652770996094\n",
      "Epoch: 12 | Train Loss: 636.7110844826211 | Valid Loss: 423.5652770996094\n",
      "Epoch: 13 | Train Loss: 598.5416228625239 | Valid Loss: 423.5652770996094\n",
      "Epoch: 14 | Train Loss: 613.3430723852041 | Valid Loss: 423.5652770996094\n",
      "Epoch: 15 | Train Loss: 683.613243881537 | Valid Loss: 423.5652770996094\n",
      "Epoch: 16 | Train Loss: 587.1252179827009 | Valid Loss: 423.5652770996094\n",
      "Epoch: 17 | Train Loss: 589.4523502272002 | Valid Loss: 393.77130126953125\n",
      "Epoch: 18 | Train Loss: 588.5132109972895 | Valid Loss: 393.77130126953125\n",
      "Epoch: 19 | Train Loss: 676.644023038903 | Valid Loss: 393.77130126953125\n",
      "Epoch: 20 | Train Loss: 635.1581782126914 | Valid Loss: 393.77130126953125\n",
      "Epoch: 21 | Train Loss: 585.8317148636798 | Valid Loss: 378.8221740722656\n",
      "Epoch: 22 | Train Loss: 589.7908761160714 | Valid Loss: 378.8221740722656\n",
      "Epoch: 23 | Train Loss: 557.4084972459443 | Valid Loss: 378.2353820800781\n",
      "Epoch: 24 | Train Loss: 577.753640311105 | Valid Loss: 378.2353820800781\n",
      "Epoch: 25 | Train Loss: 594.3038065384845 | Valid Loss: 378.2353820800781\n",
      "Epoch: 26 | Train Loss: 516.3155305823501 | Valid Loss: 378.2353820800781\n",
      "Epoch: 27 | Train Loss: 522.066208352848 | Valid Loss: 378.2353820800781\n",
      "Epoch: 28 | Train Loss: 564.4588710239956 | Valid Loss: 378.2353820800781\n",
      "Epoch: 29 | Train Loss: 612.1962871940768 | Valid Loss: 373.810791015625\n",
      "Epoch: 30 | Train Loss: 586.8662595165019 | Valid Loss: 334.33233642578125\n",
      "Epoch: 31 | Train Loss: 616.3288499481824 | Valid Loss: 334.33233642578125\n",
      "Epoch: 32 | Train Loss: 945.6487314652423 | Valid Loss: 334.33233642578125\n",
      "Epoch: 33 | Train Loss: 576.4852867904974 | Valid Loss: 334.33233642578125\n",
      "Epoch: 34 | Train Loss: 707.4289127272002 | Valid Loss: 334.33233642578125\n",
      "Epoch: 35 | Train Loss: 681.2081977688537 | Valid Loss: 334.33233642578125\n",
      "Epoch: 36 | Train Loss: 532.627421476403 | Valid Loss: 334.33233642578125\n",
      "Epoch: 37 | Train Loss: 496.5041136449697 | Valid Loss: 334.33233642578125\n",
      "Epoch: 38 | Train Loss: 584.5957380022321 | Valid Loss: 334.33233642578125\n",
      "Epoch: 39 | Train Loss: 638.6883848540637 | Valid Loss: 334.33233642578125\n",
      "Epoch: 40 | Train Loss: 613.7279044170768 | Valid Loss: 334.33233642578125\n",
      "Epoch: 41 | Train Loss: 542.1570297552615 | Valid Loss: 316.7162170410156\n",
      "Epoch: 42 | Train Loss: 527.9340683294803 | Valid Loss: 316.7162170410156\n",
      "Epoch: 43 | Train Loss: 523.5386240433673 | Valid Loss: 316.7162170410156\n",
      "Epoch: 44 | Train Loss: 548.7326747349331 | Valid Loss: 316.7162170410156\n",
      "Epoch: 45 | Train Loss: 425.9553473336356 | Valid Loss: 316.7162170410156\n",
      "Epoch: 46 | Train Loss: 462.06511205556444 | Valid Loss: 316.7162170410156\n",
      "Epoch: 47 | Train Loss: 554.3467759112923 | Valid Loss: 298.5162353515625\n",
      "Epoch: 48 | Train Loss: 508.324909443758 | Valid Loss: 298.5162353515625\n",
      "Epoch: 49 | Train Loss: 566.2160345583546 | Valid Loss: 298.5162353515625\n",
      "Epoch: 50 | Train Loss: 524.9372652014907 | Valid Loss: 298.5162353515625\n",
      "Epoch: 51 | Train Loss: 440.15050646723535 | Valid Loss: 256.30816650390625\n",
      "Epoch: 52 | Train Loss: 393.409846091757 | Valid Loss: 256.30816650390625\n",
      "Epoch: 53 | Train Loss: 391.59756158322705 | Valid Loss: 256.30816650390625\n",
      "Epoch: 54 | Train Loss: 529.606284628109 | Valid Loss: 256.30816650390625\n",
      "Epoch: 55 | Train Loss: 555.082829689493 | Valid Loss: 256.30816650390625\n",
      "Epoch: 56 | Train Loss: 468.112194761938 | Valid Loss: 256.30816650390625\n",
      "Epoch: 57 | Train Loss: 455.17700818120215 | Valid Loss: 256.30816650390625\n",
      "Epoch: 58 | Train Loss: 479.13646869270167 | Valid Loss: 256.30816650390625\n",
      "Epoch: 59 | Train Loss: 429.4512970593511 | Valid Loss: 256.30816650390625\n",
      "Epoch: 60 | Train Loss: 397.08473267847177 | Valid Loss: 255.9878692626953\n",
      "Epoch: 61 | Train Loss: 387.7729230608259 | Valid Loss: 217.40382385253906\n",
      "Epoch: 62 | Train Loss: 354.1513763739138 | Valid Loss: 217.40382385253906\n",
      "Epoch: 63 | Train Loss: 400.88927288444677 | Valid Loss: 217.40382385253906\n",
      "Epoch: 64 | Train Loss: 365.74069151586417 | Valid Loss: 217.40382385253906\n",
      "Epoch: 65 | Train Loss: 429.75236713642977 | Valid Loss: 217.40382385253906\n",
      "Epoch: 66 | Train Loss: 420.08562235929526 | Valid Loss: 217.40382385253906\n",
      "Epoch: 67 | Train Loss: 351.3112137463628 | Valid Loss: 217.40382385253906\n",
      "Epoch: 68 | Train Loss: 386.4879928900271 | Valid Loss: 217.40382385253906\n",
      "Epoch: 69 | Train Loss: 391.84568568638394 | Valid Loss: 217.40382385253906\n",
      "Epoch: 70 | Train Loss: 334.0803337875678 | Valid Loss: 217.40382385253906\n",
      "Epoch: 71 | Train Loss: 318.24014095384246 | Valid Loss: 217.40382385253906\n",
      "Epoch: 72 | Train Loss: 496.4323506257972 | Valid Loss: 217.40382385253906\n",
      "Epoch: 73 | Train Loss: 354.254568294603 | Valid Loss: 217.40382385253906\n",
      "Epoch: 74 | Train Loss: 360.2265525350765 | Valid Loss: 217.40382385253906\n",
      "Epoch: 75 | Train Loss: 370.7223199338329 | Valid Loss: 217.40382385253906\n",
      "Epoch: 76 | Train Loss: 582.7534142319037 | Valid Loss: 217.40382385253906\n",
      "Epoch: 77 | Train Loss: 532.9770588777503 | Valid Loss: 217.40382385253906\n",
      "Epoch: 78 | Train Loss: 431.3198209490095 | Valid Loss: 217.40382385253906\n",
      "Epoch: 79 | Train Loss: 465.6301705496652 | Valid Loss: 217.40382385253906\n",
      "Epoch: 80 | Train Loss: 465.18363672373243 | Valid Loss: 217.40382385253906\n",
      "Epoch: 81 | Train Loss: 433.5047470404177 | Valid Loss: 217.40382385253906\n",
      "Epoch: 82 | Train Loss: 349.3746817452567 | Valid Loss: 217.40382385253906\n",
      "Epoch: 83 | Train Loss: 384.66331528644173 | Valid Loss: 217.40382385253906\n",
      "Epoch: 84 | Train Loss: 363.7462687589684 | Valid Loss: 217.40382385253906\n",
      "Epoch: 85 | Train Loss: 321.6268763639489 | Valid Loss: 217.40382385253906\n",
      "Epoch: 86 | Train Loss: 307.5936151621293 | Valid Loss: 217.40382385253906\n",
      "Epoch: 87 | Train Loss: 282.68215693259725 | Valid Loss: 217.40382385253906\n",
      "Epoch: 88 | Train Loss: 285.6412266322545 | Valid Loss: 217.40382385253906\n",
      "Epoch: 89 | Train Loss: 339.40743956273917 | Valid Loss: 217.40382385253906\n",
      "Epoch: 90 | Train Loss: 329.0954932387994 | Valid Loss: 217.40382385253906\n",
      "Epoch: 91 | Train Loss: 375.71920028997926 | Valid Loss: 217.40382385253906\n",
      "Epoch: 92 | Train Loss: 386.3555332105987 | Valid Loss: 217.40382385253906\n",
      "Epoch: 93 | Train Loss: 388.7947101203763 | Valid Loss: 217.40382385253906\n",
      "Epoch: 94 | Train Loss: 401.4485075035874 | Valid Loss: 217.40382385253906\n",
      "Epoch: 95 | Train Loss: 302.75096005809553 | Valid Loss: 217.40382385253906\n",
      "Epoch: 96 | Train Loss: 293.74421108012297 | Valid Loss: 217.40382385253906\n",
      "Epoch: 97 | Train Loss: 266.1963334375498 | Valid Loss: 217.40382385253906\n",
      "Epoch: 98 | Train Loss: 287.75993463944417 | Valid Loss: 217.40382385253906\n",
      "Epoch: 99 | Train Loss: 293.1120480907207 | Valid Loss: 217.40382385253906\n",
      "Epoch: 100 | Train Loss: 278.4419301869918 | Valid Loss: 217.40382385253906\n",
      "Epoch: 101 | Train Loss: 324.58081552933675 | Valid Loss: 217.40382385253906\n",
      "Epoch: 102 | Train Loss: 338.9477389588648 | Valid Loss: 217.40382385253906\n",
      "Epoch: 103 | Train Loss: 343.6114719935826 | Valid Loss: 217.40382385253906\n",
      "Epoch: 104 | Train Loss: 327.8980513592156 | Valid Loss: 217.40382385253906\n",
      "Epoch: 105 | Train Loss: 359.2619261449697 | Valid Loss: 217.40382385253906\n",
      "Epoch: 106 | Train Loss: 292.36931251992985 | Valid Loss: 217.40382385253906\n",
      "Epoch: 107 | Train Loss: 291.7846682023029 | Valid Loss: 217.40382385253906\n",
      "Epoch: 108 | Train Loss: 295.9383560492068 | Valid Loss: 217.40382385253906\n",
      "Epoch: 109 | Train Loss: 280.39716572664224 | Valid Loss: 217.40382385253906\n"
     ]
    },
    {
     "name": "stdout",
     "output_type": "stream",
     "text": [
      "Epoch: 110 | Train Loss: 283.08971389459106 | Valid Loss: 217.40382385253906\n",
      "Epoch: 111 | Train Loss: 410.0002963007713 | Valid Loss: 217.40382385253906\n",
      "Epoch: 112 | Train Loss: 321.802279102559 | Valid Loss: 217.40382385253906\n",
      "Epoch: 113 | Train Loss: 300.93630358637597 | Valid Loss: 217.40382385253906\n",
      "Epoch: 114 | Train Loss: 412.57696470922355 | Valid Loss: 217.40382385253906\n",
      "Epoch: 115 | Train Loss: 321.3737487792969 | Valid Loss: 217.40382385253906\n",
      "Epoch: 116 | Train Loss: 264.23513420260684 | Valid Loss: 217.40382385253906\n",
      "Epoch: 117 | Train Loss: 252.81046641602808 | Valid Loss: 217.40382385253906\n",
      "Epoch: 118 | Train Loss: 241.752338020169 | Valid Loss: 217.40382385253906\n",
      "Epoch: 119 | Train Loss: 271.69659579530054 | Valid Loss: 217.40382385253906\n",
      "Epoch: 120 | Train Loss: 278.50880650111606 | Valid Loss: 217.40382385253906\n",
      "Epoch: 121 | Train Loss: 345.0726100376674 | Valid Loss: 217.40382385253906\n",
      "Epoch: 122 | Train Loss: 271.3999652473294 | Valid Loss: 217.40382385253906\n",
      "Epoch: 123 | Train Loss: 336.35366198481347 | Valid Loss: 217.40382385253906\n",
      "Epoch: 124 | Train Loss: 394.5597596460459 | Valid Loss: 217.40382385253906\n",
      "Epoch: 125 | Train Loss: 324.04534818688217 | Valid Loss: 217.40382385253906\n"
     ]
    }
   ],
   "source": [
    "go = GraphOperator(config=training_config)\n",
    "go.train(X_train, y_train, model_config=model_config)"
   ]
  },
  {
   "cell_type": "markdown",
   "id": "medical-malawi",
   "metadata": {},
   "source": [
    "Let's get predictions, then calculate prediction errors for the training and testing subsets:"
   ]
  },
  {
   "cell_type": "code",
   "execution_count": 8,
   "id": "extended-charlotte",
   "metadata": {},
   "outputs": [
    {
     "name": "stdout",
     "output_type": "stream",
     "text": [
      "Test Set: R2 = 0.2753019245810443, MAE = 14.342121124267578\n",
      "Train Set: R2 = 0.4598423831563342, MAE = 9.118066406250001\n"
     ]
    }
   ],
   "source": [
    "y_train_pred = go.use(X_train)\n",
    "y_test_pred = go.use(X_test)\n",
    "\n",
    "mae_test = median_absolute_error(y_test, y_test_pred)\n",
    "r2_test = r2_score(y_test, y_test_pred)\n",
    "\n",
    "mae_train = median_absolute_error(y_train, y_train_pred)\n",
    "r2_train = r2_score(y_train, y_train_pred)\n",
    "\n",
    "print('Test Set: R2 = {}, MAE = {}'.format(r2_test, mae_test))\n",
    "print('Train Set: R2 = {}, MAE = {}'.format(r2_train, mae_train))"
   ]
  },
  {
   "cell_type": "markdown",
   "id": "secret-stomach",
   "metadata": {},
   "source": [
    "And let's plot our results:"
   ]
  },
  {
   "cell_type": "code",
   "execution_count": 9,
   "id": "second-rocket",
   "metadata": {},
   "outputs": [
    {
     "data": {
      "image/png": "[encoded data removed]",
      "text/plain": [
       "<Figure size 432x288 with 1 Axes>"
      ]
     },
     "metadata": {
      "needs_background": "light"
     },
     "output_type": "display_data"
    }
   ],
   "source": [
    "plt.title('Predicted RON vs. Experimental RON')\n",
    "plt.xlabel('Experimental Value')\n",
    "plt.ylabel('Predicted Value')\n",
    "plt.scatter(y_train, y_train_pred, color='blue', label='Train')\n",
    "plt.scatter(y_test, y_test_pred, color='red', label='Test')\n",
    "plt.legend(loc='upper left')\n",
    "plt.show()"
   ]
  },
  {
   "cell_type": "code",
   "execution_count": null,
   "id": "official-array",
   "metadata": {},
   "outputs": [],
   "source": []
  }
 ],
 "metadata": {
  "kernelspec": {
   "display_name": "Python 3",
   "language": "python",
   "name": "python3"
  },
  "language_info": {
   "codemirror_mode": {
    "name": "ipython",
    "version": 3
   },
   "file_extension": ".py",
   "mimetype": "text/x-python",
   "name": "python",
   "nbconvert_exporter": "python",
   "pygments_lexer": "ipython3",
   "version": "3.8.8"
  }
 },
 "nbformat": 4,
 "nbformat_minor": 5
}
